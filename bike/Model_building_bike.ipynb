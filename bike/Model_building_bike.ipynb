{
 "cells": [
  {
   "cell_type": "code",
   "execution_count": 1,
   "id": "8165f824",
   "metadata": {},
   "outputs": [],
   "source": [
    "#importing necessary libraries\n",
    "\n",
    "import pandas as pd\n",
    "import numpy as np\n",
    "import matplotlib.pyplot as plt\n",
    "import seaborn as sns"
   ]
  },
  {
   "cell_type": "code",
   "execution_count": 2,
   "id": "fb5324ec",
   "metadata": {},
   "outputs": [],
   "source": [
    "#reading the dataset\n",
    "data = pd.read_csv(\"Cleaned_bike_data.csv\")"
   ]
  },
  {
   "cell_type": "code",
   "execution_count": 3,
   "id": "6d3a77c2",
   "metadata": {},
   "outputs": [
    {
     "data": {
      "text/html": [
       "<div>\n",
       "<style scoped>\n",
       "    .dataframe tbody tr th:only-of-type {\n",
       "        vertical-align: middle;\n",
       "    }\n",
       "\n",
       "    .dataframe tbody tr th {\n",
       "        vertical-align: top;\n",
       "    }\n",
       "\n",
       "    .dataframe thead th {\n",
       "        text-align: right;\n",
       "    }\n",
       "</style>\n",
       "<table border=\"1\" class=\"dataframe\">\n",
       "  <thead>\n",
       "    <tr style=\"text-align: right;\">\n",
       "      <th></th>\n",
       "      <th>Model</th>\n",
       "      <th>Year</th>\n",
       "      <th>Brand</th>\n",
       "      <th>Kms_driven</th>\n",
       "      <th>Price</th>\n",
       "    </tr>\n",
       "  </thead>\n",
       "  <tbody>\n",
       "    <tr>\n",
       "      <th>0</th>\n",
       "      <td>Honda Activa 5G</td>\n",
       "      <td>2018</td>\n",
       "      <td>Honda</td>\n",
       "      <td>11500</td>\n",
       "      <td>15000.0</td>\n",
       "    </tr>\n",
       "    <tr>\n",
       "      <th>1</th>\n",
       "      <td>Bajaj Dominar 400</td>\n",
       "      <td>2019</td>\n",
       "      <td>Bajaj</td>\n",
       "      <td>21863</td>\n",
       "      <td>155000.0</td>\n",
       "    </tr>\n",
       "    <tr>\n",
       "      <th>2</th>\n",
       "      <td>Royal Enfield Classic 500</td>\n",
       "      <td>2018</td>\n",
       "      <td>Royal Enfield</td>\n",
       "      <td>39000</td>\n",
       "      <td>158000.0</td>\n",
       "    </tr>\n",
       "    <tr>\n",
       "      <th>3</th>\n",
       "      <td>Royal Enfield Classic 500</td>\n",
       "      <td>2018</td>\n",
       "      <td>Royal Enfield</td>\n",
       "      <td>39000</td>\n",
       "      <td>150000.0</td>\n",
       "    </tr>\n",
       "    <tr>\n",
       "      <th>4</th>\n",
       "      <td>TVS Ntorq 125</td>\n",
       "      <td>2020</td>\n",
       "      <td>TVS</td>\n",
       "      <td>5300</td>\n",
       "      <td>31500.0</td>\n",
       "    </tr>\n",
       "  </tbody>\n",
       "</table>\n",
       "</div>"
      ],
      "text/plain": [
       "                       Model  Year          Brand  Kms_driven     Price\n",
       "0            Honda Activa 5G  2018          Honda       11500   15000.0\n",
       "1          Bajaj Dominar 400  2019          Bajaj       21863  155000.0\n",
       "2  Royal Enfield Classic 500  2018  Royal Enfield       39000  158000.0\n",
       "3  Royal Enfield Classic 500  2018  Royal Enfield       39000  150000.0\n",
       "4              TVS Ntorq 125  2020            TVS        5300   31500.0"
      ]
     },
     "execution_count": 3,
     "metadata": {},
     "output_type": "execute_result"
    }
   ],
   "source": [
    "data.head()"
   ]
  },
  {
   "cell_type": "markdown",
   "id": "14fe3a66",
   "metadata": {},
   "source": [
    "## Exploratory Data Analysis\n",
    "\n",
    "Getting insights about the dataset"
   ]
  },
  {
   "cell_type": "code",
   "execution_count": 4,
   "id": "7888a5c4",
   "metadata": {},
   "outputs": [
    {
     "data": {
      "text/plain": [
       "(1056, 5)"
      ]
     },
     "execution_count": 4,
     "metadata": {},
     "output_type": "execute_result"
    }
   ],
   "source": [
    "data.shape"
   ]
  },
  {
   "cell_type": "code",
   "execution_count": 5,
   "id": "e7e93294",
   "metadata": {},
   "outputs": [
    {
     "name": "stdout",
     "output_type": "stream",
     "text": [
      "<class 'pandas.core.frame.DataFrame'>\n",
      "RangeIndex: 1056 entries, 0 to 1055\n",
      "Data columns (total 5 columns):\n",
      " #   Column      Non-Null Count  Dtype  \n",
      "---  ------      --------------  -----  \n",
      " 0   Model       1056 non-null   object \n",
      " 1   Year        1056 non-null   int64  \n",
      " 2   Brand       1056 non-null   object \n",
      " 3   Kms_driven  1056 non-null   int64  \n",
      " 4   Price       1045 non-null   float64\n",
      "dtypes: float64(1), int64(2), object(2)\n",
      "memory usage: 41.4+ KB\n"
     ]
    }
   ],
   "source": [
    "#the columns and their data types\n",
    "data.info()"
   ]
  },
  {
   "cell_type": "code",
   "execution_count": 6,
   "id": "45ef1602",
   "metadata": {},
   "outputs": [
    {
     "data": {
      "text/html": [
       "<div>\n",
       "<style scoped>\n",
       "    .dataframe tbody tr th:only-of-type {\n",
       "        vertical-align: middle;\n",
       "    }\n",
       "\n",
       "    .dataframe tbody tr th {\n",
       "        vertical-align: top;\n",
       "    }\n",
       "\n",
       "    .dataframe thead th {\n",
       "        text-align: right;\n",
       "    }\n",
       "</style>\n",
       "<table border=\"1\" class=\"dataframe\">\n",
       "  <thead>\n",
       "    <tr style=\"text-align: right;\">\n",
       "      <th></th>\n",
       "      <th>Year</th>\n",
       "      <th>Kms_driven</th>\n",
       "      <th>Price</th>\n",
       "    </tr>\n",
       "  </thead>\n",
       "  <tbody>\n",
       "    <tr>\n",
       "      <th>count</th>\n",
       "      <td>1056.000000</td>\n",
       "      <td>1056.000000</td>\n",
       "      <td>1.045000e+03</td>\n",
       "    </tr>\n",
       "    <tr>\n",
       "      <th>mean</th>\n",
       "      <td>2016.340909</td>\n",
       "      <td>24832.904356</td>\n",
       "      <td>8.879740e+04</td>\n",
       "    </tr>\n",
       "    <tr>\n",
       "      <th>std</th>\n",
       "      <td>4.049372</td>\n",
       "      <td>41306.513345</td>\n",
       "      <td>8.495054e+04</td>\n",
       "    </tr>\n",
       "    <tr>\n",
       "      <th>min</th>\n",
       "      <td>1995.000000</td>\n",
       "      <td>0.000000</td>\n",
       "      <td>7.000000e+03</td>\n",
       "    </tr>\n",
       "    <tr>\n",
       "      <th>25%</th>\n",
       "      <td>2014.000000</td>\n",
       "      <td>9000.000000</td>\n",
       "      <td>4.000000e+04</td>\n",
       "    </tr>\n",
       "    <tr>\n",
       "      <th>50%</th>\n",
       "      <td>2017.000000</td>\n",
       "      <td>19550.000000</td>\n",
       "      <td>7.000000e+04</td>\n",
       "    </tr>\n",
       "    <tr>\n",
       "      <th>75%</th>\n",
       "      <td>2019.000000</td>\n",
       "      <td>32000.000000</td>\n",
       "      <td>1.150000e+05</td>\n",
       "    </tr>\n",
       "    <tr>\n",
       "      <th>max</th>\n",
       "      <td>2022.000000</td>\n",
       "      <td>962720.000000</td>\n",
       "      <td>1.599999e+06</td>\n",
       "    </tr>\n",
       "  </tbody>\n",
       "</table>\n",
       "</div>"
      ],
      "text/plain": [
       "              Year     Kms_driven         Price\n",
       "count  1056.000000    1056.000000  1.045000e+03\n",
       "mean   2016.340909   24832.904356  8.879740e+04\n",
       "std       4.049372   41306.513345  8.495054e+04\n",
       "min    1995.000000       0.000000  7.000000e+03\n",
       "25%    2014.000000    9000.000000  4.000000e+04\n",
       "50%    2017.000000   19550.000000  7.000000e+04\n",
       "75%    2019.000000   32000.000000  1.150000e+05\n",
       "max    2022.000000  962720.000000  1.599999e+06"
      ]
     },
     "execution_count": 6,
     "metadata": {},
     "output_type": "execute_result"
    }
   ],
   "source": [
    "#quick summary of the dataset\n",
    "data.describe()"
   ]
  },
  {
   "cell_type": "code",
   "execution_count": 7,
   "id": "385f71a4",
   "metadata": {},
   "outputs": [],
   "source": [
    "pd.set_option('display.float_format', lambda x: '%.3f' % x)"
   ]
  },
  {
   "cell_type": "code",
   "execution_count": 8,
   "id": "4e43a0fa",
   "metadata": {},
   "outputs": [
    {
     "data": {
      "text/plain": [
       "Model          0\n",
       "Year           0\n",
       "Brand          0\n",
       "Kms_driven     0\n",
       "Price         11\n",
       "dtype: int64"
      ]
     },
     "execution_count": 8,
     "metadata": {},
     "output_type": "execute_result"
    }
   ],
   "source": [
    "#checking for null values\n",
    "data.isnull().sum()"
   ]
  },
  {
   "cell_type": "markdown",
   "id": "5ffa2e8d",
   "metadata": {},
   "source": [
    "**There are few missing values in the Price column**\n",
    "\n",
    "\n",
    "We will fix the missing values with median imputation"
   ]
  },
  {
   "cell_type": "code",
   "execution_count": 9,
   "id": "f607876f",
   "metadata": {},
   "outputs": [],
   "source": [
    "data['Price'] = data['Price'].fillna(data['Price'].median())"
   ]
  },
  {
   "cell_type": "code",
   "execution_count": 10,
   "id": "7914fc06",
   "metadata": {},
   "outputs": [
    {
     "data": {
      "text/plain": [
       "Model         0\n",
       "Year          0\n",
       "Brand         0\n",
       "Kms_driven    0\n",
       "Price         0\n",
       "dtype: int64"
      ]
     },
     "execution_count": 10,
     "metadata": {},
     "output_type": "execute_result"
    }
   ],
   "source": [
    "data.isnull().sum()"
   ]
  },
  {
   "cell_type": "code",
   "execution_count": 11,
   "id": "9e3d09d5",
   "metadata": {},
   "outputs": [
    {
     "data": {
      "text/plain": [
       "array(['Honda', 'Bajaj', 'Royal Enfield', 'TVS', 'Hero', 'Harley',\n",
       "       'Yamaha', 'Suzuki', 'KTM', 'Mahindra', 'LML', 'YO Bikes', 'Jawa',\n",
       "       'Ather', 'BMW', 'Yezdi', 'Indian', 'Aprilia', 'UM', 'Hyosung',\n",
       "       'Benelli', 'Kawasaki'], dtype=object)"
      ]
     },
     "execution_count": 11,
     "metadata": {},
     "output_type": "execute_result"
    }
   ],
   "source": [
    "#Having an idea of the brands of the car\n",
    "data.Brand.unique()"
   ]
  },
  {
   "cell_type": "code",
   "execution_count": 12,
   "id": "f9e96d1f",
   "metadata": {},
   "outputs": [
    {
     "data": {
      "text/plain": [
       "22"
      ]
     },
     "execution_count": 12,
     "metadata": {},
     "output_type": "execute_result"
    }
   ],
   "source": [
    "data.Brand.nunique()"
   ]
  },
  {
   "cell_type": "markdown",
   "id": "46c47d21",
   "metadata": {},
   "source": [
    "**There are total 22 unique brands of car in the dataset**"
   ]
  },
  {
   "cell_type": "code",
   "execution_count": 13,
   "id": "03ed3034",
   "metadata": {},
   "outputs": [
    {
     "data": {
      "text/plain": [
       "176"
      ]
     },
     "execution_count": 13,
     "metadata": {},
     "output_type": "execute_result"
    }
   ],
   "source": [
    "data.Model.nunique()"
   ]
  },
  {
   "cell_type": "markdown",
   "id": "24a70b2d",
   "metadata": {},
   "source": [
    "**Total 176 models are persent in the dataset. 'Model' is a categorical variable. We will check how 'Model' affects our target variable i.e., 'Price' and accordingly we will perform some encoding technique to convert them into numeric form.**"
   ]
  },
  {
   "cell_type": "code",
   "execution_count": 14,
   "id": "049abee3",
   "metadata": {},
   "outputs": [
    {
     "data": {
      "text/plain": [
       "962720"
      ]
     },
     "execution_count": 14,
     "metadata": {},
     "output_type": "execute_result"
    }
   ],
   "source": [
    "#Checking for maximum distance driven\n",
    "data.Kms_driven.max()"
   ]
  },
  {
   "cell_type": "code",
   "execution_count": 15,
   "id": "87a2a757",
   "metadata": {},
   "outputs": [
    {
     "data": {
      "text/html": [
       "<div>\n",
       "<style scoped>\n",
       "    .dataframe tbody tr th:only-of-type {\n",
       "        vertical-align: middle;\n",
       "    }\n",
       "\n",
       "    .dataframe tbody tr th {\n",
       "        vertical-align: top;\n",
       "    }\n",
       "\n",
       "    .dataframe thead th {\n",
       "        text-align: right;\n",
       "    }\n",
       "</style>\n",
       "<table border=\"1\" class=\"dataframe\">\n",
       "  <thead>\n",
       "    <tr style=\"text-align: right;\">\n",
       "      <th></th>\n",
       "      <th>Model</th>\n",
       "      <th>Year</th>\n",
       "      <th>Brand</th>\n",
       "      <th>Kms_driven</th>\n",
       "      <th>Price</th>\n",
       "    </tr>\n",
       "  </thead>\n",
       "  <tbody>\n",
       "    <tr>\n",
       "      <th>770</th>\n",
       "      <td>Honda Activa</td>\n",
       "      <td>2014</td>\n",
       "      <td>Honda</td>\n",
       "      <td>962720</td>\n",
       "      <td>35000.000</td>\n",
       "    </tr>\n",
       "  </tbody>\n",
       "</table>\n",
       "</div>"
      ],
      "text/plain": [
       "            Model  Year  Brand  Kms_driven     Price\n",
       "770  Honda Activa  2014  Honda      962720 35000.000"
      ]
     },
     "execution_count": 15,
     "metadata": {},
     "output_type": "execute_result"
    }
   ],
   "source": [
    "data.loc[data['Kms_driven'] == 962720]"
   ]
  },
  {
   "cell_type": "code",
   "execution_count": 16,
   "id": "2f38b46e",
   "metadata": {},
   "outputs": [
    {
     "data": {
      "text/html": [
       "<div>\n",
       "<style scoped>\n",
       "    .dataframe tbody tr th:only-of-type {\n",
       "        vertical-align: middle;\n",
       "    }\n",
       "\n",
       "    .dataframe tbody tr th {\n",
       "        vertical-align: top;\n",
       "    }\n",
       "\n",
       "    .dataframe thead th {\n",
       "        text-align: right;\n",
       "    }\n",
       "</style>\n",
       "<table border=\"1\" class=\"dataframe\">\n",
       "  <thead>\n",
       "    <tr style=\"text-align: right;\">\n",
       "      <th></th>\n",
       "      <th>Year</th>\n",
       "      <th>Kms_driven</th>\n",
       "      <th>Price</th>\n",
       "    </tr>\n",
       "  </thead>\n",
       "  <tbody>\n",
       "    <tr>\n",
       "      <th>count</th>\n",
       "      <td>1056.000</td>\n",
       "      <td>1056.000</td>\n",
       "      <td>1056.000</td>\n",
       "    </tr>\n",
       "    <tr>\n",
       "      <th>mean</th>\n",
       "      <td>2016.341</td>\n",
       "      <td>24832.904</td>\n",
       "      <td>88601.592</td>\n",
       "    </tr>\n",
       "    <tr>\n",
       "      <th>std</th>\n",
       "      <td>4.049</td>\n",
       "      <td>41306.513</td>\n",
       "      <td>84528.079</td>\n",
       "    </tr>\n",
       "    <tr>\n",
       "      <th>min</th>\n",
       "      <td>1995.000</td>\n",
       "      <td>0.000</td>\n",
       "      <td>7000.000</td>\n",
       "    </tr>\n",
       "    <tr>\n",
       "      <th>25%</th>\n",
       "      <td>2014.000</td>\n",
       "      <td>9000.000</td>\n",
       "      <td>40000.000</td>\n",
       "    </tr>\n",
       "    <tr>\n",
       "      <th>50%</th>\n",
       "      <td>2017.000</td>\n",
       "      <td>19550.000</td>\n",
       "      <td>70000.000</td>\n",
       "    </tr>\n",
       "    <tr>\n",
       "      <th>75%</th>\n",
       "      <td>2019.000</td>\n",
       "      <td>32000.000</td>\n",
       "      <td>115000.000</td>\n",
       "    </tr>\n",
       "    <tr>\n",
       "      <th>max</th>\n",
       "      <td>2022.000</td>\n",
       "      <td>962720.000</td>\n",
       "      <td>1599999.000</td>\n",
       "    </tr>\n",
       "  </tbody>\n",
       "</table>\n",
       "</div>"
      ],
      "text/plain": [
       "          Year  Kms_driven       Price\n",
       "count 1056.000    1056.000    1056.000\n",
       "mean  2016.341   24832.904   88601.592\n",
       "std      4.049   41306.513   84528.079\n",
       "min   1995.000       0.000    7000.000\n",
       "25%   2014.000    9000.000   40000.000\n",
       "50%   2017.000   19550.000   70000.000\n",
       "75%   2019.000   32000.000  115000.000\n",
       "max   2022.000  962720.000 1599999.000"
      ]
     },
     "execution_count": 16,
     "metadata": {},
     "output_type": "execute_result"
    }
   ],
   "source": [
    "data.describe()"
   ]
  },
  {
   "cell_type": "code",
   "execution_count": 17,
   "id": "e75085c9",
   "metadata": {},
   "outputs": [
    {
     "data": {
      "text/html": [
       "<div>\n",
       "<style scoped>\n",
       "    .dataframe tbody tr th:only-of-type {\n",
       "        vertical-align: middle;\n",
       "    }\n",
       "\n",
       "    .dataframe tbody tr th {\n",
       "        vertical-align: top;\n",
       "    }\n",
       "\n",
       "    .dataframe thead th {\n",
       "        text-align: right;\n",
       "    }\n",
       "</style>\n",
       "<table border=\"1\" class=\"dataframe\">\n",
       "  <thead>\n",
       "    <tr style=\"text-align: right;\">\n",
       "      <th></th>\n",
       "      <th>Model</th>\n",
       "      <th>Year</th>\n",
       "      <th>Brand</th>\n",
       "      <th>Kms_driven</th>\n",
       "      <th>Price</th>\n",
       "    </tr>\n",
       "  </thead>\n",
       "  <tbody>\n",
       "    <tr>\n",
       "      <th>748</th>\n",
       "      <td>Harley Davidson Street Glide</td>\n",
       "      <td>2016</td>\n",
       "      <td>Harley</td>\n",
       "      <td>43000</td>\n",
       "      <td>1599999.000</td>\n",
       "    </tr>\n",
       "  </tbody>\n",
       "</table>\n",
       "</div>"
      ],
      "text/plain": [
       "                            Model  Year   Brand  Kms_driven       Price\n",
       "748  Harley Davidson Street Glide  2016  Harley       43000 1599999.000"
      ]
     },
     "execution_count": 17,
     "metadata": {},
     "output_type": "execute_result"
    }
   ],
   "source": [
    "data.loc[data['Price'] == 1599999.000]"
   ]
  },
  {
   "cell_type": "markdown",
   "id": "2f2d404c",
   "metadata": {},
   "source": [
    "**Let us plot histogram to get an idea of the distribution of the continuous variables**"
   ]
  },
  {
   "cell_type": "code",
   "execution_count": 18,
   "id": "abf1b696",
   "metadata": {},
   "outputs": [
    {
     "data": {
      "text/plain": [
       "<AxesSubplot: xlabel='Price', ylabel='Count'>"
      ]
     },
     "execution_count": 18,
     "metadata": {},
     "output_type": "execute_result"
    },
    {
     "data": {
      "image/png": "[encoded data removed]",
      "text/plain": [
       "<Figure size 640x480 with 1 Axes>"
      ]
     },
     "metadata": {},
     "output_type": "display_data"
    }
   ],
   "source": [
    "sns.histplot(data['Price'],bins=50)"
   ]
  },
  {
   "cell_type": "code",
   "execution_count": 19,
   "id": "dfcc82a0",
   "metadata": {},
   "outputs": [
    {
     "data": {
      "text/plain": [
       "<AxesSubplot: xlabel='Kms_driven', ylabel='Count'>"
      ]
     },
     "execution_count": 19,
     "metadata": {},
     "output_type": "execute_result"
    },
    {
     "data": {
      "image/png": "[encoded data removed]",
      "text/plain": [
       "<Figure size 640x480 with 1 Axes>"
      ]
     },
     "metadata": {},
     "output_type": "display_data"
    }
   ],
   "source": [
    "sns.histplot(data['Kms_driven'],bins=50)"
   ]
  },
  {
   "cell_type": "code",
   "execution_count": 20,
   "id": "3fbf9138",
   "metadata": {},
   "outputs": [
    {
     "data": {
      "text/plain": [
       "((array([-3.21326575, -2.94925095, -2.80199685, ...,  2.80199685,\n",
       "          2.94925095,  3.21326575]),\n",
       "  array([   7000.,   10000.,   12000., ...,  740000.,  850000., 1599999.])),\n",
       " (64611.41656827169, 88601.59185606061, 0.762714367556189))"
      ]
     },
     "execution_count": 20,
     "metadata": {},
     "output_type": "execute_result"
    },
    {
     "data": {
      "image/png": "[encoded data removed]",
      "text/plain": [
       "<Figure size 640x480 with 1 Axes>"
      ]
     },
     "metadata": {},
     "output_type": "display_data"
    }
   ],
   "source": [
    "# Checking whether data is normally distributed\n",
    "import scipy.stats as stats\n",
    "import pylab\n",
    "stats.probplot(data['Price'], dist = \"norm\", plot = pylab)"
   ]
  },
  {
   "cell_type": "code",
   "execution_count": 21,
   "id": "ed255e14",
   "metadata": {},
   "outputs": [
    {
     "data": {
      "text/plain": [
       "((array([-3.21326575, -2.94925095, -2.80199685, ...,  2.80199685,\n",
       "          2.94925095,  3.21326575]),\n",
       "  array([     0,      0,      0, ..., 241095, 736255, 962720], dtype=int64)),\n",
       " (22726.53457214336, 24832.904356060608, 0.5489949454194479))"
      ]
     },
     "execution_count": 21,
     "metadata": {},
     "output_type": "execute_result"
    },
    {
     "data": {
      "image/png": "[encoded data removed]",
      "text/plain": [
       "<Figure size 640x480 with 1 Axes>"
      ]
     },
     "metadata": {},
     "output_type": "display_data"
    }
   ],
   "source": [
    "stats.probplot(data['Kms_driven'], dist = \"norm\", plot = pylab)"
   ]
  },
  {
   "cell_type": "markdown",
   "id": "51a99c9d",
   "metadata": {},
   "source": [
    "We can observe that the data is not normally distributed and is quite skewed to the right. We will apply some transformation to make the data normally distributed."
   ]
  },
  {
   "cell_type": "code",
   "execution_count": 22,
   "id": "17f3ef0c",
   "metadata": {},
   "outputs": [
    {
     "data": {
      "image/png": "[encoded data removed]",
      "text/plain": [
       "<Figure size 1500x700 with 1 Axes>"
      ]
     },
     "metadata": {},
     "output_type": "display_data"
    }
   ],
   "source": [
    "#Checking relationship of Brand with Price\n",
    "plt.subplots(figsize=(15,7))\n",
    "ax=sns.boxplot(x='Brand',y='Price',data=data)\n",
    "ax.set_xticklabels(ax.get_xticklabels(),rotation=40,ha='right')\n",
    "plt.show()"
   ]
  },
  {
   "cell_type": "markdown",
   "id": "4932749f",
   "metadata": {},
   "source": [
    "From the boxplot, we can observe that few brand like Royal Enfield, Harley have high prices, which makes sense.  "
   ]
  },
  {
   "cell_type": "code",
   "execution_count": 23,
   "id": "2290e4eb",
   "metadata": {},
   "outputs": [
    {
     "data": {
      "image/png": "[encoded data removed]",
      "text/plain": [
       "<Figure size 1000x500 with 1 Axes>"
      ]
     },
     "metadata": {},
     "output_type": "display_data"
    }
   ],
   "source": [
    "#Checking relationship of Year with Price\n",
    "plt.subplots(figsize=(10,5))\n",
    "ax=sns.barplot(x='Year',y='Price',data=data)\n",
    "ax.set_xticklabels(ax.get_xticklabels(),rotation=40,ha='right')\n",
    "plt.show()"
   ]
  },
  {
   "cell_type": "code",
   "execution_count": 24,
   "id": "102e62ad",
   "metadata": {},
   "outputs": [
    {
     "data": {
      "text/plain": [
       "<seaborn.axisgrid.FacetGrid at 0x24b7f6a88b0>"
      ]
     },
     "execution_count": 24,
     "metadata": {},
     "output_type": "execute_result"
    },
    {
     "data": {
      "image/png": "[encoded data removed]",
      "text/plain": [
       "<Figure size 750x500 with 1 Axes>"
      ]
     },
     "metadata": {},
     "output_type": "display_data"
    }
   ],
   "source": [
    "#Checking relationship of kms_driven with Price\n",
    "sns.relplot(x='Kms_driven',y='Price',data=data,height=5,aspect=1.5)"
   ]
  },
  {
   "cell_type": "markdown",
   "id": "3c395ca1",
   "metadata": {},
   "source": [
    "When we buy second hand vehicles, we definetly check for how much distance it is driven. The lesser the distance, the more the price. From the graph as well, we can see the price is higher for less driven bikes."
   ]
  },
  {
   "cell_type": "markdown",
   "id": "22e57323",
   "metadata": {},
   "source": [
    "Boxplot to check the presence of outliers"
   ]
  },
  {
   "cell_type": "code",
   "execution_count": 25,
   "id": "001a92c7",
   "metadata": {},
   "outputs": [
    {
     "data": {
      "text/plain": [
       "<AxesSubplot: >"
      ]
     },
     "execution_count": 25,
     "metadata": {},
     "output_type": "execute_result"
    },
    {
     "data": {
      "image/png": "[encoded data removed]",
      "text/plain": [
       "<Figure size 640x480 with 1 Axes>"
      ]
     },
     "metadata": {},
     "output_type": "display_data"
    }
   ],
   "source": [
    "sns.boxplot(data[\"Price\"])"
   ]
  },
  {
   "cell_type": "code",
   "execution_count": 26,
   "id": "ce22aa54",
   "metadata": {},
   "outputs": [
    {
     "data": {
      "text/plain": [
       "<AxesSubplot: >"
      ]
     },
     "execution_count": 26,
     "metadata": {},
     "output_type": "execute_result"
    },
    {
     "data": {
      "image/png": "[encoded data removed]",
      "text/plain": [
       "<Figure size 640x480 with 1 Axes>"
      ]
     },
     "metadata": {},
     "output_type": "display_data"
    }
   ],
   "source": [
    "sns.boxplot(data[\"Kms_driven\"])"
   ]
  },
  {
   "cell_type": "markdown",
   "id": "336de0bc",
   "metadata": {},
   "source": [
    "As we can see there are outliers in the Price and Kms_driven column, so to fix it we will apply Winsorisation technique."
   ]
  },
  {
   "cell_type": "code",
   "execution_count": 27,
   "id": "02d0c354",
   "metadata": {},
   "outputs": [],
   "source": [
    "IQR_price = data['Price'].quantile(0.75) - data['Price'].quantile(0.25)\n",
    "lower_limit_price = data['Price'].quantile(0.25) - (IQR_price * 1.5)\n",
    "upper_limit_price = data['Price'].quantile(0.75) + (IQR_price * 1.5)"
   ]
  },
  {
   "cell_type": "code",
   "execution_count": 28,
   "id": "b478e580",
   "metadata": {},
   "outputs": [
    {
     "name": "stdout",
     "output_type": "stream",
     "text": [
      "-72500.0\n",
      "227500.0\n"
     ]
    }
   ],
   "source": [
    "print(lower_limit_price)\n",
    "print(upper_limit_price)"
   ]
  },
  {
   "cell_type": "code",
   "execution_count": 29,
   "id": "602f30a8",
   "metadata": {},
   "outputs": [],
   "source": [
    "IQR_kms = data['Kms_driven'].quantile(0.75) - data['Price'].quantile(0.25)\n",
    "lower_limit_kms = data['Kms_driven'].quantile(0.25) - (IQR_kms * 1.5)\n",
    "upper_limit_kms = data['Kms_driven'].quantile(0.75) + (IQR_kms * 1.5)"
   ]
  },
  {
   "cell_type": "code",
   "execution_count": 30,
   "id": "a1b6afe8",
   "metadata": {},
   "outputs": [
    {
     "name": "stdout",
     "output_type": "stream",
     "text": [
      "21000.0\n",
      "20000.0\n"
     ]
    }
   ],
   "source": [
    "print(lower_limit_kms)\n",
    "print(upper_limit_kms)"
   ]
  },
  {
   "cell_type": "code",
   "execution_count": 31,
   "id": "4e9897fd",
   "metadata": {},
   "outputs": [
    {
     "data": {
      "text/plain": [
       "2022"
      ]
     },
     "execution_count": 31,
     "metadata": {},
     "output_type": "execute_result"
    }
   ],
   "source": [
    "from datetime import date\n",
    "todays_date = date.today()\n",
    "todays_date.year"
   ]
  },
  {
   "cell_type": "code",
   "execution_count": 32,
   "id": "8f5fac38",
   "metadata": {},
   "outputs": [],
   "source": [
    "data['Years_used']=todays_date.year - data['Year']"
   ]
  },
  {
   "cell_type": "code",
   "execution_count": 33,
   "id": "69f84064",
   "metadata": {},
   "outputs": [],
   "source": [
    "data.drop(['Year'],axis=1,inplace=True)"
   ]
  },
  {
   "cell_type": "code",
   "execution_count": 34,
   "id": "020d95a2",
   "metadata": {},
   "outputs": [
    {
     "data": {
      "text/html": [
       "<div>\n",
       "<style scoped>\n",
       "    .dataframe tbody tr th:only-of-type {\n",
       "        vertical-align: middle;\n",
       "    }\n",
       "\n",
       "    .dataframe tbody tr th {\n",
       "        vertical-align: top;\n",
       "    }\n",
       "\n",
       "    .dataframe thead th {\n",
       "        text-align: right;\n",
       "    }\n",
       "</style>\n",
       "<table border=\"1\" class=\"dataframe\">\n",
       "  <thead>\n",
       "    <tr style=\"text-align: right;\">\n",
       "      <th></th>\n",
       "      <th>Model</th>\n",
       "      <th>Brand</th>\n",
       "      <th>Kms_driven</th>\n",
       "      <th>Price</th>\n",
       "      <th>Years_used</th>\n",
       "    </tr>\n",
       "  </thead>\n",
       "  <tbody>\n",
       "    <tr>\n",
       "      <th>0</th>\n",
       "      <td>Honda Activa 5G</td>\n",
       "      <td>Honda</td>\n",
       "      <td>11500</td>\n",
       "      <td>15000.000</td>\n",
       "      <td>4</td>\n",
       "    </tr>\n",
       "    <tr>\n",
       "      <th>1</th>\n",
       "      <td>Bajaj Dominar 400</td>\n",
       "      <td>Bajaj</td>\n",
       "      <td>21863</td>\n",
       "      <td>155000.000</td>\n",
       "      <td>3</td>\n",
       "    </tr>\n",
       "    <tr>\n",
       "      <th>2</th>\n",
       "      <td>Royal Enfield Classic 500</td>\n",
       "      <td>Royal Enfield</td>\n",
       "      <td>39000</td>\n",
       "      <td>158000.000</td>\n",
       "      <td>4</td>\n",
       "    </tr>\n",
       "    <tr>\n",
       "      <th>3</th>\n",
       "      <td>Royal Enfield Classic 500</td>\n",
       "      <td>Royal Enfield</td>\n",
       "      <td>39000</td>\n",
       "      <td>150000.000</td>\n",
       "      <td>4</td>\n",
       "    </tr>\n",
       "    <tr>\n",
       "      <th>4</th>\n",
       "      <td>TVS Ntorq 125</td>\n",
       "      <td>TVS</td>\n",
       "      <td>5300</td>\n",
       "      <td>31500.000</td>\n",
       "      <td>2</td>\n",
       "    </tr>\n",
       "  </tbody>\n",
       "</table>\n",
       "</div>"
      ],
      "text/plain": [
       "                       Model          Brand  Kms_driven      Price  Years_used\n",
       "0            Honda Activa 5G          Honda       11500  15000.000           4\n",
       "1          Bajaj Dominar 400          Bajaj       21863 155000.000           3\n",
       "2  Royal Enfield Classic 500  Royal Enfield       39000 158000.000           4\n",
       "3  Royal Enfield Classic 500  Royal Enfield       39000 150000.000           4\n",
       "4              TVS Ntorq 125            TVS        5300  31500.000           2"
      ]
     },
     "execution_count": 34,
     "metadata": {},
     "output_type": "execute_result"
    }
   ],
   "source": [
    "data.head()"
   ]
  },
  {
   "cell_type": "code",
   "execution_count": 35,
   "id": "c0022c16",
   "metadata": {},
   "outputs": [
    {
     "name": "stderr",
     "output_type": "stream",
     "text": [
      "C:\\Users\\excep\\AppData\\Local\\Temp\\ipykernel_22404\\3385634631.py:2: FutureWarning: The default value of numeric_only in DataFrame.corr is deprecated. In a future version, it will default to False. Select only valid columns or specify the value of numeric_only to silence this warning.\n",
      "  sns.heatmap(data.corr(),annot=True,cmap=\"RdYlGn\")\n"
     ]
    },
    {
     "data": {
      "text/plain": [
       "<AxesSubplot: >"
      ]
     },
     "execution_count": 35,
     "metadata": {},
     "output_type": "execute_result"
    },
    {
     "data": {
      "image/png": "[encoded data removed]",
      "text/plain": [
       "<Figure size 640x480 with 2 Axes>"
      ]
     },
     "metadata": {},
     "output_type": "display_data"
    }
   ],
   "source": [
    "#checking the correlation between features\n",
    "sns.heatmap(data.corr(),annot=True,cmap=\"RdYlGn\")"
   ]
  },
  {
   "cell_type": "code",
   "execution_count": 36,
   "id": "ea808abe",
   "metadata": {},
   "outputs": [
    {
     "data": {
      "text/plain": [
       "128"
      ]
     },
     "execution_count": 36,
     "metadata": {},
     "output_type": "execute_result"
    }
   ],
   "source": [
    "#checking for duplicate rows\n",
    "data.duplicated(subset=['Model', 'Years_used', 'Brand', 'Kms_driven']).sum()"
   ]
  },
  {
   "cell_type": "code",
   "execution_count": 37,
   "id": "8d2fa663",
   "metadata": {},
   "outputs": [],
   "source": [
    "#droping duplicates\n",
    "data.drop_duplicates(subset=['Model', 'Years_used', 'Brand', 'Kms_driven'],keep='first', inplace=True, ignore_index=True)"
   ]
  },
  {
   "cell_type": "code",
   "execution_count": 38,
   "id": "59c709b5",
   "metadata": {},
   "outputs": [
    {
     "data": {
      "text/html": [
       "<div>\n",
       "<style scoped>\n",
       "    .dataframe tbody tr th:only-of-type {\n",
       "        vertical-align: middle;\n",
       "    }\n",
       "\n",
       "    .dataframe tbody tr th {\n",
       "        vertical-align: top;\n",
       "    }\n",
       "\n",
       "    .dataframe thead th {\n",
       "        text-align: right;\n",
       "    }\n",
       "</style>\n",
       "<table border=\"1\" class=\"dataframe\">\n",
       "  <thead>\n",
       "    <tr style=\"text-align: right;\">\n",
       "      <th></th>\n",
       "      <th>Model</th>\n",
       "      <th>Brand</th>\n",
       "      <th>Kms_driven</th>\n",
       "      <th>Price</th>\n",
       "      <th>Years_used</th>\n",
       "    </tr>\n",
       "  </thead>\n",
       "  <tbody>\n",
       "    <tr>\n",
       "      <th>114</th>\n",
       "      <td>YO Bikes Yo Smart</td>\n",
       "      <td>YO Bikes</td>\n",
       "      <td>0</td>\n",
       "      <td>56000.000</td>\n",
       "      <td>0</td>\n",
       "    </tr>\n",
       "    <tr>\n",
       "      <th>213</th>\n",
       "      <td>Ather Energy Ather 450</td>\n",
       "      <td>Ather</td>\n",
       "      <td>0</td>\n",
       "      <td>50000.000</td>\n",
       "      <td>0</td>\n",
       "    </tr>\n",
       "    <tr>\n",
       "      <th>429</th>\n",
       "      <td>Aprilia SRV 850 ABS</td>\n",
       "      <td>Aprilia</td>\n",
       "      <td>0</td>\n",
       "      <td>68000.000</td>\n",
       "      <td>0</td>\n",
       "    </tr>\n",
       "    <tr>\n",
       "      <th>876</th>\n",
       "      <td>Bajaj Pulsar 200 NS</td>\n",
       "      <td>Bajaj</td>\n",
       "      <td>0</td>\n",
       "      <td>42000.000</td>\n",
       "      <td>9</td>\n",
       "    </tr>\n",
       "  </tbody>\n",
       "</table>\n",
       "</div>"
      ],
      "text/plain": [
       "                      Model     Brand  Kms_driven     Price  Years_used\n",
       "114       YO Bikes Yo Smart  YO Bikes           0 56000.000           0\n",
       "213  Ather Energy Ather 450     Ather           0 50000.000           0\n",
       "429     Aprilia SRV 850 ABS   Aprilia           0 68000.000           0\n",
       "876     Bajaj Pulsar 200 NS     Bajaj           0 42000.000           9"
      ]
     },
     "execution_count": 38,
     "metadata": {},
     "output_type": "execute_result"
    }
   ],
   "source": [
    "data.loc[data['Kms_driven']==0]"
   ]
  },
  {
   "cell_type": "code",
   "execution_count": 39,
   "id": "fffaf0ec",
   "metadata": {},
   "outputs": [],
   "source": [
    "data.at[114,'Kms_driven']= data.Kms_driven.median()\n",
    "data.at[213,'Kms_driven']= data.Kms_driven.median()\n",
    "data.at[429,'Kms_driven']= data.Kms_driven.median()\n",
    "data.at[876,'Kms_driven']= data.Kms_driven.median()"
   ]
  },
  {
   "cell_type": "code",
   "execution_count": 40,
   "id": "5d96b33a",
   "metadata": {},
   "outputs": [
    {
     "data": {
      "text/html": [
       "<div>\n",
       "<style scoped>\n",
       "    .dataframe tbody tr th:only-of-type {\n",
       "        vertical-align: middle;\n",
       "    }\n",
       "\n",
       "    .dataframe tbody tr th {\n",
       "        vertical-align: top;\n",
       "    }\n",
       "\n",
       "    .dataframe thead th {\n",
       "        text-align: right;\n",
       "    }\n",
       "</style>\n",
       "<table border=\"1\" class=\"dataframe\">\n",
       "  <thead>\n",
       "    <tr style=\"text-align: right;\">\n",
       "      <th></th>\n",
       "      <th>Model</th>\n",
       "      <th>Brand</th>\n",
       "      <th>Kms_driven</th>\n",
       "      <th>Price</th>\n",
       "      <th>Years_used</th>\n",
       "    </tr>\n",
       "  </thead>\n",
       "  <tbody>\n",
       "    <tr>\n",
       "      <th>0</th>\n",
       "      <td>Honda Activa 5G</td>\n",
       "      <td>Honda</td>\n",
       "      <td>11500.000</td>\n",
       "      <td>15000.000</td>\n",
       "      <td>4</td>\n",
       "    </tr>\n",
       "    <tr>\n",
       "      <th>1</th>\n",
       "      <td>Bajaj Dominar 400</td>\n",
       "      <td>Bajaj</td>\n",
       "      <td>21863.000</td>\n",
       "      <td>155000.000</td>\n",
       "      <td>3</td>\n",
       "    </tr>\n",
       "    <tr>\n",
       "      <th>2</th>\n",
       "      <td>Royal Enfield Classic 500</td>\n",
       "      <td>Royal Enfield</td>\n",
       "      <td>39000.000</td>\n",
       "      <td>158000.000</td>\n",
       "      <td>4</td>\n",
       "    </tr>\n",
       "    <tr>\n",
       "      <th>3</th>\n",
       "      <td>TVS Ntorq 125</td>\n",
       "      <td>TVS</td>\n",
       "      <td>5300.000</td>\n",
       "      <td>31500.000</td>\n",
       "      <td>2</td>\n",
       "    </tr>\n",
       "    <tr>\n",
       "      <th>4</th>\n",
       "      <td>Hero Xpulse 200</td>\n",
       "      <td>Hero</td>\n",
       "      <td>400.000</td>\n",
       "      <td>135000.000</td>\n",
       "      <td>0</td>\n",
       "    </tr>\n",
       "  </tbody>\n",
       "</table>\n",
       "</div>"
      ],
      "text/plain": [
       "                       Model          Brand  Kms_driven      Price  Years_used\n",
       "0            Honda Activa 5G          Honda   11500.000  15000.000           4\n",
       "1          Bajaj Dominar 400          Bajaj   21863.000 155000.000           3\n",
       "2  Royal Enfield Classic 500  Royal Enfield   39000.000 158000.000           4\n",
       "3              TVS Ntorq 125            TVS    5300.000  31500.000           2\n",
       "4            Hero Xpulse 200           Hero     400.000 135000.000           0"
      ]
     },
     "execution_count": 40,
     "metadata": {},
     "output_type": "execute_result"
    }
   ],
   "source": [
    "data.head()"
   ]
  },
  {
   "cell_type": "code",
   "execution_count": 41,
   "id": "5b6b96e5",
   "metadata": {},
   "outputs": [],
   "source": [
    "X=data[['Model','Brand','Kms_driven','Years_used']]\n",
    "y=data[['Price']]\n"
   ]
  },
  {
   "cell_type": "code",
   "execution_count": 42,
   "id": "ab142cbc",
   "metadata": {},
   "outputs": [
    {
     "data": {
      "text/plain": [
       "(928, 4)"
      ]
     },
     "execution_count": 42,
     "metadata": {},
     "output_type": "execute_result"
    }
   ],
   "source": [
    "X.shape"
   ]
  },
  {
   "cell_type": "code",
   "execution_count": 43,
   "id": "970c1793",
   "metadata": {},
   "outputs": [
    {
     "data": {
      "text/plain": [
       "(928, 1)"
      ]
     },
     "execution_count": 43,
     "metadata": {},
     "output_type": "execute_result"
    }
   ],
   "source": [
    "y.shape"
   ]
  },
  {
   "cell_type": "markdown",
   "id": "1c9d9f40",
   "metadata": {},
   "source": [
    "### Applying Transformation to make the data normally distributed"
   ]
  },
  {
   "cell_type": "code",
   "execution_count": 44,
   "id": "6b83d544",
   "metadata": {},
   "outputs": [
    {
     "name": "stderr",
     "output_type": "stream",
     "text": [
      "C:\\Users\\excep\\AppData\\Local\\Temp\\ipykernel_22404\\249330477.py:1: SettingWithCopyWarning: \n",
      "A value is trying to be set on a copy of a slice from a DataFrame.\n",
      "Try using .loc[row_indexer,col_indexer] = value instead\n",
      "\n",
      "See the caveats in the documentation: https://pandas.pydata.org/pandas-docs/stable/user_guide/indexing.html#returning-a-view-versus-a-copy\n",
      "  y[\"Log_Price\"] = np.log(y[\"Price\"])\n"
     ]
    }
   ],
   "source": [
    "y[\"Log_Price\"] = np.log(y[\"Price\"])"
   ]
  },
  {
   "cell_type": "code",
   "execution_count": 45,
   "id": "816e031d",
   "metadata": {},
   "outputs": [
    {
     "data": {
      "text/plain": [
       "((array([-3.17598360e+00, -2.90910492e+00, -2.76006552e+00, -2.65489533e+00,\n",
       "         -2.57281102e+00, -2.50509207e+00, -2.44722040e+00, -2.39654187e+00,\n",
       "         -2.35135999e+00, -2.31052235e+00, -2.27320918e+00, -2.23881582e+00,\n",
       "         -2.20688309e+00, -2.17705381e+00, -2.14904443e+00, -2.12262602e+00,\n",
       "         -2.09761094e+00, -2.07384344e+00, -2.05119276e+00, -2.02954802e+00,\n",
       "         -2.00881433e+00, -1.98890986e+00, -1.96976353e+00, -1.95131317e+00,\n",
       "         -1.93350410e+00, -1.91628795e+00, -1.89962173e+00, -1.88346703e+00,\n",
       "         -1.86778942e+00, -1.85255788e+00, -1.83774439e+00, -1.82332353e+00,\n",
       "         -1.80927218e+00, -1.79556922e+00, -1.78219536e+00, -1.76913286e+00,\n",
       "         -1.75636544e+00, -1.74387806e+00, -1.73165684e+00, -1.71968891e+00,\n",
       "         -1.70796234e+00, -1.69646605e+00, -1.68518969e+00, -1.67412363e+00,\n",
       "         -1.66325886e+00, -1.65258695e+00, -1.64210001e+00, -1.63179060e+00,\n",
       "         -1.62165177e+00, -1.61167695e+00, -1.60185996e+00, -1.59219496e+00,\n",
       "         -1.58267644e+00, -1.57329919e+00, -1.56405829e+00, -1.55494904e+00,\n",
       "         -1.54596703e+00, -1.53710803e+00, -1.52836806e+00, -1.51974329e+00,\n",
       "         -1.51123012e+00, -1.50282508e+00, -1.49452489e+00, -1.48632640e+00,\n",
       "         -1.47822662e+00, -1.47022267e+00, -1.46231182e+00, -1.45449143e+00,\n",
       "         -1.44675901e+00, -1.43911213e+00, -1.43154848e+00, -1.42406586e+00,\n",
       "         -1.41666214e+00, -1.40933526e+00, -1.40208327e+00, -1.39490428e+00,\n",
       "         -1.38779646e+00, -1.38075808e+00, -1.37378744e+00, -1.36688292e+00,\n",
       "         -1.36004295e+00, -1.35326603e+00, -1.34655069e+00, -1.33989554e+00,\n",
       "         -1.33329921e+00, -1.32676039e+00, -1.32027780e+00, -1.31385023e+00,\n",
       "         -1.30747649e+00, -1.30115543e+00, -1.29488593e+00, -1.28866692e+00,\n",
       "         -1.28249735e+00, -1.27637622e+00, -1.27030254e+00, -1.26427536e+00,\n",
       "         -1.25829377e+00, -1.25235686e+00, -1.24646376e+00, -1.24061364e+00,\n",
       "         -1.23480568e+00, -1.22903907e+00, -1.22331304e+00, -1.21762684e+00,\n",
       "         -1.21197974e+00, -1.20637103e+00, -1.20080002e+00, -1.19526602e+00,\n",
       "         -1.18976839e+00, -1.18430649e+00, -1.17887969e+00, -1.17348739e+00,\n",
       "         -1.16812900e+00, -1.16280393e+00, -1.15751164e+00, -1.15225157e+00,\n",
       "         -1.14702319e+00, -1.14182598e+00, -1.13665943e+00, -1.13152304e+00,\n",
       "         -1.12641633e+00, -1.12133883e+00, -1.11629008e+00, -1.11126962e+00,\n",
       "         -1.10627702e+00, -1.10131184e+00, -1.09637366e+00, -1.09146207e+00,\n",
       "         -1.08657668e+00, -1.08171708e+00, -1.07688289e+00, -1.07207374e+00,\n",
       "         -1.06728926e+00, -1.06252908e+00, -1.05779286e+00, -1.05308025e+00,\n",
       "         -1.04839092e+00, -1.04372452e+00, -1.03908074e+00, -1.03445926e+00,\n",
       "         -1.02985977e+00, -1.02528197e+00, -1.02072555e+00, -1.01619022e+00,\n",
       "         -1.01167570e+00, -1.00718171e+00, -1.00270796e+00, -9.98254194e-01,\n",
       "         -9.93820142e-01, -9.89405544e-01, -9.85010144e-01, -9.80633692e-01,\n",
       "         -9.76275942e-01, -9.71936654e-01, -9.67615589e-01, -9.63312517e-01,\n",
       "         -9.59027208e-01, -9.54759438e-01, -9.50508988e-01, -9.46275641e-01,\n",
       "         -9.42059185e-01, -9.37859412e-01, -9.33676115e-01, -9.29509094e-01,\n",
       "         -9.25358151e-01, -9.21223092e-01, -9.17103724e-01, -9.12999861e-01,\n",
       "         -9.08911317e-01, -9.04837910e-01, -9.00779461e-01, -8.96735796e-01,\n",
       "         -8.92706740e-01, -8.88692124e-01, -8.84691780e-01, -8.80705544e-01,\n",
       "         -8.76733253e-01, -8.72774749e-01, -8.68829874e-01, -8.64898473e-01,\n",
       "         -8.60980395e-01, -8.57075490e-01, -8.53183610e-01, -8.49304611e-01,\n",
       "         -8.45438348e-01, -8.41584683e-01, -8.37743475e-01, -8.33914588e-01,\n",
       "         -8.30097888e-01, -8.26293242e-01, -8.22500519e-01, -8.18719591e-01,\n",
       "         -8.14950331e-01, -8.11192614e-01, -8.07446316e-01, -8.03711317e-01,\n",
       "         -7.99987496e-01, -7.96274735e-01, -7.92572919e-01, -7.88881931e-01,\n",
       "         -7.85201660e-01, -7.81531993e-01, -7.77872821e-01, -7.74224035e-01,\n",
       "         -7.70585527e-01, -7.66957192e-01, -7.63338927e-01, -7.59730627e-01,\n",
       "         -7.56132192e-01, -7.52543521e-01, -7.48964516e-01, -7.45395079e-01,\n",
       "         -7.41835113e-01, -7.38284525e-01, -7.34743220e-01, -7.31211105e-01,\n",
       "         -7.27688089e-01, -7.24174081e-01, -7.20668994e-01, -7.17172738e-01,\n",
       "         -7.13685226e-01, -7.10206374e-01, -7.06736095e-01, -7.03274307e-01,\n",
       "         -6.99820927e-01, -6.96375872e-01, -6.92939063e-01, -6.89510418e-01,\n",
       "         -6.86089861e-01, -6.82677312e-01, -6.79272694e-01, -6.75875932e-01,\n",
       "         -6.72486951e-01, -6.69105676e-01, -6.65732033e-01, -6.62365950e-01,\n",
       "         -6.59007356e-01, -6.55656179e-01, -6.52312349e-01, -6.48975797e-01,\n",
       "         -6.45646454e-01, -6.42324253e-01, -6.39009125e-01, -6.35701006e-01,\n",
       "         -6.32399829e-01, -6.29105529e-01, -6.25818043e-01, -6.22537306e-01,\n",
       "         -6.19263257e-01, -6.15995831e-01, -6.12734970e-01, -6.09480610e-01,\n",
       "         -6.06232693e-01, -6.02991158e-01, -5.99755947e-01, -5.96527001e-01,\n",
       "         -5.93304263e-01, -5.90087675e-01, -5.86877180e-01, -5.83672724e-01,\n",
       "         -5.80474250e-01, -5.77281703e-01, -5.74095029e-01, -5.70914175e-01,\n",
       "         -5.67739086e-01, -5.64569711e-01, -5.61405996e-01, -5.58247891e-01,\n",
       "         -5.55095344e-01, -5.51948304e-01, -5.48806721e-01, -5.45670545e-01,\n",
       "         -5.42539727e-01, -5.39414218e-01, -5.36293969e-01, -5.33178933e-01,\n",
       "         -5.30069063e-01, -5.26964310e-01, -5.23864629e-01, -5.20769972e-01,\n",
       "         -5.17680296e-01, -5.14595553e-01, -5.11515699e-01, -5.08440689e-01,\n",
       "         -5.05370480e-01, -5.02305027e-01, -4.99244287e-01, -4.96188216e-01,\n",
       "         -4.93136773e-01, -4.90089915e-01, -4.87047600e-01, -4.84009786e-01,\n",
       "         -4.80976432e-01, -4.77947497e-01, -4.74922941e-01, -4.71902723e-01,\n",
       "         -4.68886803e-01, -4.65875143e-01, -4.62867702e-01, -4.59864441e-01,\n",
       "         -4.56865323e-01, -4.53870309e-01, -4.50879360e-01, -4.47892439e-01,\n",
       "         -4.44909509e-01, -4.41930533e-01, -4.38955473e-01, -4.35984293e-01,\n",
       "         -4.33016957e-01, -4.30053429e-01, -4.27093674e-01, -4.24137654e-01,\n",
       "         -4.21185337e-01, -4.18236686e-01, -4.15291667e-01, -4.12350245e-01,\n",
       "         -4.09412387e-01, -4.06478058e-01, -4.03547224e-01, -4.00619853e-01,\n",
       "         -3.97695912e-01, -3.94775366e-01, -3.91858184e-01, -3.88944332e-01,\n",
       "         -3.86033779e-01, -3.83126493e-01, -3.80222442e-01, -3.77321593e-01,\n",
       "         -3.74423916e-01, -3.71529380e-01, -3.68637953e-01, -3.65749605e-01,\n",
       "         -3.62864305e-01, -3.59982023e-01, -3.57102728e-01, -3.54226390e-01,\n",
       "         -3.51352980e-01, -3.48482469e-01, -3.45614825e-01, -3.42750021e-01,\n",
       "         -3.39888028e-01, -3.37028815e-01, -3.34172356e-01, -3.31318620e-01,\n",
       "         -3.28467580e-01, -3.25619207e-01, -3.22773474e-01, -3.19930352e-01,\n",
       "         -3.17089814e-01, -3.14251832e-01, -3.11416379e-01, -3.08583428e-01,\n",
       "         -3.05752951e-01, -3.02924921e-01, -3.00099312e-01, -2.97276097e-01,\n",
       "         -2.94455249e-01, -2.91636743e-01, -2.88820551e-01, -2.86006648e-01,\n",
       "         -2.83195008e-01, -2.80385605e-01, -2.77578414e-01, -2.74773407e-01,\n",
       "         -2.71970562e-01, -2.69169851e-01, -2.66371250e-01, -2.63574733e-01,\n",
       "         -2.60780277e-01, -2.57987855e-01, -2.55197444e-01, -2.52409018e-01,\n",
       "         -2.49622553e-01, -2.46838026e-01, -2.44055411e-01, -2.41274684e-01,\n",
       "         -2.38495822e-01, -2.35718800e-01, -2.32943594e-01, -2.30170182e-01,\n",
       "         -2.27398539e-01, -2.24628642e-01, -2.21860467e-01, -2.19093991e-01,\n",
       "         -2.16329191e-01, -2.13566044e-01, -2.10804526e-01, -2.08044615e-01,\n",
       "         -2.05286288e-01, -2.02529521e-01, -1.99774294e-01, -1.97020581e-01,\n",
       "         -1.94268362e-01, -1.91517614e-01, -1.88768314e-01, -1.86020440e-01,\n",
       "         -1.83273970e-01, -1.80528882e-01, -1.77785153e-01, -1.75042763e-01,\n",
       "         -1.72301688e-01, -1.69561907e-01, -1.66823398e-01, -1.64086140e-01,\n",
       "         -1.61350110e-01, -1.58615288e-01, -1.55881652e-01, -1.53149180e-01,\n",
       "         -1.50417851e-01, -1.47687644e-01, -1.44958537e-01, -1.42230510e-01,\n",
       "         -1.39503540e-01, -1.36777608e-01, -1.34052691e-01, -1.31328770e-01,\n",
       "         -1.28605823e-01, -1.25883828e-01, -1.23162767e-01, -1.20442616e-01,\n",
       "         -1.17723357e-01, -1.15004968e-01, -1.12287429e-01, -1.09570718e-01,\n",
       "         -1.06854816e-01, -1.04139702e-01, -1.01425355e-01, -9.87117558e-02,\n",
       "         -9.59988829e-02, -9.32867164e-02, -9.05752359e-02, -8.78644212e-02,\n",
       "         -8.51542519e-02, -8.24447080e-02, -7.97357693e-02, -7.70274155e-02,\n",
       "         -7.43196267e-02, -7.16123826e-02, -6.89056633e-02, -6.61994488e-02,\n",
       "         -6.34937190e-02, -6.07884539e-02, -5.80836336e-02, -5.53792383e-02,\n",
       "         -5.26752478e-02, -4.99716425e-02, -4.72684024e-02, -4.45655077e-02,\n",
       "         -4.18629385e-02, -3.91606750e-02, -3.64586974e-02, -3.37569861e-02,\n",
       "         -3.10555210e-02, -2.83542826e-02, -2.56532511e-02, -2.29524068e-02,\n",
       "         -2.02517298e-02, -1.75512005e-02, -1.48507993e-02, -1.21505063e-02,\n",
       "         -9.45030193e-03, -6.75016645e-03, -4.05008019e-03, -1.35002345e-03,\n",
       "          1.35002345e-03,  4.05008019e-03,  6.75016645e-03,  9.45030193e-03,\n",
       "          1.21505063e-02,  1.48507993e-02,  1.75512005e-02,  2.02517298e-02,\n",
       "          2.29524068e-02,  2.56532511e-02,  2.83542826e-02,  3.10555210e-02,\n",
       "          3.37569861e-02,  3.64586974e-02,  3.91606750e-02,  4.18629385e-02,\n",
       "          4.45655077e-02,  4.72684024e-02,  4.99716425e-02,  5.26752478e-02,\n",
       "          5.53792383e-02,  5.80836336e-02,  6.07884539e-02,  6.34937190e-02,\n",
       "          6.61994488e-02,  6.89056633e-02,  7.16123826e-02,  7.43196267e-02,\n",
       "          7.70274155e-02,  7.97357693e-02,  8.24447080e-02,  8.51542519e-02,\n",
       "          8.78644212e-02,  9.05752359e-02,  9.32867164e-02,  9.59988829e-02,\n",
       "          9.87117558e-02,  1.01425355e-01,  1.04139702e-01,  1.06854816e-01,\n",
       "          1.09570718e-01,  1.12287429e-01,  1.15004968e-01,  1.17723357e-01,\n",
       "          1.20442616e-01,  1.23162767e-01,  1.25883828e-01,  1.28605823e-01,\n",
       "          1.31328770e-01,  1.34052691e-01,  1.36777608e-01,  1.39503540e-01,\n",
       "          1.42230510e-01,  1.44958537e-01,  1.47687644e-01,  1.50417851e-01,\n",
       "          1.53149180e-01,  1.55881652e-01,  1.58615288e-01,  1.61350110e-01,\n",
       "          1.64086140e-01,  1.66823398e-01,  1.69561907e-01,  1.72301688e-01,\n",
       "          1.75042763e-01,  1.77785153e-01,  1.80528882e-01,  1.83273970e-01,\n",
       "          1.86020440e-01,  1.88768314e-01,  1.91517614e-01,  1.94268362e-01,\n",
       "          1.97020581e-01,  1.99774294e-01,  2.02529521e-01,  2.05286288e-01,\n",
       "          2.08044615e-01,  2.10804526e-01,  2.13566044e-01,  2.16329191e-01,\n",
       "          2.19093991e-01,  2.21860467e-01,  2.24628642e-01,  2.27398539e-01,\n",
       "          2.30170182e-01,  2.32943594e-01,  2.35718800e-01,  2.38495822e-01,\n",
       "          2.41274684e-01,  2.44055411e-01,  2.46838026e-01,  2.49622553e-01,\n",
       "          2.52409018e-01,  2.55197444e-01,  2.57987855e-01,  2.60780277e-01,\n",
       "          2.63574733e-01,  2.66371250e-01,  2.69169851e-01,  2.71970562e-01,\n",
       "          2.74773407e-01,  2.77578414e-01,  2.80385605e-01,  2.83195008e-01,\n",
       "          2.86006648e-01,  2.88820551e-01,  2.91636743e-01,  2.94455249e-01,\n",
       "          2.97276097e-01,  3.00099312e-01,  3.02924921e-01,  3.05752951e-01,\n",
       "          3.08583428e-01,  3.11416379e-01,  3.14251832e-01,  3.17089814e-01,\n",
       "          3.19930352e-01,  3.22773474e-01,  3.25619207e-01,  3.28467580e-01,\n",
       "          3.31318620e-01,  3.34172356e-01,  3.37028815e-01,  3.39888028e-01,\n",
       "          3.42750021e-01,  3.45614825e-01,  3.48482469e-01,  3.51352980e-01,\n",
       "          3.54226390e-01,  3.57102728e-01,  3.59982023e-01,  3.62864305e-01,\n",
       "          3.65749605e-01,  3.68637953e-01,  3.71529380e-01,  3.74423916e-01,\n",
       "          3.77321593e-01,  3.80222442e-01,  3.83126493e-01,  3.86033779e-01,\n",
       "          3.88944332e-01,  3.91858184e-01,  3.94775366e-01,  3.97695912e-01,\n",
       "          4.00619853e-01,  4.03547224e-01,  4.06478058e-01,  4.09412387e-01,\n",
       "          4.12350245e-01,  4.15291667e-01,  4.18236686e-01,  4.21185337e-01,\n",
       "          4.24137654e-01,  4.27093674e-01,  4.30053429e-01,  4.33016957e-01,\n",
       "          4.35984293e-01,  4.38955473e-01,  4.41930533e-01,  4.44909509e-01,\n",
       "          4.47892439e-01,  4.50879360e-01,  4.53870309e-01,  4.56865323e-01,\n",
       "          4.59864441e-01,  4.62867702e-01,  4.65875143e-01,  4.68886803e-01,\n",
       "          4.71902723e-01,  4.74922941e-01,  4.77947497e-01,  4.80976432e-01,\n",
       "          4.84009786e-01,  4.87047600e-01,  4.90089915e-01,  4.93136773e-01,\n",
       "          4.96188216e-01,  4.99244287e-01,  5.02305027e-01,  5.05370480e-01,\n",
       "          5.08440689e-01,  5.11515699e-01,  5.14595553e-01,  5.17680296e-01,\n",
       "          5.20769972e-01,  5.23864629e-01,  5.26964310e-01,  5.30069063e-01,\n",
       "          5.33178933e-01,  5.36293969e-01,  5.39414218e-01,  5.42539727e-01,\n",
       "          5.45670545e-01,  5.48806721e-01,  5.51948304e-01,  5.55095344e-01,\n",
       "          5.58247891e-01,  5.61405996e-01,  5.64569711e-01,  5.67739086e-01,\n",
       "          5.70914175e-01,  5.74095029e-01,  5.77281703e-01,  5.80474250e-01,\n",
       "          5.83672724e-01,  5.86877180e-01,  5.90087675e-01,  5.93304263e-01,\n",
       "          5.96527001e-01,  5.99755947e-01,  6.02991158e-01,  6.06232693e-01,\n",
       "          6.09480610e-01,  6.12734970e-01,  6.15995831e-01,  6.19263257e-01,\n",
       "          6.22537306e-01,  6.25818043e-01,  6.29105529e-01,  6.32399829e-01,\n",
       "          6.35701006e-01,  6.39009125e-01,  6.42324253e-01,  6.45646454e-01,\n",
       "          6.48975797e-01,  6.52312349e-01,  6.55656179e-01,  6.59007356e-01,\n",
       "          6.62365950e-01,  6.65732033e-01,  6.69105676e-01,  6.72486951e-01,\n",
       "          6.75875932e-01,  6.79272694e-01,  6.82677312e-01,  6.86089861e-01,\n",
       "          6.89510418e-01,  6.92939063e-01,  6.96375872e-01,  6.99820927e-01,\n",
       "          7.03274307e-01,  7.06736095e-01,  7.10206374e-01,  7.13685226e-01,\n",
       "          7.17172738e-01,  7.20668994e-01,  7.24174081e-01,  7.27688089e-01,\n",
       "          7.31211105e-01,  7.34743220e-01,  7.38284525e-01,  7.41835113e-01,\n",
       "          7.45395079e-01,  7.48964516e-01,  7.52543521e-01,  7.56132192e-01,\n",
       "          7.59730627e-01,  7.63338927e-01,  7.66957192e-01,  7.70585527e-01,\n",
       "          7.74224035e-01,  7.77872821e-01,  7.81531993e-01,  7.85201660e-01,\n",
       "          7.88881931e-01,  7.92572919e-01,  7.96274735e-01,  7.99987496e-01,\n",
       "          8.03711317e-01,  8.07446316e-01,  8.11192614e-01,  8.14950331e-01,\n",
       "          8.18719591e-01,  8.22500519e-01,  8.26293242e-01,  8.30097888e-01,\n",
       "          8.33914588e-01,  8.37743475e-01,  8.41584683e-01,  8.45438348e-01,\n",
       "          8.49304611e-01,  8.53183610e-01,  8.57075490e-01,  8.60980395e-01,\n",
       "          8.64898473e-01,  8.68829874e-01,  8.72774749e-01,  8.76733253e-01,\n",
       "          8.80705544e-01,  8.84691780e-01,  8.88692124e-01,  8.92706740e-01,\n",
       "          8.96735796e-01,  9.00779461e-01,  9.04837910e-01,  9.08911317e-01,\n",
       "          9.12999861e-01,  9.17103724e-01,  9.21223092e-01,  9.25358151e-01,\n",
       "          9.29509094e-01,  9.33676115e-01,  9.37859412e-01,  9.42059185e-01,\n",
       "          9.46275641e-01,  9.50508988e-01,  9.54759438e-01,  9.59027208e-01,\n",
       "          9.63312517e-01,  9.67615589e-01,  9.71936654e-01,  9.76275942e-01,\n",
       "          9.80633692e-01,  9.85010144e-01,  9.89405544e-01,  9.93820142e-01,\n",
       "          9.98254194e-01,  1.00270796e+00,  1.00718171e+00,  1.01167570e+00,\n",
       "          1.01619022e+00,  1.02072555e+00,  1.02528197e+00,  1.02985977e+00,\n",
       "          1.03445926e+00,  1.03908074e+00,  1.04372452e+00,  1.04839092e+00,\n",
       "          1.05308025e+00,  1.05779286e+00,  1.06252908e+00,  1.06728926e+00,\n",
       "          1.07207374e+00,  1.07688289e+00,  1.08171708e+00,  1.08657668e+00,\n",
       "          1.09146207e+00,  1.09637366e+00,  1.10131184e+00,  1.10627702e+00,\n",
       "          1.11126962e+00,  1.11629008e+00,  1.12133883e+00,  1.12641633e+00,\n",
       "          1.13152304e+00,  1.13665943e+00,  1.14182598e+00,  1.14702319e+00,\n",
       "          1.15225157e+00,  1.15751164e+00,  1.16280393e+00,  1.16812900e+00,\n",
       "          1.17348739e+00,  1.17887969e+00,  1.18430649e+00,  1.18976839e+00,\n",
       "          1.19526602e+00,  1.20080002e+00,  1.20637103e+00,  1.21197974e+00,\n",
       "          1.21762684e+00,  1.22331304e+00,  1.22903907e+00,  1.23480568e+00,\n",
       "          1.24061364e+00,  1.24646376e+00,  1.25235686e+00,  1.25829377e+00,\n",
       "          1.26427536e+00,  1.27030254e+00,  1.27637622e+00,  1.28249735e+00,\n",
       "          1.28866692e+00,  1.29488593e+00,  1.30115543e+00,  1.30747649e+00,\n",
       "          1.31385023e+00,  1.32027780e+00,  1.32676039e+00,  1.33329921e+00,\n",
       "          1.33989554e+00,  1.34655069e+00,  1.35326603e+00,  1.36004295e+00,\n",
       "          1.36688292e+00,  1.37378744e+00,  1.38075808e+00,  1.38779646e+00,\n",
       "          1.39490428e+00,  1.40208327e+00,  1.40933526e+00,  1.41666214e+00,\n",
       "          1.42406586e+00,  1.43154848e+00,  1.43911213e+00,  1.44675901e+00,\n",
       "          1.45449143e+00,  1.46231182e+00,  1.47022267e+00,  1.47822662e+00,\n",
       "          1.48632640e+00,  1.49452489e+00,  1.50282508e+00,  1.51123012e+00,\n",
       "          1.51974329e+00,  1.52836806e+00,  1.53710803e+00,  1.54596703e+00,\n",
       "          1.55494904e+00,  1.56405829e+00,  1.57329919e+00,  1.58267644e+00,\n",
       "          1.59219496e+00,  1.60185996e+00,  1.61167695e+00,  1.62165177e+00,\n",
       "          1.63179060e+00,  1.64210001e+00,  1.65258695e+00,  1.66325886e+00,\n",
       "          1.67412363e+00,  1.68518969e+00,  1.69646605e+00,  1.70796234e+00,\n",
       "          1.71968891e+00,  1.73165684e+00,  1.74387806e+00,  1.75636544e+00,\n",
       "          1.76913286e+00,  1.78219536e+00,  1.79556922e+00,  1.80927218e+00,\n",
       "          1.82332353e+00,  1.83774439e+00,  1.85255788e+00,  1.86778942e+00,\n",
       "          1.88346703e+00,  1.89962173e+00,  1.91628795e+00,  1.93350410e+00,\n",
       "          1.95131317e+00,  1.96976353e+00,  1.98890986e+00,  2.00881433e+00,\n",
       "          2.02954802e+00,  2.05119276e+00,  2.07384344e+00,  2.09761094e+00,\n",
       "          2.12262602e+00,  2.14904443e+00,  2.17705381e+00,  2.20688309e+00,\n",
       "          2.23881582e+00,  2.27320918e+00,  2.31052235e+00,  2.35135999e+00,\n",
       "          2.39654187e+00,  2.44722040e+00,  2.50509207e+00,  2.57281102e+00,\n",
       "          2.65489533e+00,  2.76006552e+00,  2.90910492e+00,  3.17598360e+00]),\n",
       "  array([ 8.85366543,  9.21034037,  9.39266193,  9.39266193,  9.43348392,\n",
       "          9.54681261,  9.61580548,  9.61580548,  9.61580548,  9.61580548,\n",
       "          9.680344  ,  9.680344  ,  9.76995616,  9.76995616,  9.79812704,\n",
       "          9.79812704,  9.79812704,  9.82552601,  9.82552601,  9.87816974,\n",
       "          9.90343755,  9.90348755,  9.90348755,  9.90348755,  9.90348755,\n",
       "          9.90348755,  9.90348755,  9.90348755,  9.90348755,  9.90348755,\n",
       "          9.90348755,  9.90348755,  9.90348755,  9.90348755,  9.92818017,\n",
       "          9.95227772,  9.95227772,  9.95227772,  9.95227772,  9.96646235,\n",
       "          9.99879773,  9.99879773,  9.99879773,  9.99879773, 10.02127059,\n",
       "         10.04324949, 10.04324949, 10.04324949, 10.04324949, 10.04324949,\n",
       "         10.08580911, 10.08580911, 10.08580911, 10.08580911, 10.1064284 ,\n",
       "         10.1064284 , 10.1266311 , 10.1266311 , 10.1266311 , 10.1266311 ,\n",
       "         10.1266311 , 10.1266311 , 10.1266311 , 10.1266311 , 10.1266311 ,\n",
       "         10.1266311 , 10.1266311 , 10.1266311 , 10.1266311 , 10.1266311 ,\n",
       "         10.1266311 , 10.1266311 , 10.1266311 , 10.1266311 , 10.1266311 ,\n",
       "         10.1266311 , 10.1266311 , 10.16581335, 10.16585182, 10.16585182,\n",
       "         10.16585182, 10.16585182, 10.20359214, 10.20359214, 10.20359214,\n",
       "         10.20359214, 10.22194128, 10.22194128, 10.23995979, 10.23995979,\n",
       "         10.23995979, 10.23995979, 10.23995979, 10.23995979, 10.23995979,\n",
       "         10.23995979, 10.23995979, 10.23995979, 10.23995979, 10.23995979,\n",
       "         10.23995979, 10.23995979, 10.25765937, 10.27505111, 10.27505111,\n",
       "         10.29214554, 10.29214554, 10.30891933, 10.30891933, 10.30895266,\n",
       "         10.30895266, 10.30895266, 10.30895266, 10.30895266, 10.30895266,\n",
       "         10.30895266, 10.30895266, 10.30895266, 10.30895266, 10.30895266,\n",
       "         10.30895266, 10.30895266, 10.30895266, 10.30895266, 10.30895266,\n",
       "         10.30895266, 10.30895266, 10.30895266, 10.30895266, 10.30895266,\n",
       "         10.30895266, 10.30895266, 10.30895266, 10.30895266, 10.30895266,\n",
       "         10.30895266, 10.30895266, 10.30895266, 10.30895266, 10.34174248,\n",
       "         10.34174248, 10.35774282, 10.35774282, 10.37349118, 10.37349118,\n",
       "         10.37349118, 10.37349118, 10.37349118, 10.40426284, 10.40426284,\n",
       "         10.40426284, 10.41930072, 10.4487146 , 10.46310334, 10.46310334,\n",
       "         10.46310334, 10.46310334, 10.46310334, 10.46310334, 10.46310334,\n",
       "         10.46310334, 10.46310334, 10.46310334, 10.46310334, 10.46310334,\n",
       "         10.46310334, 10.46310334, 10.46310334, 10.46310334, 10.46310334,\n",
       "         10.46310334, 10.46310334, 10.46310334, 10.46310334, 10.46310334,\n",
       "         10.46310334, 10.46310334, 10.46310334, 10.46310334, 10.46310334,\n",
       "         10.46310334, 10.46310334, 10.46310334, 10.46310334, 10.46310334,\n",
       "         10.46310334, 10.46310334, 10.46310334, 10.46310334, 10.49124644,\n",
       "         10.49127422, 10.49127422, 10.49127422, 10.50506754, 10.51867319,\n",
       "         10.51867319, 10.53209621, 10.54534144, 10.54534144, 10.54534144,\n",
       "         10.54534144, 10.54534144, 10.54534144, 10.54534144, 10.54534144,\n",
       "         10.55841352, 10.55841352, 10.57131693, 10.57131693, 10.59660973,\n",
       "         10.59660973, 10.59663473, 10.59663473, 10.59663473, 10.59663473,\n",
       "         10.59663473, 10.59663473, 10.59663473, 10.59663473, 10.59663473,\n",
       "         10.59663473, 10.59663473, 10.59663473, 10.59663473, 10.59663473,\n",
       "         10.59663473, 10.59663473, 10.59663473, 10.59663473, 10.59663473,\n",
       "         10.59663473, 10.59663473, 10.59663473, 10.59663473, 10.59663473,\n",
       "         10.59663473, 10.59663473, 10.59663473, 10.59663473, 10.59663473,\n",
       "         10.59663473, 10.59663473, 10.62132735, 10.62132735, 10.6454249 ,\n",
       "         10.6454249 , 10.6454249 , 10.6454249 , 10.6454249 , 10.6454249 ,\n",
       "         10.6454249 , 10.65725935, 10.66895539, 10.66895539, 10.66895539,\n",
       "         10.69194491, 10.69194491, 10.69194491, 10.71439555, 10.71441777,\n",
       "         10.71441777, 10.71441777, 10.71441777, 10.71441777, 10.71441777,\n",
       "         10.71441777, 10.71441777, 10.71441777, 10.71441777, 10.71441777,\n",
       "         10.71441777, 10.71441777, 10.71441777, 10.71441777, 10.71441777,\n",
       "         10.71441777, 10.71441777, 10.71441777, 10.71441777, 10.71441777,\n",
       "         10.71441777, 10.71441777, 10.71441777, 10.71441777, 10.71441777,\n",
       "         10.71441777, 10.71441777, 10.71441777, 10.71441777, 10.75790288,\n",
       "         10.75790288, 10.75790288, 10.75790288, 10.75790288, 10.75790288,\n",
       "         10.75790288, 10.77895629, 10.77895629, 10.77895629, 10.77895629,\n",
       "         10.80972795, 10.81975828, 10.81977828, 10.81977828, 10.81977828,\n",
       "         10.81977828, 10.81977828, 10.81977828, 10.81977828, 10.81977828,\n",
       "         10.81977828, 10.81977828, 10.81977828, 10.81977828, 10.81977828,\n",
       "         10.81977828, 10.81977828, 10.81977828, 10.81977828, 10.81977828,\n",
       "         10.81977828, 10.81977828, 10.81977828, 10.81977828, 10.81977828,\n",
       "         10.81977828, 10.81977828, 10.81977828, 10.81977828, 10.81977828,\n",
       "         10.81977828, 10.81977828, 10.81977828, 10.81977828, 10.81977828,\n",
       "         10.81977828, 10.81977828, 10.83958091, 10.84933709, 10.858999  ,\n",
       "         10.858999  , 10.858999  , 10.858999  , 10.858999  , 10.858999  ,\n",
       "         10.858999  , 10.87804719, 10.89673933, 10.91508846, 10.91508846,\n",
       "         10.91508846, 10.91508846, 10.91508846, 10.91508846, 10.91508846,\n",
       "         10.91508846, 10.91508846, 10.91508846, 10.91508846, 10.91508846,\n",
       "         10.91508846, 10.91508846, 10.91508846, 10.91508846, 10.91508846,\n",
       "         10.91508846, 10.91508846, 10.91508846, 10.91508846, 10.91508846,\n",
       "         10.91508846, 10.91508846, 10.91508846, 10.91508846, 10.91508846,\n",
       "         10.91508846, 10.91508846, 10.93310697, 10.96818105, 10.96819829,\n",
       "         10.98529272, 10.98529272, 10.98529272, 11.00209984, 11.00209984,\n",
       "         11.00209984, 11.00209984, 11.00209984, 11.00209984, 11.00209984,\n",
       "         11.00209984, 11.00209984, 11.00209984, 11.00209984, 11.00209984,\n",
       "         11.00209984, 11.00209984, 11.00209984, 11.00209984, 11.00209984,\n",
       "         11.00209984, 11.00209984, 11.00209984, 11.00209984, 11.00209984,\n",
       "         11.00209984, 11.00209984, 11.00209984, 11.00209984, 11.00209984,\n",
       "         11.00209984, 11.00209984, 11.00209984, 11.00209984, 11.00209984,\n",
       "         11.00209984, 11.00209984, 11.00209984, 11.00209984, 11.00209984,\n",
       "         11.01862914, 11.02679245, 11.03488966, 11.03488966, 11.03488966,\n",
       "         11.03488966, 11.03488966, 11.03488966, 11.04292184, 11.05879518,\n",
       "         11.08214255, 11.08214255, 11.08214255, 11.08214255, 11.08214255,\n",
       "         11.08214255, 11.08214255, 11.08214255, 11.08214255, 11.08214255,\n",
       "         11.08214255, 11.08214255, 11.08214255, 11.08214255, 11.08214255,\n",
       "         11.08214255, 11.08214255, 11.08214255, 11.08214255, 11.08214255,\n",
       "         11.08214255, 11.08214255, 11.08214255, 11.08214255, 11.08214255,\n",
       "         11.08214255, 11.12726298, 11.12726298, 11.12726298, 11.12726298,\n",
       "         11.12726298, 11.12726298, 11.14186178, 11.15625052, 11.15625052,\n",
       "         11.15625052, 11.15625052, 11.15625052, 11.15625052, 11.15625052,\n",
       "         11.15625052, 11.15625052, 11.15625052, 11.15625052, 11.15625052,\n",
       "         11.15625052, 11.15625052, 11.15625052, 11.15625052, 11.15625052,\n",
       "         11.15625052, 11.15625052, 11.15625052, 11.15625052, 11.15625052,\n",
       "         11.15625052, 11.15625052, 11.15625052, 11.15625052, 11.15625052,\n",
       "         11.15625052, 11.15625052, 11.15625052, 11.15625052, 11.15625052,\n",
       "         11.15625052, 11.15625052, 11.15625052, 11.15625052, 11.15625052,\n",
       "         11.15625052, 11.15625052, 11.16336799, 11.1844214 , 11.1844214 ,\n",
       "         11.1844214 , 11.1844214 , 11.19821472, 11.19821472, 11.22524339,\n",
       "         11.22524339, 11.22524339, 11.22524339, 11.22524339, 11.22524339,\n",
       "         11.22524339, 11.22524339, 11.22524339, 11.22524339, 11.22524339,\n",
       "         11.22524339, 11.22524339, 11.22524339, 11.22524339, 11.22524339,\n",
       "         11.22524339, 11.22524339, 11.22524339, 11.22524339, 11.22524339,\n",
       "         11.22524339, 11.22524339, 11.22524339, 11.22524339, 11.22524339,\n",
       "         11.22524339, 11.22524339, 11.22524339, 11.22524339, 11.22524339,\n",
       "         11.22524339, 11.23848862, 11.26446411, 11.26446411, 11.27720313,\n",
       "         11.27720313, 11.28976941, 11.28978191, 11.28978191, 11.28978191,\n",
       "         11.28978191, 11.28978191, 11.28978191, 11.28978191, 11.28978191,\n",
       "         11.28978191, 11.28978191, 11.28978191, 11.28978191, 11.28978191,\n",
       "         11.28978191, 11.28978191, 11.28978191, 11.28978191, 11.28978191,\n",
       "         11.28978191, 11.30220443, 11.30220443, 11.31447453, 11.31447453,\n",
       "         11.31447453, 11.35040654, 11.35040654, 11.35040654, 11.35040654,\n",
       "         11.35040654, 11.35040654, 11.35040654, 11.35040654, 11.35040654,\n",
       "         11.35040654, 11.35040654, 11.35040654, 11.35040654, 11.36210258,\n",
       "         11.36210258, 11.38509209, 11.38509209, 11.38509209, 11.39639165,\n",
       "         11.39639165, 11.40756495, 11.40756495, 11.40756495, 11.40756495,\n",
       "         11.40756495, 11.40756495, 11.40756495, 11.40756495, 11.40756495,\n",
       "         11.40756495, 11.40756495, 11.40756495, 11.40756495, 11.40756495,\n",
       "         11.40756495, 11.40756495, 11.40756495, 11.40756495, 11.40756495,\n",
       "         11.40756495, 11.40756495, 11.40756495, 11.41861479, 11.42954386,\n",
       "         11.42954386, 11.42954386, 11.42954386, 11.42954386, 11.46163217,\n",
       "         11.46163217, 11.46163217, 11.46163217, 11.46163217, 11.46163217,\n",
       "         11.46163217, 11.46163217, 11.46163217, 11.46163217, 11.46163217,\n",
       "         11.46163217, 11.46163217, 11.46163217, 11.46163217, 11.46163217,\n",
       "         11.46163217, 11.46163217, 11.48246626, 11.49272276, 11.49272276,\n",
       "         11.49272276, 11.50287513, 11.50287513, 11.51291546, 11.51291546,\n",
       "         11.51292546, 11.51292546, 11.51292546, 11.51292546, 11.51292546,\n",
       "         11.51292546, 11.51292546, 11.51292546, 11.51292546, 11.51292546,\n",
       "         11.51292546, 11.51292546, 11.51292546, 11.51292546, 11.51292546,\n",
       "         11.51292546, 11.51292546, 11.51292546, 11.51292546, 11.51292546,\n",
       "         11.51292546, 11.51292546, 11.56171563, 11.56171563, 11.56171563,\n",
       "         11.56171563, 11.56171563, 11.56171563, 11.56171563, 11.56171563,\n",
       "         11.56171563, 11.56171563, 11.56171563, 11.60823564, 11.60823564,\n",
       "         11.60823564, 11.60823564, 11.60823564, 11.60823564, 11.60823564,\n",
       "         11.60823564, 11.60823564, 11.60823564, 11.60823564, 11.60823564,\n",
       "         11.60823564, 11.60823564, 11.60823564, 11.60823564, 11.61727647,\n",
       "         11.61728548, 11.65268741, 11.65268741, 11.65268741, 11.65268741,\n",
       "         11.65268741, 11.65268741, 11.65268741, 11.65268741, 11.65268741,\n",
       "         11.65268741, 11.65268741, 11.65268741, 11.65268741, 11.65268741,\n",
       "         11.65268741, 11.65268741, 11.65268741, 11.66134547, 11.6784399 ,\n",
       "         11.69524702, 11.69524702, 11.69524702, 11.69524702, 11.69524702,\n",
       "         11.69524702, 11.69524702, 11.69524702, 11.69524702, 11.69524702,\n",
       "         11.69524702, 11.69524702, 11.69524702, 11.69524702, 11.69524702,\n",
       "         11.69524702, 11.69524702, 11.69524702, 11.69524702, 11.69524702,\n",
       "         11.69524702, 11.69524702, 11.69524702, 11.73606902, 11.73606902,\n",
       "         11.73606902, 11.73606902, 11.73606902, 11.73606902, 11.73606902,\n",
       "         11.73606902, 11.73606902, 11.75978554, 11.76756768, 11.77528204,\n",
       "         11.77528973, 11.77528973, 11.77528973, 11.77528973, 11.77528973,\n",
       "         11.77528973, 11.77528973, 11.77528973, 11.77528973, 11.77528973,\n",
       "         11.77528973, 11.77528973, 11.7829526 , 11.81303006, 11.81303006,\n",
       "         11.81303006, 11.81303006, 11.81303006, 11.81303006, 11.81303006,\n",
       "         11.81303006, 11.84222921, 11.84653647, 11.8493977 , 11.8493977 ,\n",
       "         11.8493977 , 11.8493977 , 11.8493977 , 11.8493977 , 11.8493977 ,\n",
       "         11.8493977 , 11.8493977 , 11.8493977 , 11.8493977 , 11.8493977 ,\n",
       "         11.8493977 , 11.88448902, 11.88448902, 11.88448902, 11.88448902,\n",
       "         11.88448902, 11.88448902, 11.90496755, 11.91170158, 11.91839057,\n",
       "         11.91839057, 11.91839057, 11.91839057, 11.91839057, 11.91839057,\n",
       "         11.91839057, 11.91839057, 11.91839057, 11.91839057, 11.91839057,\n",
       "         11.91839057, 11.91839057, 11.91839057, 11.91839057, 11.91839057,\n",
       "         11.91839057, 11.9511804 , 11.9511804 , 11.9511804 , 11.9511804 ,\n",
       "         11.9511804 , 11.9511804 , 11.97035031, 11.97035031, 11.98292909,\n",
       "         11.98292909, 11.98292909, 11.98292909, 11.98292909, 11.98292909,\n",
       "         11.98292909, 11.98292909, 11.98292909, 11.98292909, 11.98292909,\n",
       "         11.98292909, 11.98292909, 11.98292909, 11.98292909, 11.98292909,\n",
       "         11.98292909, 11.98292909, 11.98292909, 11.98915964, 12.01370075,\n",
       "         12.01370075, 12.01974307, 12.04355372, 12.04355372, 12.04355372,\n",
       "         12.04355372, 12.04355372, 12.04355372, 12.04355372, 12.07254125,\n",
       "         12.07254125, 12.07254125, 12.07254125, 12.07254125, 12.07254125,\n",
       "         12.07254125, 12.07254125, 12.10071213, 12.10071213, 12.10071213,\n",
       "         12.10071213, 12.10071213, 12.10071213, 12.10071213, 12.10071213,\n",
       "         12.10071213, 12.1281111 , 12.1281111 , 12.1281111 , 12.1281111 ,\n",
       "         12.1281111 , 12.15477935, 12.15477935, 12.15477935, 12.15477935,\n",
       "         12.15477935, 12.15477935, 12.15477935, 12.18075484, 12.18075484,\n",
       "         12.18075484, 12.20607265, 12.20607265, 12.20607265, 12.20607265,\n",
       "         12.20607265, 12.25486281, 12.25486281, 12.25486281, 12.25486281,\n",
       "         12.25486281, 12.25486281, 12.25486281, 12.27839331, 12.27839331,\n",
       "         12.30138283, 12.30591798, 12.34583459, 12.34583459, 12.36734079,\n",
       "         12.3883942 , 12.40901349, 12.42721419, 12.4292162 , 12.4292162 ,\n",
       "         12.4292162 , 12.4292162 , 12.4292162 , 12.46843691, 12.46843691,\n",
       "         12.4874851 , 12.52452638, 12.52452638, 12.52452638, 12.59472725,\n",
       "         12.61153442, 12.61153775, 12.64432758, 12.67607627, 12.6791964 ,\n",
       "         12.76568843, 12.76568843, 12.84792653, 12.88664104, 12.8967167 ,\n",
       "         13.51440547, 13.65299163, 14.28551356])),\n",
       " (0.6921859520730153, 11.12299759051826, 0.9965091521268301))"
      ]
     },
     "execution_count": 45,
     "metadata": {},
     "output_type": "execute_result"
    },
    {
     "data": {
      "image/png": "[encoded data removed]",
      "text/plain": [
       "<Figure size 640x480 with 1 Axes>"
      ]
     },
     "metadata": {},
     "output_type": "display_data"
    }
   ],
   "source": [
    "stats.probplot(y['Log_Price'], dist = \"norm\", plot = pylab)"
   ]
  },
  {
   "cell_type": "code",
   "execution_count": 46,
   "id": "3c4e1510",
   "metadata": {},
   "outputs": [
    {
     "data": {
      "text/html": [
       "<div>\n",
       "<style scoped>\n",
       "    .dataframe tbody tr th:only-of-type {\n",
       "        vertical-align: middle;\n",
       "    }\n",
       "\n",
       "    .dataframe tbody tr th {\n",
       "        vertical-align: top;\n",
       "    }\n",
       "\n",
       "    .dataframe thead th {\n",
       "        text-align: right;\n",
       "    }\n",
       "</style>\n",
       "<table border=\"1\" class=\"dataframe\">\n",
       "  <thead>\n",
       "    <tr style=\"text-align: right;\">\n",
       "      <th></th>\n",
       "      <th>Price</th>\n",
       "      <th>Log_Price</th>\n",
       "    </tr>\n",
       "  </thead>\n",
       "  <tbody>\n",
       "    <tr>\n",
       "      <th>0</th>\n",
       "      <td>15000.000</td>\n",
       "      <td>9.616</td>\n",
       "    </tr>\n",
       "    <tr>\n",
       "      <th>1</th>\n",
       "      <td>155000.000</td>\n",
       "      <td>11.951</td>\n",
       "    </tr>\n",
       "    <tr>\n",
       "      <th>2</th>\n",
       "      <td>158000.000</td>\n",
       "      <td>11.970</td>\n",
       "    </tr>\n",
       "    <tr>\n",
       "      <th>3</th>\n",
       "      <td>31500.000</td>\n",
       "      <td>10.358</td>\n",
       "    </tr>\n",
       "    <tr>\n",
       "      <th>4</th>\n",
       "      <td>135000.000</td>\n",
       "      <td>11.813</td>\n",
       "    </tr>\n",
       "  </tbody>\n",
       "</table>\n",
       "</div>"
      ],
      "text/plain": [
       "       Price  Log_Price\n",
       "0  15000.000      9.616\n",
       "1 155000.000     11.951\n",
       "2 158000.000     11.970\n",
       "3  31500.000     10.358\n",
       "4 135000.000     11.813"
      ]
     },
     "execution_count": 46,
     "metadata": {},
     "output_type": "execute_result"
    }
   ],
   "source": [
    "y.head()"
   ]
  },
  {
   "cell_type": "code",
   "execution_count": 47,
   "id": "fc62a698",
   "metadata": {},
   "outputs": [
    {
     "name": "stderr",
     "output_type": "stream",
     "text": [
      "C:\\Users\\excep\\AppData\\Local\\Temp\\ipykernel_22404\\1976966639.py:1: SettingWithCopyWarning: \n",
      "A value is trying to be set on a copy of a slice from a DataFrame\n",
      "\n",
      "See the caveats in the documentation: https://pandas.pydata.org/pandas-docs/stable/user_guide/indexing.html#returning-a-view-versus-a-copy\n",
      "  y.drop(\"Price\",axis=1,inplace= True)\n"
     ]
    }
   ],
   "source": [
    "y.drop(\"Price\",axis=1,inplace= True)"
   ]
  },
  {
   "cell_type": "code",
   "execution_count": 48,
   "id": "6c723245",
   "metadata": {},
   "outputs": [],
   "source": [
    "X[\"sqrt_Kms_driven\"] = np.sqrt(X[\"Kms_driven\"])"
   ]
  },
  {
   "cell_type": "code",
   "execution_count": 49,
   "id": "463a78f0",
   "metadata": {},
   "outputs": [
    {
     "data": {
      "text/plain": [
       "((array([-3.17598360e+00, -2.90910492e+00, -2.76006552e+00, -2.65489533e+00,\n",
       "         -2.57281102e+00, -2.50509207e+00, -2.44722040e+00, -2.39654187e+00,\n",
       "         -2.35135999e+00, -2.31052235e+00, -2.27320918e+00, -2.23881582e+00,\n",
       "         -2.20688309e+00, -2.17705381e+00, -2.14904443e+00, -2.12262602e+00,\n",
       "         -2.09761094e+00, -2.07384344e+00, -2.05119276e+00, -2.02954802e+00,\n",
       "         -2.00881433e+00, -1.98890986e+00, -1.96976353e+00, -1.95131317e+00,\n",
       "         -1.93350410e+00, -1.91628795e+00, -1.89962173e+00, -1.88346703e+00,\n",
       "         -1.86778942e+00, -1.85255788e+00, -1.83774439e+00, -1.82332353e+00,\n",
       "         -1.80927218e+00, -1.79556922e+00, -1.78219536e+00, -1.76913286e+00,\n",
       "         -1.75636544e+00, -1.74387806e+00, -1.73165684e+00, -1.71968891e+00,\n",
       "         -1.70796234e+00, -1.69646605e+00, -1.68518969e+00, -1.67412363e+00,\n",
       "         -1.66325886e+00, -1.65258695e+00, -1.64210001e+00, -1.63179060e+00,\n",
       "         -1.62165177e+00, -1.61167695e+00, -1.60185996e+00, -1.59219496e+00,\n",
       "         -1.58267644e+00, -1.57329919e+00, -1.56405829e+00, -1.55494904e+00,\n",
       "         -1.54596703e+00, -1.53710803e+00, -1.52836806e+00, -1.51974329e+00,\n",
       "         -1.51123012e+00, -1.50282508e+00, -1.49452489e+00, -1.48632640e+00,\n",
       "         -1.47822662e+00, -1.47022267e+00, -1.46231182e+00, -1.45449143e+00,\n",
       "         -1.44675901e+00, -1.43911213e+00, -1.43154848e+00, -1.42406586e+00,\n",
       "         -1.41666214e+00, -1.40933526e+00, -1.40208327e+00, -1.39490428e+00,\n",
       "         -1.38779646e+00, -1.38075808e+00, -1.37378744e+00, -1.36688292e+00,\n",
       "         -1.36004295e+00, -1.35326603e+00, -1.34655069e+00, -1.33989554e+00,\n",
       "         -1.33329921e+00, -1.32676039e+00, -1.32027780e+00, -1.31385023e+00,\n",
       "         -1.30747649e+00, -1.30115543e+00, -1.29488593e+00, -1.28866692e+00,\n",
       "         -1.28249735e+00, -1.27637622e+00, -1.27030254e+00, -1.26427536e+00,\n",
       "         -1.25829377e+00, -1.25235686e+00, -1.24646376e+00, -1.24061364e+00,\n",
       "         -1.23480568e+00, -1.22903907e+00, -1.22331304e+00, -1.21762684e+00,\n",
       "         -1.21197974e+00, -1.20637103e+00, -1.20080002e+00, -1.19526602e+00,\n",
       "         -1.18976839e+00, -1.18430649e+00, -1.17887969e+00, -1.17348739e+00,\n",
       "         -1.16812900e+00, -1.16280393e+00, -1.15751164e+00, -1.15225157e+00,\n",
       "         -1.14702319e+00, -1.14182598e+00, -1.13665943e+00, -1.13152304e+00,\n",
       "         -1.12641633e+00, -1.12133883e+00, -1.11629008e+00, -1.11126962e+00,\n",
       "         -1.10627702e+00, -1.10131184e+00, -1.09637366e+00, -1.09146207e+00,\n",
       "         -1.08657668e+00, -1.08171708e+00, -1.07688289e+00, -1.07207374e+00,\n",
       "         -1.06728926e+00, -1.06252908e+00, -1.05779286e+00, -1.05308025e+00,\n",
       "         -1.04839092e+00, -1.04372452e+00, -1.03908074e+00, -1.03445926e+00,\n",
       "         -1.02985977e+00, -1.02528197e+00, -1.02072555e+00, -1.01619022e+00,\n",
       "         -1.01167570e+00, -1.00718171e+00, -1.00270796e+00, -9.98254194e-01,\n",
       "         -9.93820142e-01, -9.89405544e-01, -9.85010144e-01, -9.80633692e-01,\n",
       "         -9.76275942e-01, -9.71936654e-01, -9.67615589e-01, -9.63312517e-01,\n",
       "         -9.59027208e-01, -9.54759438e-01, -9.50508988e-01, -9.46275641e-01,\n",
       "         -9.42059185e-01, -9.37859412e-01, -9.33676115e-01, -9.29509094e-01,\n",
       "         -9.25358151e-01, -9.21223092e-01, -9.17103724e-01, -9.12999861e-01,\n",
       "         -9.08911317e-01, -9.04837910e-01, -9.00779461e-01, -8.96735796e-01,\n",
       "         -8.92706740e-01, -8.88692124e-01, -8.84691780e-01, -8.80705544e-01,\n",
       "         -8.76733253e-01, -8.72774749e-01, -8.68829874e-01, -8.64898473e-01,\n",
       "         -8.60980395e-01, -8.57075490e-01, -8.53183610e-01, -8.49304611e-01,\n",
       "         -8.45438348e-01, -8.41584683e-01, -8.37743475e-01, -8.33914588e-01,\n",
       "         -8.30097888e-01, -8.26293242e-01, -8.22500519e-01, -8.18719591e-01,\n",
       "         -8.14950331e-01, -8.11192614e-01, -8.07446316e-01, -8.03711317e-01,\n",
       "         -7.99987496e-01, -7.96274735e-01, -7.92572919e-01, -7.88881931e-01,\n",
       "         -7.85201660e-01, -7.81531993e-01, -7.77872821e-01, -7.74224035e-01,\n",
       "         -7.70585527e-01, -7.66957192e-01, -7.63338927e-01, -7.59730627e-01,\n",
       "         -7.56132192e-01, -7.52543521e-01, -7.48964516e-01, -7.45395079e-01,\n",
       "         -7.41835113e-01, -7.38284525e-01, -7.34743220e-01, -7.31211105e-01,\n",
       "         -7.27688089e-01, -7.24174081e-01, -7.20668994e-01, -7.17172738e-01,\n",
       "         -7.13685226e-01, -7.10206374e-01, -7.06736095e-01, -7.03274307e-01,\n",
       "         -6.99820927e-01, -6.96375872e-01, -6.92939063e-01, -6.89510418e-01,\n",
       "         -6.86089861e-01, -6.82677312e-01, -6.79272694e-01, -6.75875932e-01,\n",
       "         -6.72486951e-01, -6.69105676e-01, -6.65732033e-01, -6.62365950e-01,\n",
       "         -6.59007356e-01, -6.55656179e-01, -6.52312349e-01, -6.48975797e-01,\n",
       "         -6.45646454e-01, -6.42324253e-01, -6.39009125e-01, -6.35701006e-01,\n",
       "         -6.32399829e-01, -6.29105529e-01, -6.25818043e-01, -6.22537306e-01,\n",
       "         -6.19263257e-01, -6.15995831e-01, -6.12734970e-01, -6.09480610e-01,\n",
       "         -6.06232693e-01, -6.02991158e-01, -5.99755947e-01, -5.96527001e-01,\n",
       "         -5.93304263e-01, -5.90087675e-01, -5.86877180e-01, -5.83672724e-01,\n",
       "         -5.80474250e-01, -5.77281703e-01, -5.74095029e-01, -5.70914175e-01,\n",
       "         -5.67739086e-01, -5.64569711e-01, -5.61405996e-01, -5.58247891e-01,\n",
       "         -5.55095344e-01, -5.51948304e-01, -5.48806721e-01, -5.45670545e-01,\n",
       "         -5.42539727e-01, -5.39414218e-01, -5.36293969e-01, -5.33178933e-01,\n",
       "         -5.30069063e-01, -5.26964310e-01, -5.23864629e-01, -5.20769972e-01,\n",
       "         -5.17680296e-01, -5.14595553e-01, -5.11515699e-01, -5.08440689e-01,\n",
       "         -5.05370480e-01, -5.02305027e-01, -4.99244287e-01, -4.96188216e-01,\n",
       "         -4.93136773e-01, -4.90089915e-01, -4.87047600e-01, -4.84009786e-01,\n",
       "         -4.80976432e-01, -4.77947497e-01, -4.74922941e-01, -4.71902723e-01,\n",
       "         -4.68886803e-01, -4.65875143e-01, -4.62867702e-01, -4.59864441e-01,\n",
       "         -4.56865323e-01, -4.53870309e-01, -4.50879360e-01, -4.47892439e-01,\n",
       "         -4.44909509e-01, -4.41930533e-01, -4.38955473e-01, -4.35984293e-01,\n",
       "         -4.33016957e-01, -4.30053429e-01, -4.27093674e-01, -4.24137654e-01,\n",
       "         -4.21185337e-01, -4.18236686e-01, -4.15291667e-01, -4.12350245e-01,\n",
       "         -4.09412387e-01, -4.06478058e-01, -4.03547224e-01, -4.00619853e-01,\n",
       "         -3.97695912e-01, -3.94775366e-01, -3.91858184e-01, -3.88944332e-01,\n",
       "         -3.86033779e-01, -3.83126493e-01, -3.80222442e-01, -3.77321593e-01,\n",
       "         -3.74423916e-01, -3.71529380e-01, -3.68637953e-01, -3.65749605e-01,\n",
       "         -3.62864305e-01, -3.59982023e-01, -3.57102728e-01, -3.54226390e-01,\n",
       "         -3.51352980e-01, -3.48482469e-01, -3.45614825e-01, -3.42750021e-01,\n",
       "         -3.39888028e-01, -3.37028815e-01, -3.34172356e-01, -3.31318620e-01,\n",
       "         -3.28467580e-01, -3.25619207e-01, -3.22773474e-01, -3.19930352e-01,\n",
       "         -3.17089814e-01, -3.14251832e-01, -3.11416379e-01, -3.08583428e-01,\n",
       "         -3.05752951e-01, -3.02924921e-01, -3.00099312e-01, -2.97276097e-01,\n",
       "         -2.94455249e-01, -2.91636743e-01, -2.88820551e-01, -2.86006648e-01,\n",
       "         -2.83195008e-01, -2.80385605e-01, -2.77578414e-01, -2.74773407e-01,\n",
       "         -2.71970562e-01, -2.69169851e-01, -2.66371250e-01, -2.63574733e-01,\n",
       "         -2.60780277e-01, -2.57987855e-01, -2.55197444e-01, -2.52409018e-01,\n",
       "         -2.49622553e-01, -2.46838026e-01, -2.44055411e-01, -2.41274684e-01,\n",
       "         -2.38495822e-01, -2.35718800e-01, -2.32943594e-01, -2.30170182e-01,\n",
       "         -2.27398539e-01, -2.24628642e-01, -2.21860467e-01, -2.19093991e-01,\n",
       "         -2.16329191e-01, -2.13566044e-01, -2.10804526e-01, -2.08044615e-01,\n",
       "         -2.05286288e-01, -2.02529521e-01, -1.99774294e-01, -1.97020581e-01,\n",
       "         -1.94268362e-01, -1.91517614e-01, -1.88768314e-01, -1.86020440e-01,\n",
       "         -1.83273970e-01, -1.80528882e-01, -1.77785153e-01, -1.75042763e-01,\n",
       "         -1.72301688e-01, -1.69561907e-01, -1.66823398e-01, -1.64086140e-01,\n",
       "         -1.61350110e-01, -1.58615288e-01, -1.55881652e-01, -1.53149180e-01,\n",
       "         -1.50417851e-01, -1.47687644e-01, -1.44958537e-01, -1.42230510e-01,\n",
       "         -1.39503540e-01, -1.36777608e-01, -1.34052691e-01, -1.31328770e-01,\n",
       "         -1.28605823e-01, -1.25883828e-01, -1.23162767e-01, -1.20442616e-01,\n",
       "         -1.17723357e-01, -1.15004968e-01, -1.12287429e-01, -1.09570718e-01,\n",
       "         -1.06854816e-01, -1.04139702e-01, -1.01425355e-01, -9.87117558e-02,\n",
       "         -9.59988829e-02, -9.32867164e-02, -9.05752359e-02, -8.78644212e-02,\n",
       "         -8.51542519e-02, -8.24447080e-02, -7.97357693e-02, -7.70274155e-02,\n",
       "         -7.43196267e-02, -7.16123826e-02, -6.89056633e-02, -6.61994488e-02,\n",
       "         -6.34937190e-02, -6.07884539e-02, -5.80836336e-02, -5.53792383e-02,\n",
       "         -5.26752478e-02, -4.99716425e-02, -4.72684024e-02, -4.45655077e-02,\n",
       "         -4.18629385e-02, -3.91606750e-02, -3.64586974e-02, -3.37569861e-02,\n",
       "         -3.10555210e-02, -2.83542826e-02, -2.56532511e-02, -2.29524068e-02,\n",
       "         -2.02517298e-02, -1.75512005e-02, -1.48507993e-02, -1.21505063e-02,\n",
       "         -9.45030193e-03, -6.75016645e-03, -4.05008019e-03, -1.35002345e-03,\n",
       "          1.35002345e-03,  4.05008019e-03,  6.75016645e-03,  9.45030193e-03,\n",
       "          1.21505063e-02,  1.48507993e-02,  1.75512005e-02,  2.02517298e-02,\n",
       "          2.29524068e-02,  2.56532511e-02,  2.83542826e-02,  3.10555210e-02,\n",
       "          3.37569861e-02,  3.64586974e-02,  3.91606750e-02,  4.18629385e-02,\n",
       "          4.45655077e-02,  4.72684024e-02,  4.99716425e-02,  5.26752478e-02,\n",
       "          5.53792383e-02,  5.80836336e-02,  6.07884539e-02,  6.34937190e-02,\n",
       "          6.61994488e-02,  6.89056633e-02,  7.16123826e-02,  7.43196267e-02,\n",
       "          7.70274155e-02,  7.97357693e-02,  8.24447080e-02,  8.51542519e-02,\n",
       "          8.78644212e-02,  9.05752359e-02,  9.32867164e-02,  9.59988829e-02,\n",
       "          9.87117558e-02,  1.01425355e-01,  1.04139702e-01,  1.06854816e-01,\n",
       "          1.09570718e-01,  1.12287429e-01,  1.15004968e-01,  1.17723357e-01,\n",
       "          1.20442616e-01,  1.23162767e-01,  1.25883828e-01,  1.28605823e-01,\n",
       "          1.31328770e-01,  1.34052691e-01,  1.36777608e-01,  1.39503540e-01,\n",
       "          1.42230510e-01,  1.44958537e-01,  1.47687644e-01,  1.50417851e-01,\n",
       "          1.53149180e-01,  1.55881652e-01,  1.58615288e-01,  1.61350110e-01,\n",
       "          1.64086140e-01,  1.66823398e-01,  1.69561907e-01,  1.72301688e-01,\n",
       "          1.75042763e-01,  1.77785153e-01,  1.80528882e-01,  1.83273970e-01,\n",
       "          1.86020440e-01,  1.88768314e-01,  1.91517614e-01,  1.94268362e-01,\n",
       "          1.97020581e-01,  1.99774294e-01,  2.02529521e-01,  2.05286288e-01,\n",
       "          2.08044615e-01,  2.10804526e-01,  2.13566044e-01,  2.16329191e-01,\n",
       "          2.19093991e-01,  2.21860467e-01,  2.24628642e-01,  2.27398539e-01,\n",
       "          2.30170182e-01,  2.32943594e-01,  2.35718800e-01,  2.38495822e-01,\n",
       "          2.41274684e-01,  2.44055411e-01,  2.46838026e-01,  2.49622553e-01,\n",
       "          2.52409018e-01,  2.55197444e-01,  2.57987855e-01,  2.60780277e-01,\n",
       "          2.63574733e-01,  2.66371250e-01,  2.69169851e-01,  2.71970562e-01,\n",
       "          2.74773407e-01,  2.77578414e-01,  2.80385605e-01,  2.83195008e-01,\n",
       "          2.86006648e-01,  2.88820551e-01,  2.91636743e-01,  2.94455249e-01,\n",
       "          2.97276097e-01,  3.00099312e-01,  3.02924921e-01,  3.05752951e-01,\n",
       "          3.08583428e-01,  3.11416379e-01,  3.14251832e-01,  3.17089814e-01,\n",
       "          3.19930352e-01,  3.22773474e-01,  3.25619207e-01,  3.28467580e-01,\n",
       "          3.31318620e-01,  3.34172356e-01,  3.37028815e-01,  3.39888028e-01,\n",
       "          3.42750021e-01,  3.45614825e-01,  3.48482469e-01,  3.51352980e-01,\n",
       "          3.54226390e-01,  3.57102728e-01,  3.59982023e-01,  3.62864305e-01,\n",
       "          3.65749605e-01,  3.68637953e-01,  3.71529380e-01,  3.74423916e-01,\n",
       "          3.77321593e-01,  3.80222442e-01,  3.83126493e-01,  3.86033779e-01,\n",
       "          3.88944332e-01,  3.91858184e-01,  3.94775366e-01,  3.97695912e-01,\n",
       "          4.00619853e-01,  4.03547224e-01,  4.06478058e-01,  4.09412387e-01,\n",
       "          4.12350245e-01,  4.15291667e-01,  4.18236686e-01,  4.21185337e-01,\n",
       "          4.24137654e-01,  4.27093674e-01,  4.30053429e-01,  4.33016957e-01,\n",
       "          4.35984293e-01,  4.38955473e-01,  4.41930533e-01,  4.44909509e-01,\n",
       "          4.47892439e-01,  4.50879360e-01,  4.53870309e-01,  4.56865323e-01,\n",
       "          4.59864441e-01,  4.62867702e-01,  4.65875143e-01,  4.68886803e-01,\n",
       "          4.71902723e-01,  4.74922941e-01,  4.77947497e-01,  4.80976432e-01,\n",
       "          4.84009786e-01,  4.87047600e-01,  4.90089915e-01,  4.93136773e-01,\n",
       "          4.96188216e-01,  4.99244287e-01,  5.02305027e-01,  5.05370480e-01,\n",
       "          5.08440689e-01,  5.11515699e-01,  5.14595553e-01,  5.17680296e-01,\n",
       "          5.20769972e-01,  5.23864629e-01,  5.26964310e-01,  5.30069063e-01,\n",
       "          5.33178933e-01,  5.36293969e-01,  5.39414218e-01,  5.42539727e-01,\n",
       "          5.45670545e-01,  5.48806721e-01,  5.51948304e-01,  5.55095344e-01,\n",
       "          5.58247891e-01,  5.61405996e-01,  5.64569711e-01,  5.67739086e-01,\n",
       "          5.70914175e-01,  5.74095029e-01,  5.77281703e-01,  5.80474250e-01,\n",
       "          5.83672724e-01,  5.86877180e-01,  5.90087675e-01,  5.93304263e-01,\n",
       "          5.96527001e-01,  5.99755947e-01,  6.02991158e-01,  6.06232693e-01,\n",
       "          6.09480610e-01,  6.12734970e-01,  6.15995831e-01,  6.19263257e-01,\n",
       "          6.22537306e-01,  6.25818043e-01,  6.29105529e-01,  6.32399829e-01,\n",
       "          6.35701006e-01,  6.39009125e-01,  6.42324253e-01,  6.45646454e-01,\n",
       "          6.48975797e-01,  6.52312349e-01,  6.55656179e-01,  6.59007356e-01,\n",
       "          6.62365950e-01,  6.65732033e-01,  6.69105676e-01,  6.72486951e-01,\n",
       "          6.75875932e-01,  6.79272694e-01,  6.82677312e-01,  6.86089861e-01,\n",
       "          6.89510418e-01,  6.92939063e-01,  6.96375872e-01,  6.99820927e-01,\n",
       "          7.03274307e-01,  7.06736095e-01,  7.10206374e-01,  7.13685226e-01,\n",
       "          7.17172738e-01,  7.20668994e-01,  7.24174081e-01,  7.27688089e-01,\n",
       "          7.31211105e-01,  7.34743220e-01,  7.38284525e-01,  7.41835113e-01,\n",
       "          7.45395079e-01,  7.48964516e-01,  7.52543521e-01,  7.56132192e-01,\n",
       "          7.59730627e-01,  7.63338927e-01,  7.66957192e-01,  7.70585527e-01,\n",
       "          7.74224035e-01,  7.77872821e-01,  7.81531993e-01,  7.85201660e-01,\n",
       "          7.88881931e-01,  7.92572919e-01,  7.96274735e-01,  7.99987496e-01,\n",
       "          8.03711317e-01,  8.07446316e-01,  8.11192614e-01,  8.14950331e-01,\n",
       "          8.18719591e-01,  8.22500519e-01,  8.26293242e-01,  8.30097888e-01,\n",
       "          8.33914588e-01,  8.37743475e-01,  8.41584683e-01,  8.45438348e-01,\n",
       "          8.49304611e-01,  8.53183610e-01,  8.57075490e-01,  8.60980395e-01,\n",
       "          8.64898473e-01,  8.68829874e-01,  8.72774749e-01,  8.76733253e-01,\n",
       "          8.80705544e-01,  8.84691780e-01,  8.88692124e-01,  8.92706740e-01,\n",
       "          8.96735796e-01,  9.00779461e-01,  9.04837910e-01,  9.08911317e-01,\n",
       "          9.12999861e-01,  9.17103724e-01,  9.21223092e-01,  9.25358151e-01,\n",
       "          9.29509094e-01,  9.33676115e-01,  9.37859412e-01,  9.42059185e-01,\n",
       "          9.46275641e-01,  9.50508988e-01,  9.54759438e-01,  9.59027208e-01,\n",
       "          9.63312517e-01,  9.67615589e-01,  9.71936654e-01,  9.76275942e-01,\n",
       "          9.80633692e-01,  9.85010144e-01,  9.89405544e-01,  9.93820142e-01,\n",
       "          9.98254194e-01,  1.00270796e+00,  1.00718171e+00,  1.01167570e+00,\n",
       "          1.01619022e+00,  1.02072555e+00,  1.02528197e+00,  1.02985977e+00,\n",
       "          1.03445926e+00,  1.03908074e+00,  1.04372452e+00,  1.04839092e+00,\n",
       "          1.05308025e+00,  1.05779286e+00,  1.06252908e+00,  1.06728926e+00,\n",
       "          1.07207374e+00,  1.07688289e+00,  1.08171708e+00,  1.08657668e+00,\n",
       "          1.09146207e+00,  1.09637366e+00,  1.10131184e+00,  1.10627702e+00,\n",
       "          1.11126962e+00,  1.11629008e+00,  1.12133883e+00,  1.12641633e+00,\n",
       "          1.13152304e+00,  1.13665943e+00,  1.14182598e+00,  1.14702319e+00,\n",
       "          1.15225157e+00,  1.15751164e+00,  1.16280393e+00,  1.16812900e+00,\n",
       "          1.17348739e+00,  1.17887969e+00,  1.18430649e+00,  1.18976839e+00,\n",
       "          1.19526602e+00,  1.20080002e+00,  1.20637103e+00,  1.21197974e+00,\n",
       "          1.21762684e+00,  1.22331304e+00,  1.22903907e+00,  1.23480568e+00,\n",
       "          1.24061364e+00,  1.24646376e+00,  1.25235686e+00,  1.25829377e+00,\n",
       "          1.26427536e+00,  1.27030254e+00,  1.27637622e+00,  1.28249735e+00,\n",
       "          1.28866692e+00,  1.29488593e+00,  1.30115543e+00,  1.30747649e+00,\n",
       "          1.31385023e+00,  1.32027780e+00,  1.32676039e+00,  1.33329921e+00,\n",
       "          1.33989554e+00,  1.34655069e+00,  1.35326603e+00,  1.36004295e+00,\n",
       "          1.36688292e+00,  1.37378744e+00,  1.38075808e+00,  1.38779646e+00,\n",
       "          1.39490428e+00,  1.40208327e+00,  1.40933526e+00,  1.41666214e+00,\n",
       "          1.42406586e+00,  1.43154848e+00,  1.43911213e+00,  1.44675901e+00,\n",
       "          1.45449143e+00,  1.46231182e+00,  1.47022267e+00,  1.47822662e+00,\n",
       "          1.48632640e+00,  1.49452489e+00,  1.50282508e+00,  1.51123012e+00,\n",
       "          1.51974329e+00,  1.52836806e+00,  1.53710803e+00,  1.54596703e+00,\n",
       "          1.55494904e+00,  1.56405829e+00,  1.57329919e+00,  1.58267644e+00,\n",
       "          1.59219496e+00,  1.60185996e+00,  1.61167695e+00,  1.62165177e+00,\n",
       "          1.63179060e+00,  1.64210001e+00,  1.65258695e+00,  1.66325886e+00,\n",
       "          1.67412363e+00,  1.68518969e+00,  1.69646605e+00,  1.70796234e+00,\n",
       "          1.71968891e+00,  1.73165684e+00,  1.74387806e+00,  1.75636544e+00,\n",
       "          1.76913286e+00,  1.78219536e+00,  1.79556922e+00,  1.80927218e+00,\n",
       "          1.82332353e+00,  1.83774439e+00,  1.85255788e+00,  1.86778942e+00,\n",
       "          1.88346703e+00,  1.89962173e+00,  1.91628795e+00,  1.93350410e+00,\n",
       "          1.95131317e+00,  1.96976353e+00,  1.98890986e+00,  2.00881433e+00,\n",
       "          2.02954802e+00,  2.05119276e+00,  2.07384344e+00,  2.09761094e+00,\n",
       "          2.12262602e+00,  2.14904443e+00,  2.17705381e+00,  2.20688309e+00,\n",
       "          2.23881582e+00,  2.27320918e+00,  2.31052235e+00,  2.35135999e+00,\n",
       "          2.39654187e+00,  2.44722040e+00,  2.50509207e+00,  2.57281102e+00,\n",
       "          2.65489533e+00,  2.76006552e+00,  2.90910492e+00,  3.17598360e+00]),\n",
       "  array([  1.73205081,   2.82842712,   3.87298335,   5.47722558,\n",
       "           6.32455532,   7.        ,   7.07106781,   8.60232527,\n",
       "          12.24744871,  14.83239697,  14.83239697,  14.83239697,\n",
       "          17.32050808,  18.70828693,  20.        ,  22.36067977,\n",
       "          22.36067977,  22.36067977,  24.91987159,  27.38612788,\n",
       "          28.86173938,  30.        ,  30.        ,  30.        ,\n",
       "          31.6227766 ,  31.6227766 ,  31.6227766 ,  33.1662479 ,\n",
       "          33.1662479 ,  33.83784863,  34.64101615,  34.9141805 ,\n",
       "          35.7211422 ,  37.41657387,  38.07886553,  38.07886553,\n",
       "          38.72983346,  38.72983346,  39.87480407,  40.        ,\n",
       "          40.        ,  40.        ,  40.21193853,  41.23105626,\n",
       "          41.23105626,  42.42640687,  42.53234064,  43.58898944,\n",
       "          44.72135955,  44.72135955,  44.72135955,  44.72135955,\n",
       "          44.72135955,  45.63989483,  45.82575695,  45.82575695,\n",
       "          45.82575695,  46.9041576 ,  47.95831523,  47.95831523,\n",
       "          48.39421453,  48.64154603,  48.98979486,  50.        ,\n",
       "          50.        ,  50.        ,  50.        ,  50.        ,\n",
       "          50.        ,  50.99019514,  50.99019514,  52.17278984,\n",
       "          52.91502622,  53.68426213,  53.85164807,  53.85164807,\n",
       "          54.5068803 ,  54.77225575,  54.77225575,  54.77225575,\n",
       "          54.77225575,  54.77225575,  54.77225575,  54.77225575,\n",
       "          54.77225575,  54.77225575,  56.56854249,  57.44562647,\n",
       "          57.83597496,  58.30951895,  58.54912467,  59.126982  ,\n",
       "          59.16079783,  59.16079783,  59.16079783,  59.16079783,\n",
       "          59.16079783,  59.16079783,  59.16079783,  59.58187644,\n",
       "          60.08327554,  60.8276253 ,  60.86871117,  61.64414003,\n",
       "          61.64414003,  62.84902545,  63.17436189,  63.2455532 ,\n",
       "          63.2455532 ,  63.2455532 ,  63.2455532 ,  63.2455532 ,\n",
       "          64.        ,  64.80740698,  64.80740698,  65.57438524,\n",
       "          66.33249581,  67.08203932,  67.08203932,  67.82329983,\n",
       "          69.2820323 ,  70.        ,  70.71067812,  70.71067812,\n",
       "          70.71067812,  70.71067812,  70.71067812,  70.71067812,\n",
       "          70.71067812,  70.71067812,  70.71067812,  70.71067812,\n",
       "          71.07038764,  71.09852319,  71.41428429,  71.64495795,\n",
       "          72.11102551,  72.11102551,  72.80109889,  73.41661937,\n",
       "          74.16198487,  74.16198487,  74.16198487,  74.16198487,\n",
       "          74.16198487,  74.60562981,  74.83314774,  74.83314774,\n",
       "          75.26619427,  75.49834435,  77.45966692,  77.45966692,\n",
       "          77.45966692,  77.45966692,  77.45966692,  77.45966692,\n",
       "          77.45966692,  77.45966692,  77.45966692,  77.45966692,\n",
       "          78.10249676,  78.74007874,  79.87490219,  80.        ,\n",
       "          80.        ,  80.25584091,  80.62257748,  80.62257748,\n",
       "          80.62257748,  80.62257748,  80.62257748,  80.62257748,\n",
       "          81.11103501,  82.48636251,  82.70429251,  83.21658489,\n",
       "          83.66600265,  83.66600265,  83.66600265,  83.66600265,\n",
       "          83.66600265,  83.66600265,  83.75559683,  84.08923831,\n",
       "          84.85281374,  85.44003745,  85.44003745,  86.60254038,\n",
       "          86.60254038,  86.60254038,  86.60254038,  86.60254038,\n",
       "          86.60254038,  86.60254038,  87.17797887,  89.1627725 ,\n",
       "          89.4427191 ,  89.4427191 ,  89.4427191 ,  89.4427191 ,\n",
       "          89.4427191 ,  89.4427191 ,  89.4427191 ,  89.4427191 ,\n",
       "          89.4427191 ,  89.4427191 ,  89.4427191 ,  89.4427191 ,\n",
       "          89.4427191 ,  89.54328562,  90.55385138,  90.77444574,\n",
       "          92.19544457,  92.19544457,  93.54143467,  93.978721  ,\n",
       "          94.27619   ,  94.33981132,  94.58329662,  94.60443964,\n",
       "          94.86832981,  94.86832981,  94.86832981,  94.86832981,\n",
       "          94.86832981,  94.86832981,  94.86832981,  94.86832981,\n",
       "          94.86832981,  95.7340065 ,  95.91663047,  95.91663047,\n",
       "          97.46794345,  97.46794345,  98.08669635,  98.99494937,\n",
       "          99.90995946, 100.        , 100.        , 100.        ,\n",
       "         100.        , 100.        , 100.        , 100.        ,\n",
       "         100.        , 100.        , 100.        , 100.        ,\n",
       "         100.        , 100.        , 100.        , 100.        ,\n",
       "         100.49875621, 100.99504938, 101.24228366, 102.46950766,\n",
       "         103.29569207, 103.92304845, 104.17293314, 104.88088482,\n",
       "         104.88088482, 104.88088482, 104.88088482, 104.88088482,\n",
       "         104.88088482, 104.88088482, 104.88088482, 104.88088482,\n",
       "         104.88088482, 104.88088482, 104.88088482, 104.88088482,\n",
       "         104.88088482, 105.11898021, 105.83005244, 107.23805295,\n",
       "         107.23805295, 107.42904635, 107.61040842, 108.92658078,\n",
       "         109.5445115 , 109.5445115 , 109.5445115 , 109.5445115 ,\n",
       "         109.5445115 , 109.5445115 , 109.5445115 , 109.5445115 ,\n",
       "         109.5445115 , 109.5445115 , 109.5445115 , 109.5445115 ,\n",
       "         109.5445115 , 109.5445115 , 109.5445115 , 109.5445115 ,\n",
       "         110.        , 110.45361017, 110.90536506, 111.48990986,\n",
       "         111.80339887, 111.80339887, 111.80339887, 111.92854864,\n",
       "         112.2497216 , 112.31206525, 112.31206525, 112.6232658 ,\n",
       "         113.13708499, 113.57816692, 114.01754251, 114.01754251,\n",
       "         114.01754251, 114.01754251, 114.01754251, 114.01754251,\n",
       "         114.01754251, 114.01754251, 114.01754251, 114.89125293,\n",
       "         115.75836903, 115.75836903, 115.97844627, 116.18950039,\n",
       "         116.18950039, 116.96153214, 118.32159566, 118.32159566,\n",
       "         118.32159566, 118.32159566, 118.32159566, 118.32159566,\n",
       "         118.32159566, 118.32159566, 118.32159566, 118.32159566,\n",
       "         118.32159566, 118.32159566, 118.32159566, 118.32159566,\n",
       "         118.32159566, 119.16375288, 119.33147112, 119.66620241,\n",
       "         120.41594579, 120.41594579, 120.41594579, 120.54874533,\n",
       "         121.44957801, 121.65525061, 122.03278248, 122.47448714,\n",
       "         122.47448714, 122.47448714, 122.47448714, 122.47448714,\n",
       "         122.47448714, 122.47448714, 122.47448714, 122.47448714,\n",
       "         122.47448714, 122.47448714, 122.47448714, 122.47448714,\n",
       "         122.47448714, 122.47448714, 122.47448714, 122.47448714,\n",
       "         122.47448714, 122.47448714, 122.47448714, 123.69316877,\n",
       "         123.82245354, 124.89995997, 124.93198149, 125.59856687,\n",
       "         125.6980509 , 126.1269202 , 126.49110641, 126.49110641,\n",
       "         126.49110641, 126.49110641, 126.49110641, 126.49110641,\n",
       "         126.49110641, 126.49110641, 126.49110641, 126.49110641,\n",
       "         126.49110641, 126.49110641, 126.49110641, 126.49110641,\n",
       "         126.49110641, 126.49110641, 126.49110641, 126.55433616,\n",
       "         126.76750372, 126.80693987, 126.92911408, 128.45232579,\n",
       "         128.45232579, 128.45232579, 128.45232579, 128.45232579,\n",
       "         128.45232579, 129.04262862, 129.22461066, 129.22847983,\n",
       "         129.42179106, 129.69965305, 130.3840481 , 130.3840481 ,\n",
       "         130.3840481 , 130.3840481 , 130.3840481 , 130.3840481 ,\n",
       "         130.3840481 , 130.3840481 , 130.3840481 , 130.3840481 ,\n",
       "         130.3840481 , 130.3840481 , 131.52946438, 132.53301475,\n",
       "         132.85330256, 133.07516673, 133.41664064, 133.41664064,\n",
       "         133.56646286, 133.9962686 , 134.16407865, 134.16407865,\n",
       "         134.16407865, 134.16407865, 134.16407865, 134.16407865,\n",
       "         134.16407865, 134.16407865, 134.16407865, 134.16407865,\n",
       "         134.16407865, 134.16407865, 134.95554824, 136.01470509,\n",
       "         136.01470509, 136.24610086, 136.96714935, 137.84048752,\n",
       "         137.84048752, 137.84048752, 137.84048752, 137.84048752,\n",
       "         137.84048752, 137.84048752, 137.84048752, 137.84048752,\n",
       "         137.84048752, 138.13399292, 139.64240044, 140.        ,\n",
       "         140.53469323, 140.8012784 , 140.93438189, 141.00088652,\n",
       "         141.0673598 , 141.42135624, 141.42135624, 141.42135624,\n",
       "         141.42135624, 141.42135624, 141.42135624, 141.42135624,\n",
       "         141.42135624, 141.42135624, 141.42135624, 141.42135624,\n",
       "         141.42135624, 141.42135624, 141.42135624, 141.42135624,\n",
       "         141.42135624, 141.42135624, 141.42135624, 141.42135624,\n",
       "         141.42135624, 141.42135624, 141.42135624, 141.42135624,\n",
       "         141.42135624, 142.30249471, 142.48157776, 142.59733518,\n",
       "         142.91605928, 143.17821063, 143.17821063, 143.17821063,\n",
       "         143.8749457 , 144.91376746, 144.91376746, 144.91376746,\n",
       "         144.91376746, 144.91376746, 144.91376746, 144.91376746,\n",
       "         144.91376746, 144.91376746, 144.91376746, 144.91376746,\n",
       "         144.91376746, 144.91376746, 144.91376746, 144.91376746,\n",
       "         144.91376746, 144.91376746, 144.91376746, 145.60219779,\n",
       "         146.62878299, 146.62878299, 147.86142161, 148.32396974,\n",
       "         148.32396974, 148.32396974, 148.32396974, 148.32396974,\n",
       "         148.32396974, 148.32396974, 148.32396974, 148.32396974,\n",
       "         148.32396974, 148.32396974, 148.32396974, 148.32396974,\n",
       "         148.32396974, 148.32396974, 148.32396974, 148.99664426,\n",
       "         149.19450392, 150.        , 150.26643005, 151.65750888,\n",
       "         151.65750888, 151.65750888, 151.65750888, 151.65750888,\n",
       "         151.65750888, 151.65750888, 151.65750888, 153.94804318,\n",
       "         154.59624834, 154.91933385, 154.91933385, 154.91933385,\n",
       "         154.91933385, 154.91933385, 154.91933385, 154.91933385,\n",
       "         154.91933385, 154.91933385, 154.91933385, 154.91933385,\n",
       "         154.91933385, 154.91933385, 155.88457268, 156.52475842,\n",
       "         156.52475842, 156.71949464, 156.84387141, 157.09869509,\n",
       "         157.16233646, 157.37852458, 157.79733838, 158.11388301,\n",
       "         158.11388301, 158.11388301, 158.11388301, 158.11388301,\n",
       "         158.11388301, 158.11388301, 158.11388301, 158.11388301,\n",
       "         158.11388301, 158.11388301, 158.11388301, 158.11388301,\n",
       "         158.11388301, 158.11388301, 158.11388301, 158.11388301,\n",
       "         158.11388301, 158.11388301, 158.11388301, 158.11388301,\n",
       "         158.11388301, 158.11388301, 158.11388301, 158.11388301,\n",
       "         158.11388301, 158.11388301, 158.11388301, 159.68719423,\n",
       "         160.40573556, 160.49922118, 161.24515497, 161.24515497,\n",
       "         161.55494421, 161.67869371, 162.48076809, 162.54230219,\n",
       "         162.78820596, 162.78820596, 163.70705544, 164.31676725,\n",
       "         164.31676725, 164.31676725, 164.72704696, 164.72704696,\n",
       "         165.09391267, 165.83123952, 165.83123952, 166.73332001,\n",
       "         166.73332001, 166.92213754, 167.33200531, 167.33200531,\n",
       "         167.33200531, 167.33200531, 167.33200531, 167.33200531,\n",
       "         167.33200531, 167.33200531, 167.33200531, 167.59474932,\n",
       "         167.92855624, 168.06248838, 168.81943016, 170.29386366,\n",
       "         170.29386366, 170.29386366, 170.29386366, 170.29386366,\n",
       "         170.29386366, 170.29386366, 170.29386366, 170.29386366,\n",
       "         171.73526138, 171.75564037, 171.75564037, 171.75564037,\n",
       "         171.75564037, 172.04650534, 172.62676502, 172.62676502,\n",
       "         172.91616466, 173.20508076, 173.20508076, 173.20508076,\n",
       "         173.20508076, 173.20508076, 173.20508076, 173.20508076,\n",
       "         173.20508076, 173.20508076, 173.20508076, 173.20508076,\n",
       "         173.20508076, 173.20508076, 173.20508076, 173.20508076,\n",
       "         173.20508076, 173.20508076, 173.20508076, 173.20508076,\n",
       "         173.20508076, 173.20508076, 173.20508076, 173.20508076,\n",
       "         173.20508076, 173.20508076, 173.20508076, 174.64249197,\n",
       "         174.64249197, 176.06816862, 176.06816862, 176.06816862,\n",
       "         177.20045147, 177.48239349, 177.48239349, 178.48809484,\n",
       "         178.8854382 , 178.8854382 , 178.8854382 , 178.8854382 ,\n",
       "         178.8854382 , 178.8854382 , 178.8854382 , 178.8854382 ,\n",
       "         178.8854382 , 178.8854382 , 179.46866022, 180.27756377,\n",
       "         181.65902125, 181.65902125, 181.65902125, 181.65902125,\n",
       "         181.65902125, 181.65902125, 181.65902125, 182.29097619,\n",
       "         183.03005218, 183.03005218, 183.26483569, 184.39088915,\n",
       "         184.39088915, 184.39088915, 184.39088915, 184.39088915,\n",
       "         186.54758106, 187.08286934, 187.08286934, 187.08286934,\n",
       "         187.08286934, 187.08286934, 187.08286934, 187.08286934,\n",
       "         187.08286934, 187.08286934, 187.08286934, 187.08286934,\n",
       "         187.08286934, 187.08286934, 187.08286934, 188.41443681,\n",
       "         188.67962264, 188.78559267, 189.73665961, 189.73665961,\n",
       "         189.73665961, 189.78408785, 191.04973175, 191.04973175,\n",
       "         191.36091555, 192.35384062, 192.35384062, 192.35384062,\n",
       "         192.35384062, 192.35384062, 193.82982227, 194.9358869 ,\n",
       "         194.9358869 , 194.9358869 , 194.9358869 , 194.9358869 ,\n",
       "         194.9358869 , 194.9358869 , 195.32536958, 196.52989594,\n",
       "         197.48417658, 197.48417658, 197.48417658, 197.48417658,\n",
       "         197.48417658, 198.24227602, 200.        , 200.        ,\n",
       "         200.        , 200.        , 200.        , 200.        ,\n",
       "         200.        , 200.        , 200.        , 200.        ,\n",
       "         200.        , 200.        , 200.        , 200.        ,\n",
       "         200.        , 200.        , 200.        , 200.        ,\n",
       "         200.        , 200.        , 200.        , 202.48456731,\n",
       "         204.93901532, 204.93901532, 204.93901532, 204.93901532,\n",
       "         207.36441353, 207.36441353, 207.36441353, 207.36441353,\n",
       "         207.36441353, 207.36441353, 208.08652047, 210.06903627,\n",
       "         210.9502311 , 212.13203436, 212.13203436, 212.13203436,\n",
       "         212.13203436, 212.13203436, 212.13203436, 212.13203436,\n",
       "         212.13203436, 212.13203436, 212.13203436, 212.13203436,\n",
       "         212.13203436, 213.30729008, 213.81066391, 214.00934559,\n",
       "         214.4761059 , 214.4761059 , 214.69746156, 216.79483389,\n",
       "         216.79483389, 216.79483389, 216.79483389, 218.17424229,\n",
       "         219.089023  , 219.089023  , 219.49943052, 220.22715546,\n",
       "         220.22715546, 221.35943621, 221.81073013, 223.60679775,\n",
       "         223.60679775, 223.60679775, 223.60679775, 223.60679775,\n",
       "         223.60679775, 223.60679775, 223.60679775, 223.60679775,\n",
       "         223.60679775, 223.60679775, 223.60679775, 223.74762569,\n",
       "         225.61028345, 225.83179581, 225.83179581, 225.83179581,\n",
       "         225.83179581, 225.83179581, 225.83179581, 225.83179581,\n",
       "         226.93611436, 228.03069969, 228.03508502, 228.03508502,\n",
       "         231.30067012, 232.37900077, 234.108949  , 234.52078799,\n",
       "         234.52078799, 234.52078799, 234.52078799, 234.52078799,\n",
       "         234.52078799, 234.52078799, 234.52078799, 236.64319132,\n",
       "         238.74672773, 238.74672773, 238.74672773, 238.89537459,\n",
       "         240.83189158, 240.83189158, 240.83189158, 242.23335856,\n",
       "         242.89915603, 242.89915603, 244.94897428, 244.94897428,\n",
       "         244.94897428, 244.94897428, 244.94897428, 244.94897428,\n",
       "         244.94897428, 244.94897428, 244.94897428, 244.94897428,\n",
       "         246.9817807 , 248.99799196, 248.99799196, 250.99800796,\n",
       "         250.99800796, 252.98221281, 254.95097568, 254.95097568,\n",
       "         254.95097568, 254.95097568, 256.90465157, 256.90465157,\n",
       "         256.90465157, 260.48416459, 260.76617879, 262.67851073,\n",
       "         264.57513111, 264.57513111, 264.57513111, 264.57513111,\n",
       "         264.57513111, 268.3281573 , 271.55110016, 273.86127875,\n",
       "         273.86127875, 273.86127875, 273.86127875, 275.22717889,\n",
       "         275.68097504, 277.48873851, 278.87990247, 282.84271247,\n",
       "         291.54759474, 291.54759474, 296.64793948, 297.99161062,\n",
       "         303.31501776, 308.22070015, 316.22776602, 316.22776602,\n",
       "         400.        , 491.01425641, 858.05302866, 981.18295949])),\n",
       " (66.53064591647853, 142.17222156422224, 0.919771478550263))"
      ]
     },
     "execution_count": 49,
     "metadata": {},
     "output_type": "execute_result"
    },
    {
     "data": {
      "image/png": "[encoded data removed]",
      "text/plain": [
       "<Figure size 640x480 with 1 Axes>"
      ]
     },
     "metadata": {},
     "output_type": "display_data"
    }
   ],
   "source": [
    "stats.probplot(X['sqrt_Kms_driven'], dist = \"norm\", plot = pylab)"
   ]
  },
  {
   "cell_type": "code",
   "execution_count": 50,
   "id": "186982eb",
   "metadata": {},
   "outputs": [
    {
     "data": {
      "text/plain": [
       "<seaborn.axisgrid.FacetGrid at 0x24b7fe8fe80>"
      ]
     },
     "execution_count": 50,
     "metadata": {},
     "output_type": "execute_result"
    },
    {
     "data": {
      "image/png": "[encoded data removed]",
      "text/plain": [
       "<Figure size 500x500 with 1 Axes>"
      ]
     },
     "metadata": {},
     "output_type": "display_data"
    }
   ],
   "source": [
    "sns.displot(X['sqrt_Kms_driven'],kde=True, bins=50)"
   ]
  },
  {
   "cell_type": "code",
   "execution_count": 51,
   "id": "7d426bce",
   "metadata": {},
   "outputs": [],
   "source": [
    "from feature_engine.outliers import Winsorizer"
   ]
  },
  {
   "cell_type": "code",
   "execution_count": 52,
   "id": "532ed35f",
   "metadata": {},
   "outputs": [],
   "source": [
    "#Define the model with IQR method\n",
    "winsor_iqr = Winsorizer(capping_method = 'iqr', \n",
    "                        # choose  IQR rule boundaries or gaussian for mean and std\n",
    "                          tail = 'right', # cap left, right or both tails \n",
    "                          fold = 1.5,\n",
    "                          variables = ['sqrt_Kms_driven'])"
   ]
  },
  {
   "cell_type": "code",
   "execution_count": 53,
   "id": "cf8d0c93",
   "metadata": {},
   "outputs": [],
   "source": [
    "X[\"Kms_driven_treated\"]=winsor_iqr.fit_transform(X[['sqrt_Kms_driven']])"
   ]
  },
  {
   "cell_type": "code",
   "execution_count": 54,
   "id": "ce29e92f",
   "metadata": {},
   "outputs": [
    {
     "data": {
      "text/plain": [
       "<AxesSubplot: >"
      ]
     },
     "execution_count": 54,
     "metadata": {},
     "output_type": "execute_result"
    },
    {
     "data": {
      "image/png": "[encoded data removed]",
      "text/plain": [
       "<Figure size 640x480 with 1 Axes>"
      ]
     },
     "metadata": {},
     "output_type": "display_data"
    }
   ],
   "source": [
    "sns.boxplot(X.Kms_driven_treated)"
   ]
  },
  {
   "cell_type": "code",
   "execution_count": 55,
   "id": "509c709a",
   "metadata": {},
   "outputs": [
    {
     "data": {
      "text/html": [
       "<div>\n",
       "<style scoped>\n",
       "    .dataframe tbody tr th:only-of-type {\n",
       "        vertical-align: middle;\n",
       "    }\n",
       "\n",
       "    .dataframe tbody tr th {\n",
       "        vertical-align: top;\n",
       "    }\n",
       "\n",
       "    .dataframe thead th {\n",
       "        text-align: right;\n",
       "    }\n",
       "</style>\n",
       "<table border=\"1\" class=\"dataframe\">\n",
       "  <thead>\n",
       "    <tr style=\"text-align: right;\">\n",
       "      <th></th>\n",
       "      <th>Model</th>\n",
       "      <th>Brand</th>\n",
       "      <th>Kms_driven</th>\n",
       "      <th>Years_used</th>\n",
       "      <th>sqrt_Kms_driven</th>\n",
       "      <th>Kms_driven_treated</th>\n",
       "    </tr>\n",
       "  </thead>\n",
       "  <tbody>\n",
       "    <tr>\n",
       "      <th>0</th>\n",
       "      <td>Honda Activa 5G</td>\n",
       "      <td>Honda</td>\n",
       "      <td>11500.000</td>\n",
       "      <td>4</td>\n",
       "      <td>107.238</td>\n",
       "      <td>107.238</td>\n",
       "    </tr>\n",
       "    <tr>\n",
       "      <th>1</th>\n",
       "      <td>Bajaj Dominar 400</td>\n",
       "      <td>Bajaj</td>\n",
       "      <td>21863.000</td>\n",
       "      <td>3</td>\n",
       "      <td>147.861</td>\n",
       "      <td>147.861</td>\n",
       "    </tr>\n",
       "    <tr>\n",
       "      <th>2</th>\n",
       "      <td>Royal Enfield Classic 500</td>\n",
       "      <td>Royal Enfield</td>\n",
       "      <td>39000.000</td>\n",
       "      <td>4</td>\n",
       "      <td>197.484</td>\n",
       "      <td>197.484</td>\n",
       "    </tr>\n",
       "    <tr>\n",
       "      <th>3</th>\n",
       "      <td>TVS Ntorq 125</td>\n",
       "      <td>TVS</td>\n",
       "      <td>5300.000</td>\n",
       "      <td>2</td>\n",
       "      <td>72.801</td>\n",
       "      <td>72.801</td>\n",
       "    </tr>\n",
       "    <tr>\n",
       "      <th>4</th>\n",
       "      <td>Hero Xpulse 200</td>\n",
       "      <td>Hero</td>\n",
       "      <td>400.000</td>\n",
       "      <td>0</td>\n",
       "      <td>20.000</td>\n",
       "      <td>20.000</td>\n",
       "    </tr>\n",
       "  </tbody>\n",
       "</table>\n",
       "</div>"
      ],
      "text/plain": [
       "                       Model          Brand  Kms_driven  Years_used  \\\n",
       "0            Honda Activa 5G          Honda   11500.000           4   \n",
       "1          Bajaj Dominar 400          Bajaj   21863.000           3   \n",
       "2  Royal Enfield Classic 500  Royal Enfield   39000.000           4   \n",
       "3              TVS Ntorq 125            TVS    5300.000           2   \n",
       "4            Hero Xpulse 200           Hero     400.000           0   \n",
       "\n",
       "   sqrt_Kms_driven  Kms_driven_treated  \n",
       "0          107.238             107.238  \n",
       "1          147.861             147.861  \n",
       "2          197.484             197.484  \n",
       "3           72.801              72.801  \n",
       "4           20.000              20.000  "
      ]
     },
     "execution_count": 55,
     "metadata": {},
     "output_type": "execute_result"
    }
   ],
   "source": [
    "X.head()"
   ]
  },
  {
   "cell_type": "code",
   "execution_count": 56,
   "id": "a170e565",
   "metadata": {},
   "outputs": [],
   "source": [
    "X.drop([\"sqrt_Kms_driven\",\"Kms_driven\"],axis=1, inplace=True)"
   ]
  },
  {
   "cell_type": "code",
   "execution_count": 57,
   "id": "8354a35d",
   "metadata": {},
   "outputs": [
    {
     "data": {
      "text/html": [
       "<div>\n",
       "<style scoped>\n",
       "    .dataframe tbody tr th:only-of-type {\n",
       "        vertical-align: middle;\n",
       "    }\n",
       "\n",
       "    .dataframe tbody tr th {\n",
       "        vertical-align: top;\n",
       "    }\n",
       "\n",
       "    .dataframe thead th {\n",
       "        text-align: right;\n",
       "    }\n",
       "</style>\n",
       "<table border=\"1\" class=\"dataframe\">\n",
       "  <thead>\n",
       "    <tr style=\"text-align: right;\">\n",
       "      <th></th>\n",
       "      <th>Model</th>\n",
       "      <th>Brand</th>\n",
       "      <th>Years_used</th>\n",
       "      <th>Kms_driven_treated</th>\n",
       "    </tr>\n",
       "  </thead>\n",
       "  <tbody>\n",
       "    <tr>\n",
       "      <th>0</th>\n",
       "      <td>Honda Activa 5G</td>\n",
       "      <td>Honda</td>\n",
       "      <td>4</td>\n",
       "      <td>107.238</td>\n",
       "    </tr>\n",
       "    <tr>\n",
       "      <th>1</th>\n",
       "      <td>Bajaj Dominar 400</td>\n",
       "      <td>Bajaj</td>\n",
       "      <td>3</td>\n",
       "      <td>147.861</td>\n",
       "    </tr>\n",
       "    <tr>\n",
       "      <th>2</th>\n",
       "      <td>Royal Enfield Classic 500</td>\n",
       "      <td>Royal Enfield</td>\n",
       "      <td>4</td>\n",
       "      <td>197.484</td>\n",
       "    </tr>\n",
       "    <tr>\n",
       "      <th>3</th>\n",
       "      <td>TVS Ntorq 125</td>\n",
       "      <td>TVS</td>\n",
       "      <td>2</td>\n",
       "      <td>72.801</td>\n",
       "    </tr>\n",
       "    <tr>\n",
       "      <th>4</th>\n",
       "      <td>Hero Xpulse 200</td>\n",
       "      <td>Hero</td>\n",
       "      <td>0</td>\n",
       "      <td>20.000</td>\n",
       "    </tr>\n",
       "  </tbody>\n",
       "</table>\n",
       "</div>"
      ],
      "text/plain": [
       "                       Model          Brand  Years_used  Kms_driven_treated\n",
       "0            Honda Activa 5G          Honda           4             107.238\n",
       "1          Bajaj Dominar 400          Bajaj           3             147.861\n",
       "2  Royal Enfield Classic 500  Royal Enfield           4             197.484\n",
       "3              TVS Ntorq 125            TVS           2              72.801\n",
       "4            Hero Xpulse 200           Hero           0              20.000"
      ]
     },
     "execution_count": 57,
     "metadata": {},
     "output_type": "execute_result"
    }
   ],
   "source": [
    "X.head()"
   ]
  },
  {
   "cell_type": "code",
   "execution_count": 58,
   "id": "be4ab522",
   "metadata": {},
   "outputs": [
    {
     "data": {
      "text/html": [
       "<div>\n",
       "<style scoped>\n",
       "    .dataframe tbody tr th:only-of-type {\n",
       "        vertical-align: middle;\n",
       "    }\n",
       "\n",
       "    .dataframe tbody tr th {\n",
       "        vertical-align: top;\n",
       "    }\n",
       "\n",
       "    .dataframe thead th {\n",
       "        text-align: right;\n",
       "    }\n",
       "</style>\n",
       "<table border=\"1\" class=\"dataframe\">\n",
       "  <thead>\n",
       "    <tr style=\"text-align: right;\">\n",
       "      <th></th>\n",
       "      <th>Log_Price</th>\n",
       "    </tr>\n",
       "  </thead>\n",
       "  <tbody>\n",
       "    <tr>\n",
       "      <th>0</th>\n",
       "      <td>9.616</td>\n",
       "    </tr>\n",
       "    <tr>\n",
       "      <th>1</th>\n",
       "      <td>11.951</td>\n",
       "    </tr>\n",
       "    <tr>\n",
       "      <th>2</th>\n",
       "      <td>11.970</td>\n",
       "    </tr>\n",
       "    <tr>\n",
       "      <th>3</th>\n",
       "      <td>10.358</td>\n",
       "    </tr>\n",
       "    <tr>\n",
       "      <th>4</th>\n",
       "      <td>11.813</td>\n",
       "    </tr>\n",
       "  </tbody>\n",
       "</table>\n",
       "</div>"
      ],
      "text/plain": [
       "   Log_Price\n",
       "0      9.616\n",
       "1     11.951\n",
       "2     11.970\n",
       "3     10.358\n",
       "4     11.813"
      ]
     },
     "execution_count": 58,
     "metadata": {},
     "output_type": "execute_result"
    }
   ],
   "source": [
    "y.head()"
   ]
  },
  {
   "cell_type": "markdown",
   "id": "ffbde631",
   "metadata": {},
   "source": [
    "## Model Building"
   ]
  },
  {
   "cell_type": "code",
   "execution_count": 59,
   "id": "fbe57739",
   "metadata": {},
   "outputs": [],
   "source": [
    "from sklearn.model_selection import train_test_split\n",
    "X_train,X_test,y_train,y_test=train_test_split(X,y,test_size=0.2)"
   ]
  },
  {
   "cell_type": "code",
   "execution_count": 60,
   "id": "3e1c62da",
   "metadata": {},
   "outputs": [
    {
     "data": {
      "text/plain": [
       "OneHotEncoder()"
      ]
     },
     "execution_count": 60,
     "metadata": {},
     "output_type": "execute_result"
    }
   ],
   "source": [
    "from sklearn.preprocessing import OneHotEncoder\n",
    "ohe=OneHotEncoder()\n",
    "ohe.fit(X[['Model','Brand']])"
   ]
  },
  {
   "cell_type": "code",
   "execution_count": 61,
   "id": "b55dab10",
   "metadata": {},
   "outputs": [],
   "source": [
    "from sklearn.compose import make_column_transformer\n",
    "column_trans=make_column_transformer((OneHotEncoder(categories=ohe.categories_),['Model','Brand']),\n",
    "                                    remainder='passthrough')"
   ]
  },
  {
   "cell_type": "code",
   "execution_count": 62,
   "id": "1e0cfca5",
   "metadata": {},
   "outputs": [],
   "source": [
    "from sklearn.pipeline import make_pipeline\n",
    "from sklearn.linear_model import LinearRegression\n",
    "from sklearn.metrics import r2_score\n",
    "lr=LinearRegression()"
   ]
  },
  {
   "cell_type": "code",
   "execution_count": 63,
   "id": "e615a35b",
   "metadata": {},
   "outputs": [],
   "source": [
    "scores=[]\n",
    "for i in range(1000):\n",
    "    X_train,X_test,y_train,y_test=train_test_split(X,y,test_size=0.1,random_state=i)\n",
    "    lr=LinearRegression()\n",
    "    pipe=make_pipeline(column_trans,lr)\n",
    "    pipe.fit(X_train,y_train)\n",
    "    y_pred=pipe.predict(X_test)\n",
    "    scores.append(r2_score(y_test,y_pred))"
   ]
  },
  {
   "cell_type": "code",
   "execution_count": 64,
   "id": "797033d1",
   "metadata": {},
   "outputs": [
    {
     "name": "stdout",
     "output_type": "stream",
     "text": [
      "421\n",
      "0.9307859558576026\n"
     ]
    }
   ],
   "source": [
    "print(np.argmax(scores))\n",
    "print(scores[np.argmax(scores)])"
   ]
  },
  {
   "cell_type": "code",
   "execution_count": 65,
   "id": "9cec155b",
   "metadata": {},
   "outputs": [
    {
     "data": {
      "text/plain": [
       "Pipeline(steps=[('columntransformer',\n",
       "                 ColumnTransformer(remainder='passthrough',\n",
       "                                   transformers=[('onehotencoder',\n",
       "                                                  OneHotEncoder(categories=[array(['Aprilia SR 150', 'Aprilia SRV 850 ABS', 'Ather Energy Ather 450',\n",
       "       'Ather Energy Ather 450X', 'BMW F650', 'BMW S 1000 R',\n",
       "       'Bajaj 4S Champion', 'Bajaj Avenger', 'Bajaj Avenger Cruise 220',\n",
       "       'Bajaj Avenger Street 150', 'Bajaj Avenger Street 160',\n",
       "       '...\n",
       "       'Yamaha SZ R', 'Yamaha SZ RR', 'Yamaha SZ RR V', 'Yamaha Saluto',\n",
       "       'Yamaha YZF R15', 'Yezdi Classic', 'Yezdi Road King'], dtype=object),\n",
       "                                                                            array(['Aprilia', 'Ather', 'BMW', 'Bajaj', 'Benelli', 'Harley', 'Hero',\n",
       "       'Honda', 'Hyosung', 'Indian', 'Jawa', 'KTM', 'Kawasaki', 'LML',\n",
       "       'Mahindra', 'Royal Enfield', 'Suzuki', 'TVS', 'UM', 'YO Bikes',\n",
       "       'Yamaha', 'Yezdi'], dtype=object)]),\n",
       "                                                  ['Model', 'Brand'])])),\n",
       "                ('linearregression', LinearRegression())])"
      ]
     },
     "execution_count": 65,
     "metadata": {},
     "output_type": "execute_result"
    }
   ],
   "source": [
    "X_train,X_test,y_train,y_test=train_test_split(X,y,test_size=0.1,random_state=np.argmax(scores))\n",
    "lr=LinearRegression()\n",
    "pipe=make_pipeline(column_trans,lr)\n",
    "pipe.fit(X_train,y_train)"
   ]
  },
  {
   "cell_type": "code",
   "execution_count": 66,
   "id": "4abccf81",
   "metadata": {},
   "outputs": [
    {
     "data": {
      "text/plain": [
       "0.9307859558576026"
      ]
     },
     "execution_count": 66,
     "metadata": {},
     "output_type": "execute_result"
    }
   ],
   "source": [
    "y_pred=pipe.predict(X_test)\n",
    "r2_score(y_test,y_pred)"
   ]
  },
  {
   "cell_type": "code",
   "execution_count": 67,
   "id": "7755e788",
   "metadata": {},
   "outputs": [
    {
     "data": {
      "text/plain": [
       "0.9030246065954122"
      ]
     },
     "execution_count": 67,
     "metadata": {},
     "output_type": "execute_result"
    }
   ],
   "source": [
    "y_pred_train=pipe.predict(X_train)\n",
    "r2_score(y_train,y_pred_train)"
   ]
  },
  {
   "cell_type": "code",
   "execution_count": 68,
   "id": "c12d11fa",
   "metadata": {},
   "outputs": [],
   "source": [
    "import pickle"
   ]
  },
  {
   "cell_type": "code",
   "execution_count": 69,
   "id": "48b539af",
   "metadata": {},
   "outputs": [],
   "source": [
    "pickle.dump(pipe,open('RegressionModel_bike.pkl','wb'))"
   ]
  },
  {
   "cell_type": "code",
   "execution_count": null,
   "id": "e3ce853b",
   "metadata": {},
   "outputs": [],
   "source": []
  }
 ],
 "metadata": {
  "kernelspec": {
   "display_name": "Python 3 (ipykernel)",
   "language": "python",
   "name": "python3"
  },
  "language_info": {
   "codemirror_mode": {
    "name": "ipython",
    "version": 3
   },
   "file_extension": ".py",
   "mimetype": "text/x-python",
   "name": "python",
   "nbconvert_exporter": "python",
   "pygments_lexer": "ipython3",
   "version": "3.10.7"
  }
 },
 "nbformat": 4,
 "nbformat_minor": 5
}
