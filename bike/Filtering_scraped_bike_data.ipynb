{
 "cells": [
  {
   "cell_type": "code",
   "execution_count": 1,
   "id": "005a0b0c",
   "metadata": {},
   "outputs": [],
   "source": [
    "import pandas as pd\n",
    "import numpy as np"
   ]
  },
  {
   "cell_type": "code",
   "execution_count": 2,
   "id": "3eb22a7c",
   "metadata": {},
   "outputs": [],
   "source": [
    "raw_data = pd.read_csv(\"bike_price.csv\")"
   ]
  },
  {
   "cell_type": "code",
   "execution_count": 3,
   "id": "2d68affa",
   "metadata": {},
   "outputs": [
    {
     "data": {
      "text/html": [
       "<div>\n",
       "<style scoped>\n",
       "    .dataframe tbody tr th:only-of-type {\n",
       "        vertical-align: middle;\n",
       "    }\n",
       "\n",
       "    .dataframe tbody tr th {\n",
       "        vertical-align: top;\n",
       "    }\n",
       "\n",
       "    .dataframe thead th {\n",
       "        text-align: right;\n",
       "    }\n",
       "</style>\n",
       "<table border=\"1\" class=\"dataframe\">\n",
       "  <thead>\n",
       "    <tr style=\"text-align: right;\">\n",
       "      <th></th>\n",
       "      <th>brand</th>\n",
       "      <th>features</th>\n",
       "      <th>price</th>\n",
       "    </tr>\n",
       "  </thead>\n",
       "  <tbody>\n",
       "    <tr>\n",
       "      <th>0</th>\n",
       "      <td>Honda Activa 5G - 2018</td>\n",
       "      <td>11,500 kms</td>\n",
       "      <td>₹15,000</td>\n",
       "    </tr>\n",
       "    <tr>\n",
       "      <th>1</th>\n",
       "      <td>Bajaj Dominar 400 - 2019</td>\n",
       "      <td>21,863 kms</td>\n",
       "      <td>₹1,55,000</td>\n",
       "    </tr>\n",
       "    <tr>\n",
       "      <th>2</th>\n",
       "      <td>Royal Enfield Classic 500 - 2018</td>\n",
       "      <td>39,000 kms</td>\n",
       "      <td>₹1,58,000</td>\n",
       "    </tr>\n",
       "    <tr>\n",
       "      <th>3</th>\n",
       "      <td>Royal Enfield Classic 500 - 2018</td>\n",
       "      <td>39,000 kms</td>\n",
       "      <td>₹1,50,000</td>\n",
       "    </tr>\n",
       "    <tr>\n",
       "      <th>4</th>\n",
       "      <td>TVS Ntorq 125 - 2020</td>\n",
       "      <td>5,300 kms</td>\n",
       "      <td>₹31,500</td>\n",
       "    </tr>\n",
       "    <tr>\n",
       "      <th>5</th>\n",
       "      <td>Hero Xpulse 200 - 2022</td>\n",
       "      <td>400 kms / 1st Owner</td>\n",
       "      <td>₹1,35,000</td>\n",
       "    </tr>\n",
       "    <tr>\n",
       "      <th>6</th>\n",
       "      <td>Harley Davidson Fat Boy - 2015</td>\n",
       "      <td>12,600 kms</td>\n",
       "      <td>₹7,40,000</td>\n",
       "    </tr>\n",
       "    <tr>\n",
       "      <th>7</th>\n",
       "      <td>Royal Enfield Classic 350 - 2019</td>\n",
       "      <td>29,800 kms</td>\n",
       "      <td>₹1,20,000</td>\n",
       "    </tr>\n",
       "    <tr>\n",
       "      <th>8</th>\n",
       "      <td>Royal Enfield Bullet Electra - 2013</td>\n",
       "      <td>53,500 kms</td>\n",
       "      <td>₹65,000</td>\n",
       "    </tr>\n",
       "    <tr>\n",
       "      <th>9</th>\n",
       "      <td>TVS Star Sport - 2018</td>\n",
       "      <td>6,840 kms</td>\n",
       "      <td>₹34,500</td>\n",
       "    </tr>\n",
       "  </tbody>\n",
       "</table>\n",
       "</div>"
      ],
      "text/plain": [
       "                                 brand             features       price\n",
       "0               Honda Activa 5G - 2018           11,500 kms    ₹15,000 \n",
       "1             Bajaj Dominar 400 - 2019           21,863 kms  ₹1,55,000 \n",
       "2     Royal Enfield Classic 500 - 2018           39,000 kms  ₹1,58,000 \n",
       "3     Royal Enfield Classic 500 - 2018           39,000 kms  ₹1,50,000 \n",
       "4                 TVS Ntorq 125 - 2020            5,300 kms    ₹31,500 \n",
       "5               Hero Xpulse 200 - 2022  400 kms / 1st Owner  ₹1,35,000 \n",
       "6       Harley Davidson Fat Boy - 2015           12,600 kms  ₹7,40,000 \n",
       "7     Royal Enfield Classic 350 - 2019           29,800 kms  ₹1,20,000 \n",
       "8  Royal Enfield Bullet Electra - 2013           53,500 kms    ₹65,000 \n",
       "9                TVS Star Sport - 2018            6,840 kms    ₹34,500 "
      ]
     },
     "execution_count": 3,
     "metadata": {},
     "output_type": "execute_result"
    }
   ],
   "source": [
    "raw_data.head(10)"
   ]
  },
  {
   "cell_type": "markdown",
   "id": "cf5c5b1a",
   "metadata": {},
   "source": [
    "## Issues to handle\n",
    "\n",
    "1. Seperating Brand and Model from brand column\n",
    "2. Seperating year from brand column\n",
    "3. Seperating Kms, fuel from features column\n",
    "4. Removing 'kms', and comma from kms column\n",
    "5. Removing rupees sign and comma from price column\n",
    "6. Changing datatypes of few columns"
   ]
  },
  {
   "cell_type": "code",
   "execution_count": 4,
   "id": "1c8ae8b0",
   "metadata": {},
   "outputs": [],
   "source": [
    "raw_data[['Model','Year']] = raw_data.brand.str.split(\"-\",expand=True,)"
   ]
  },
  {
   "cell_type": "code",
   "execution_count": 5,
   "id": "5ff6fb72",
   "metadata": {},
   "outputs": [
    {
     "data": {
      "text/html": [
       "<div>\n",
       "<style scoped>\n",
       "    .dataframe tbody tr th:only-of-type {\n",
       "        vertical-align: middle;\n",
       "    }\n",
       "\n",
       "    .dataframe tbody tr th {\n",
       "        vertical-align: top;\n",
       "    }\n",
       "\n",
       "    .dataframe thead th {\n",
       "        text-align: right;\n",
       "    }\n",
       "</style>\n",
       "<table border=\"1\" class=\"dataframe\">\n",
       "  <thead>\n",
       "    <tr style=\"text-align: right;\">\n",
       "      <th></th>\n",
       "      <th>brand</th>\n",
       "      <th>features</th>\n",
       "      <th>price</th>\n",
       "      <th>Model</th>\n",
       "      <th>Year</th>\n",
       "    </tr>\n",
       "  </thead>\n",
       "  <tbody>\n",
       "    <tr>\n",
       "      <th>0</th>\n",
       "      <td>Honda Activa 5G - 2018</td>\n",
       "      <td>11,500 kms</td>\n",
       "      <td>₹15,000</td>\n",
       "      <td>Honda Activa 5G</td>\n",
       "      <td>2018</td>\n",
       "    </tr>\n",
       "    <tr>\n",
       "      <th>1</th>\n",
       "      <td>Bajaj Dominar 400 - 2019</td>\n",
       "      <td>21,863 kms</td>\n",
       "      <td>₹1,55,000</td>\n",
       "      <td>Bajaj Dominar 400</td>\n",
       "      <td>2019</td>\n",
       "    </tr>\n",
       "    <tr>\n",
       "      <th>2</th>\n",
       "      <td>Royal Enfield Classic 500 - 2018</td>\n",
       "      <td>39,000 kms</td>\n",
       "      <td>₹1,58,000</td>\n",
       "      <td>Royal Enfield Classic 500</td>\n",
       "      <td>2018</td>\n",
       "    </tr>\n",
       "    <tr>\n",
       "      <th>3</th>\n",
       "      <td>Royal Enfield Classic 500 - 2018</td>\n",
       "      <td>39,000 kms</td>\n",
       "      <td>₹1,50,000</td>\n",
       "      <td>Royal Enfield Classic 500</td>\n",
       "      <td>2018</td>\n",
       "    </tr>\n",
       "    <tr>\n",
       "      <th>4</th>\n",
       "      <td>TVS Ntorq 125 - 2020</td>\n",
       "      <td>5,300 kms</td>\n",
       "      <td>₹31,500</td>\n",
       "      <td>TVS Ntorq 125</td>\n",
       "      <td>2020</td>\n",
       "    </tr>\n",
       "  </tbody>\n",
       "</table>\n",
       "</div>"
      ],
      "text/plain": [
       "                              brand    features       price  \\\n",
       "0            Honda Activa 5G - 2018  11,500 kms    ₹15,000    \n",
       "1          Bajaj Dominar 400 - 2019  21,863 kms  ₹1,55,000    \n",
       "2  Royal Enfield Classic 500 - 2018  39,000 kms  ₹1,58,000    \n",
       "3  Royal Enfield Classic 500 - 2018  39,000 kms  ₹1,50,000    \n",
       "4              TVS Ntorq 125 - 2020   5,300 kms    ₹31,500    \n",
       "\n",
       "                        Model   Year  \n",
       "0            Honda Activa 5G    2018  \n",
       "1          Bajaj Dominar 400    2019  \n",
       "2  Royal Enfield Classic 500    2018  \n",
       "3  Royal Enfield Classic 500    2018  \n",
       "4              TVS Ntorq 125    2020  "
      ]
     },
     "execution_count": 5,
     "metadata": {},
     "output_type": "execute_result"
    }
   ],
   "source": [
    "raw_data.head()"
   ]
  },
  {
   "cell_type": "code",
   "execution_count": 6,
   "id": "1c3e385c",
   "metadata": {},
   "outputs": [],
   "source": [
    "raw_data[\"Brand\"]=raw_data['Model'].str.split(' ').str[0]"
   ]
  },
  {
   "cell_type": "code",
   "execution_count": 25,
   "id": "0dd078c8",
   "metadata": {},
   "outputs": [],
   "source": [
    "raw_data[\"Brand\"] = raw_data['Brand'].replace({'Royal': 'Royal Enfield', 'YO': 'YO Bikes'})\n",
    "raw_data[\"Year\"] = raw_data['Year'].replace({' Before 1995': '1995'})"
   ]
  },
  {
   "cell_type": "code",
   "execution_count": 8,
   "id": "a81797b1",
   "metadata": {},
   "outputs": [
    {
     "data": {
      "text/html": [
       "<div>\n",
       "<style scoped>\n",
       "    .dataframe tbody tr th:only-of-type {\n",
       "        vertical-align: middle;\n",
       "    }\n",
       "\n",
       "    .dataframe tbody tr th {\n",
       "        vertical-align: top;\n",
       "    }\n",
       "\n",
       "    .dataframe thead th {\n",
       "        text-align: right;\n",
       "    }\n",
       "</style>\n",
       "<table border=\"1\" class=\"dataframe\">\n",
       "  <thead>\n",
       "    <tr style=\"text-align: right;\">\n",
       "      <th></th>\n",
       "      <th>brand</th>\n",
       "      <th>features</th>\n",
       "      <th>price</th>\n",
       "      <th>Model</th>\n",
       "      <th>Year</th>\n",
       "      <th>Brand</th>\n",
       "    </tr>\n",
       "  </thead>\n",
       "  <tbody>\n",
       "    <tr>\n",
       "      <th>0</th>\n",
       "      <td>Honda Activa 5G - 2018</td>\n",
       "      <td>11,500 kms</td>\n",
       "      <td>₹15,000</td>\n",
       "      <td>Honda Activa 5G</td>\n",
       "      <td>2018</td>\n",
       "      <td>Honda</td>\n",
       "    </tr>\n",
       "    <tr>\n",
       "      <th>1</th>\n",
       "      <td>Bajaj Dominar 400 - 2019</td>\n",
       "      <td>21,863 kms</td>\n",
       "      <td>₹1,55,000</td>\n",
       "      <td>Bajaj Dominar 400</td>\n",
       "      <td>2019</td>\n",
       "      <td>Bajaj</td>\n",
       "    </tr>\n",
       "    <tr>\n",
       "      <th>2</th>\n",
       "      <td>Royal Enfield Classic 500 - 2018</td>\n",
       "      <td>39,000 kms</td>\n",
       "      <td>₹1,58,000</td>\n",
       "      <td>Royal Enfield Classic 500</td>\n",
       "      <td>2018</td>\n",
       "      <td>Royal Enfield</td>\n",
       "    </tr>\n",
       "    <tr>\n",
       "      <th>3</th>\n",
       "      <td>Royal Enfield Classic 500 - 2018</td>\n",
       "      <td>39,000 kms</td>\n",
       "      <td>₹1,50,000</td>\n",
       "      <td>Royal Enfield Classic 500</td>\n",
       "      <td>2018</td>\n",
       "      <td>Royal Enfield</td>\n",
       "    </tr>\n",
       "    <tr>\n",
       "      <th>4</th>\n",
       "      <td>TVS Ntorq 125 - 2020</td>\n",
       "      <td>5,300 kms</td>\n",
       "      <td>₹31,500</td>\n",
       "      <td>TVS Ntorq 125</td>\n",
       "      <td>2020</td>\n",
       "      <td>TVS</td>\n",
       "    </tr>\n",
       "  </tbody>\n",
       "</table>\n",
       "</div>"
      ],
      "text/plain": [
       "                              brand    features       price  \\\n",
       "0            Honda Activa 5G - 2018  11,500 kms    ₹15,000    \n",
       "1          Bajaj Dominar 400 - 2019  21,863 kms  ₹1,55,000    \n",
       "2  Royal Enfield Classic 500 - 2018  39,000 kms  ₹1,58,000    \n",
       "3  Royal Enfield Classic 500 - 2018  39,000 kms  ₹1,50,000    \n",
       "4              TVS Ntorq 125 - 2020   5,300 kms    ₹31,500    \n",
       "\n",
       "                        Model   Year          Brand  \n",
       "0            Honda Activa 5G    2018          Honda  \n",
       "1          Bajaj Dominar 400    2019          Bajaj  \n",
       "2  Royal Enfield Classic 500    2018  Royal Enfield  \n",
       "3  Royal Enfield Classic 500    2018  Royal Enfield  \n",
       "4              TVS Ntorq 125    2020            TVS  "
      ]
     },
     "execution_count": 8,
     "metadata": {},
     "output_type": "execute_result"
    }
   ],
   "source": [
    "raw_data.head()"
   ]
  },
  {
   "cell_type": "code",
   "execution_count": 9,
   "id": "14fc6a1f",
   "metadata": {},
   "outputs": [],
   "source": [
    "raw_data.drop(\"brand\", axis=1, inplace =True)"
   ]
  },
  {
   "cell_type": "code",
   "execution_count": 10,
   "id": "cdb14c9f",
   "metadata": {},
   "outputs": [
    {
     "data": {
      "text/html": [
       "<div>\n",
       "<style scoped>\n",
       "    .dataframe tbody tr th:only-of-type {\n",
       "        vertical-align: middle;\n",
       "    }\n",
       "\n",
       "    .dataframe tbody tr th {\n",
       "        vertical-align: top;\n",
       "    }\n",
       "\n",
       "    .dataframe thead th {\n",
       "        text-align: right;\n",
       "    }\n",
       "</style>\n",
       "<table border=\"1\" class=\"dataframe\">\n",
       "  <thead>\n",
       "    <tr style=\"text-align: right;\">\n",
       "      <th></th>\n",
       "      <th>features</th>\n",
       "      <th>price</th>\n",
       "      <th>Model</th>\n",
       "      <th>Year</th>\n",
       "      <th>Brand</th>\n",
       "    </tr>\n",
       "  </thead>\n",
       "  <tbody>\n",
       "    <tr>\n",
       "      <th>0</th>\n",
       "      <td>11,500 kms</td>\n",
       "      <td>₹15,000</td>\n",
       "      <td>Honda Activa 5G</td>\n",
       "      <td>2018</td>\n",
       "      <td>Honda</td>\n",
       "    </tr>\n",
       "    <tr>\n",
       "      <th>1</th>\n",
       "      <td>21,863 kms</td>\n",
       "      <td>₹1,55,000</td>\n",
       "      <td>Bajaj Dominar 400</td>\n",
       "      <td>2019</td>\n",
       "      <td>Bajaj</td>\n",
       "    </tr>\n",
       "    <tr>\n",
       "      <th>2</th>\n",
       "      <td>39,000 kms</td>\n",
       "      <td>₹1,58,000</td>\n",
       "      <td>Royal Enfield Classic 500</td>\n",
       "      <td>2018</td>\n",
       "      <td>Royal Enfield</td>\n",
       "    </tr>\n",
       "    <tr>\n",
       "      <th>3</th>\n",
       "      <td>39,000 kms</td>\n",
       "      <td>₹1,50,000</td>\n",
       "      <td>Royal Enfield Classic 500</td>\n",
       "      <td>2018</td>\n",
       "      <td>Royal Enfield</td>\n",
       "    </tr>\n",
       "    <tr>\n",
       "      <th>4</th>\n",
       "      <td>5,300 kms</td>\n",
       "      <td>₹31,500</td>\n",
       "      <td>TVS Ntorq 125</td>\n",
       "      <td>2020</td>\n",
       "      <td>TVS</td>\n",
       "    </tr>\n",
       "  </tbody>\n",
       "</table>\n",
       "</div>"
      ],
      "text/plain": [
       "     features       price                       Model   Year          Brand\n",
       "0  11,500 kms    ₹15,000             Honda Activa 5G    2018          Honda\n",
       "1  21,863 kms  ₹1,55,000           Bajaj Dominar 400    2019          Bajaj\n",
       "2  39,000 kms  ₹1,58,000   Royal Enfield Classic 500    2018  Royal Enfield\n",
       "3  39,000 kms  ₹1,50,000   Royal Enfield Classic 500    2018  Royal Enfield\n",
       "4   5,300 kms    ₹31,500               TVS Ntorq 125    2020            TVS"
      ]
     },
     "execution_count": 10,
     "metadata": {},
     "output_type": "execute_result"
    }
   ],
   "source": [
    "raw_data.head()"
   ]
  },
  {
   "cell_type": "code",
   "execution_count": 11,
   "id": "78c75d1f",
   "metadata": {},
   "outputs": [],
   "source": [
    "raw_data['Kms_driven'] = raw_data.features.str.split(\"/\").str.get(0)"
   ]
  },
  {
   "cell_type": "code",
   "execution_count": 12,
   "id": "91bbff0c",
   "metadata": {},
   "outputs": [
    {
     "data": {
      "text/html": [
       "<div>\n",
       "<style scoped>\n",
       "    .dataframe tbody tr th:only-of-type {\n",
       "        vertical-align: middle;\n",
       "    }\n",
       "\n",
       "    .dataframe tbody tr th {\n",
       "        vertical-align: top;\n",
       "    }\n",
       "\n",
       "    .dataframe thead th {\n",
       "        text-align: right;\n",
       "    }\n",
       "</style>\n",
       "<table border=\"1\" class=\"dataframe\">\n",
       "  <thead>\n",
       "    <tr style=\"text-align: right;\">\n",
       "      <th></th>\n",
       "      <th>features</th>\n",
       "      <th>price</th>\n",
       "      <th>Model</th>\n",
       "      <th>Year</th>\n",
       "      <th>Brand</th>\n",
       "      <th>Kms_driven</th>\n",
       "    </tr>\n",
       "  </thead>\n",
       "  <tbody>\n",
       "    <tr>\n",
       "      <th>0</th>\n",
       "      <td>11,500 kms</td>\n",
       "      <td>₹15,000</td>\n",
       "      <td>Honda Activa 5G</td>\n",
       "      <td>2018</td>\n",
       "      <td>Honda</td>\n",
       "      <td>11,500 kms</td>\n",
       "    </tr>\n",
       "    <tr>\n",
       "      <th>1</th>\n",
       "      <td>21,863 kms</td>\n",
       "      <td>₹1,55,000</td>\n",
       "      <td>Bajaj Dominar 400</td>\n",
       "      <td>2019</td>\n",
       "      <td>Bajaj</td>\n",
       "      <td>21,863 kms</td>\n",
       "    </tr>\n",
       "    <tr>\n",
       "      <th>2</th>\n",
       "      <td>39,000 kms</td>\n",
       "      <td>₹1,58,000</td>\n",
       "      <td>Royal Enfield Classic 500</td>\n",
       "      <td>2018</td>\n",
       "      <td>Royal Enfield</td>\n",
       "      <td>39,000 kms</td>\n",
       "    </tr>\n",
       "    <tr>\n",
       "      <th>3</th>\n",
       "      <td>39,000 kms</td>\n",
       "      <td>₹1,50,000</td>\n",
       "      <td>Royal Enfield Classic 500</td>\n",
       "      <td>2018</td>\n",
       "      <td>Royal Enfield</td>\n",
       "      <td>39,000 kms</td>\n",
       "    </tr>\n",
       "    <tr>\n",
       "      <th>4</th>\n",
       "      <td>5,300 kms</td>\n",
       "      <td>₹31,500</td>\n",
       "      <td>TVS Ntorq 125</td>\n",
       "      <td>2020</td>\n",
       "      <td>TVS</td>\n",
       "      <td>5,300 kms</td>\n",
       "    </tr>\n",
       "  </tbody>\n",
       "</table>\n",
       "</div>"
      ],
      "text/plain": [
       "     features       price                       Model   Year          Brand  \\\n",
       "0  11,500 kms    ₹15,000             Honda Activa 5G    2018          Honda   \n",
       "1  21,863 kms  ₹1,55,000           Bajaj Dominar 400    2019          Bajaj   \n",
       "2  39,000 kms  ₹1,58,000   Royal Enfield Classic 500    2018  Royal Enfield   \n",
       "3  39,000 kms  ₹1,50,000   Royal Enfield Classic 500    2018  Royal Enfield   \n",
       "4   5,300 kms    ₹31,500               TVS Ntorq 125    2020            TVS   \n",
       "\n",
       "   Kms_driven  \n",
       "0  11,500 kms  \n",
       "1  21,863 kms  \n",
       "2  39,000 kms  \n",
       "3  39,000 kms  \n",
       "4   5,300 kms  "
      ]
     },
     "execution_count": 12,
     "metadata": {},
     "output_type": "execute_result"
    }
   ],
   "source": [
    "raw_data.head()"
   ]
  },
  {
   "cell_type": "code",
   "execution_count": 13,
   "id": "4355a0b5",
   "metadata": {},
   "outputs": [],
   "source": [
    "raw_data.drop(\"features\", axis=1, inplace =True)"
   ]
  },
  {
   "cell_type": "code",
   "execution_count": 14,
   "id": "3410a117",
   "metadata": {},
   "outputs": [
    {
     "data": {
      "text/plain": [
       "array(['Honda', 'Bajaj', 'Royal Enfield', 'TVS', 'Hero', 'Harley',\n",
       "       'Yamaha', 'Suzuki', 'KTM', 'Mahindra', 'LML', 'YO Bikes', 'Jawa',\n",
       "       'Ather', 'BMW', 'Yezdi', 'Indian', 'Aprilia', 'UM', 'Hyosung',\n",
       "       'Benelli', 'Kawasaki'], dtype=object)"
      ]
     },
     "execution_count": 14,
     "metadata": {},
     "output_type": "execute_result"
    }
   ],
   "source": [
    "raw_data.Brand.unique()"
   ]
  },
  {
   "cell_type": "code",
   "execution_count": 15,
   "id": "a3026ac8",
   "metadata": {},
   "outputs": [],
   "source": [
    "raw_data['Kms_driven']=raw_data['Kms_driven'].str.split().str.get(0).str.replace(',','').astype(np.int64)"
   ]
  },
  {
   "cell_type": "code",
   "execution_count": 16,
   "id": "19edc9ad",
   "metadata": {},
   "outputs": [
    {
     "data": {
      "text/html": [
       "<div>\n",
       "<style scoped>\n",
       "    .dataframe tbody tr th:only-of-type {\n",
       "        vertical-align: middle;\n",
       "    }\n",
       "\n",
       "    .dataframe tbody tr th {\n",
       "        vertical-align: top;\n",
       "    }\n",
       "\n",
       "    .dataframe thead th {\n",
       "        text-align: right;\n",
       "    }\n",
       "</style>\n",
       "<table border=\"1\" class=\"dataframe\">\n",
       "  <thead>\n",
       "    <tr style=\"text-align: right;\">\n",
       "      <th></th>\n",
       "      <th>price</th>\n",
       "      <th>Model</th>\n",
       "      <th>Year</th>\n",
       "      <th>Brand</th>\n",
       "      <th>Kms_driven</th>\n",
       "    </tr>\n",
       "  </thead>\n",
       "  <tbody>\n",
       "    <tr>\n",
       "      <th>0</th>\n",
       "      <td>₹15,000</td>\n",
       "      <td>Honda Activa 5G</td>\n",
       "      <td>2018</td>\n",
       "      <td>Honda</td>\n",
       "      <td>11500</td>\n",
       "    </tr>\n",
       "    <tr>\n",
       "      <th>1</th>\n",
       "      <td>₹1,55,000</td>\n",
       "      <td>Bajaj Dominar 400</td>\n",
       "      <td>2019</td>\n",
       "      <td>Bajaj</td>\n",
       "      <td>21863</td>\n",
       "    </tr>\n",
       "    <tr>\n",
       "      <th>2</th>\n",
       "      <td>₹1,58,000</td>\n",
       "      <td>Royal Enfield Classic 500</td>\n",
       "      <td>2018</td>\n",
       "      <td>Royal Enfield</td>\n",
       "      <td>39000</td>\n",
       "    </tr>\n",
       "    <tr>\n",
       "      <th>3</th>\n",
       "      <td>₹1,50,000</td>\n",
       "      <td>Royal Enfield Classic 500</td>\n",
       "      <td>2018</td>\n",
       "      <td>Royal Enfield</td>\n",
       "      <td>39000</td>\n",
       "    </tr>\n",
       "    <tr>\n",
       "      <th>4</th>\n",
       "      <td>₹31,500</td>\n",
       "      <td>TVS Ntorq 125</td>\n",
       "      <td>2020</td>\n",
       "      <td>TVS</td>\n",
       "      <td>5300</td>\n",
       "    </tr>\n",
       "  </tbody>\n",
       "</table>\n",
       "</div>"
      ],
      "text/plain": [
       "        price                       Model   Year          Brand  Kms_driven\n",
       "0    ₹15,000             Honda Activa 5G    2018          Honda       11500\n",
       "1  ₹1,55,000           Bajaj Dominar 400    2019          Bajaj       21863\n",
       "2  ₹1,58,000   Royal Enfield Classic 500    2018  Royal Enfield       39000\n",
       "3  ₹1,50,000   Royal Enfield Classic 500    2018  Royal Enfield       39000\n",
       "4    ₹31,500               TVS Ntorq 125    2020            TVS        5300"
      ]
     },
     "execution_count": 16,
     "metadata": {},
     "output_type": "execute_result"
    }
   ],
   "source": [
    "raw_data.head()"
   ]
  },
  {
   "cell_type": "code",
   "execution_count": 18,
   "id": "af81efa7",
   "metadata": {},
   "outputs": [],
   "source": [
    "raw_data[\"Price\"] = raw_data.price.str.split(\"₹\",expand=True,).get(1).str.replace(',','')"
   ]
  },
  {
   "cell_type": "code",
   "execution_count": 19,
   "id": "83d8ce73",
   "metadata": {},
   "outputs": [],
   "source": [
    "raw_data.drop(\"price\",axis=1,inplace=True)"
   ]
  },
  {
   "cell_type": "code",
   "execution_count": 20,
   "id": "edab3d2c",
   "metadata": {},
   "outputs": [
    {
     "data": {
      "text/html": [
       "<div>\n",
       "<style scoped>\n",
       "    .dataframe tbody tr th:only-of-type {\n",
       "        vertical-align: middle;\n",
       "    }\n",
       "\n",
       "    .dataframe tbody tr th {\n",
       "        vertical-align: top;\n",
       "    }\n",
       "\n",
       "    .dataframe thead th {\n",
       "        text-align: right;\n",
       "    }\n",
       "</style>\n",
       "<table border=\"1\" class=\"dataframe\">\n",
       "  <thead>\n",
       "    <tr style=\"text-align: right;\">\n",
       "      <th></th>\n",
       "      <th>Model</th>\n",
       "      <th>Year</th>\n",
       "      <th>Brand</th>\n",
       "      <th>Kms_driven</th>\n",
       "      <th>Price</th>\n",
       "    </tr>\n",
       "  </thead>\n",
       "  <tbody>\n",
       "    <tr>\n",
       "      <th>0</th>\n",
       "      <td>Honda Activa 5G</td>\n",
       "      <td>2018</td>\n",
       "      <td>Honda</td>\n",
       "      <td>11500</td>\n",
       "      <td>15000</td>\n",
       "    </tr>\n",
       "    <tr>\n",
       "      <th>1</th>\n",
       "      <td>Bajaj Dominar 400</td>\n",
       "      <td>2019</td>\n",
       "      <td>Bajaj</td>\n",
       "      <td>21863</td>\n",
       "      <td>155000</td>\n",
       "    </tr>\n",
       "    <tr>\n",
       "      <th>2</th>\n",
       "      <td>Royal Enfield Classic 500</td>\n",
       "      <td>2018</td>\n",
       "      <td>Royal Enfield</td>\n",
       "      <td>39000</td>\n",
       "      <td>158000</td>\n",
       "    </tr>\n",
       "    <tr>\n",
       "      <th>3</th>\n",
       "      <td>Royal Enfield Classic 500</td>\n",
       "      <td>2018</td>\n",
       "      <td>Royal Enfield</td>\n",
       "      <td>39000</td>\n",
       "      <td>150000</td>\n",
       "    </tr>\n",
       "    <tr>\n",
       "      <th>4</th>\n",
       "      <td>TVS Ntorq 125</td>\n",
       "      <td>2020</td>\n",
       "      <td>TVS</td>\n",
       "      <td>5300</td>\n",
       "      <td>31500</td>\n",
       "    </tr>\n",
       "  </tbody>\n",
       "</table>\n",
       "</div>"
      ],
      "text/plain": [
       "                        Model   Year          Brand  Kms_driven    Price\n",
       "0            Honda Activa 5G    2018          Honda       11500   15000 \n",
       "1          Bajaj Dominar 400    2019          Bajaj       21863  155000 \n",
       "2  Royal Enfield Classic 500    2018  Royal Enfield       39000  158000 \n",
       "3  Royal Enfield Classic 500    2018  Royal Enfield       39000  150000 \n",
       "4              TVS Ntorq 125    2020            TVS        5300   31500 "
      ]
     },
     "execution_count": 20,
     "metadata": {},
     "output_type": "execute_result"
    }
   ],
   "source": [
    "raw_data.head()"
   ]
  },
  {
   "cell_type": "code",
   "execution_count": 21,
   "id": "c979aa2c",
   "metadata": {},
   "outputs": [],
   "source": [
    "raw_data['Model']=raw_data['Model'].str.split().str.slice(start=0,stop=4).str.join(' ')"
   ]
  },
  {
   "cell_type": "code",
   "execution_count": 22,
   "id": "6e4e0001",
   "metadata": {},
   "outputs": [
    {
     "data": {
      "text/html": [
       "<div>\n",
       "<style scoped>\n",
       "    .dataframe tbody tr th:only-of-type {\n",
       "        vertical-align: middle;\n",
       "    }\n",
       "\n",
       "    .dataframe tbody tr th {\n",
       "        vertical-align: top;\n",
       "    }\n",
       "\n",
       "    .dataframe thead th {\n",
       "        text-align: right;\n",
       "    }\n",
       "</style>\n",
       "<table border=\"1\" class=\"dataframe\">\n",
       "  <thead>\n",
       "    <tr style=\"text-align: right;\">\n",
       "      <th></th>\n",
       "      <th>Model</th>\n",
       "      <th>Year</th>\n",
       "      <th>Brand</th>\n",
       "      <th>Kms_driven</th>\n",
       "      <th>Price</th>\n",
       "    </tr>\n",
       "  </thead>\n",
       "  <tbody>\n",
       "    <tr>\n",
       "      <th>0</th>\n",
       "      <td>Honda Activa 5G</td>\n",
       "      <td>2018</td>\n",
       "      <td>Honda</td>\n",
       "      <td>11500</td>\n",
       "      <td>15000</td>\n",
       "    </tr>\n",
       "    <tr>\n",
       "      <th>1</th>\n",
       "      <td>Bajaj Dominar 400</td>\n",
       "      <td>2019</td>\n",
       "      <td>Bajaj</td>\n",
       "      <td>21863</td>\n",
       "      <td>155000</td>\n",
       "    </tr>\n",
       "    <tr>\n",
       "      <th>2</th>\n",
       "      <td>Royal Enfield Classic 500</td>\n",
       "      <td>2018</td>\n",
       "      <td>Royal Enfield</td>\n",
       "      <td>39000</td>\n",
       "      <td>158000</td>\n",
       "    </tr>\n",
       "    <tr>\n",
       "      <th>3</th>\n",
       "      <td>Royal Enfield Classic 500</td>\n",
       "      <td>2018</td>\n",
       "      <td>Royal Enfield</td>\n",
       "      <td>39000</td>\n",
       "      <td>150000</td>\n",
       "    </tr>\n",
       "    <tr>\n",
       "      <th>4</th>\n",
       "      <td>TVS Ntorq 125</td>\n",
       "      <td>2020</td>\n",
       "      <td>TVS</td>\n",
       "      <td>5300</td>\n",
       "      <td>31500</td>\n",
       "    </tr>\n",
       "  </tbody>\n",
       "</table>\n",
       "</div>"
      ],
      "text/plain": [
       "                       Model   Year          Brand  Kms_driven    Price\n",
       "0            Honda Activa 5G   2018          Honda       11500   15000 \n",
       "1          Bajaj Dominar 400   2019          Bajaj       21863  155000 \n",
       "2  Royal Enfield Classic 500   2018  Royal Enfield       39000  158000 \n",
       "3  Royal Enfield Classic 500   2018  Royal Enfield       39000  150000 \n",
       "4              TVS Ntorq 125   2020            TVS        5300   31500 "
      ]
     },
     "execution_count": 22,
     "metadata": {},
     "output_type": "execute_result"
    }
   ],
   "source": [
    "raw_data.head()"
   ]
  },
  {
   "cell_type": "code",
   "execution_count": 23,
   "id": "b54d693a",
   "metadata": {},
   "outputs": [
    {
     "name": "stdout",
     "output_type": "stream",
     "text": [
      "Model         object\n",
      "Year          object\n",
      "Brand         object\n",
      "Kms_driven     int64\n",
      "Price         object\n",
      "dtype: object\n"
     ]
    }
   ],
   "source": [
    "print(raw_data.dtypes)"
   ]
  },
  {
   "cell_type": "code",
   "execution_count": 26,
   "id": "5774b62f",
   "metadata": {},
   "outputs": [],
   "source": [
    "raw_data[\"Year\"]=raw_data.Year.astype(np.int64)"
   ]
  },
  {
   "cell_type": "code",
   "execution_count": 27,
   "id": "32b01bb9",
   "metadata": {},
   "outputs": [
    {
     "data": {
      "text/plain": [
       "Model          0\n",
       "Year           0\n",
       "Brand          0\n",
       "Kms_driven     0\n",
       "Price         11\n",
       "dtype: int64"
      ]
     },
     "execution_count": 27,
     "metadata": {},
     "output_type": "execute_result"
    }
   ],
   "source": [
    "raw_data.isnull().sum()"
   ]
  },
  {
   "cell_type": "code",
   "execution_count": 28,
   "id": "3b57477a",
   "metadata": {},
   "outputs": [],
   "source": [
    "raw_data.to_csv('Cleaned_bike_data.csv',index=False)  "
   ]
  }
 ],
 "metadata": {
  "kernelspec": {
   "display_name": "Python 3 (ipykernel)",
   "language": "python",
   "name": "python3"
  },
  "language_info": {
   "codemirror_mode": {
    "name": "ipython",
    "version": 3
   },
   "file_extension": ".py",
   "mimetype": "text/x-python",
   "name": "python",
   "nbconvert_exporter": "python",
   "pygments_lexer": "ipython3",
   "version": "3.10.7"
  }
 },
 "nbformat": 4,
 "nbformat_minor": 5
}
