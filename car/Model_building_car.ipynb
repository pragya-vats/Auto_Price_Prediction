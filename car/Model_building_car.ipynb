{
 "cells": [
  {
   "cell_type": "code",
   "execution_count": 1,
   "id": "4a7cf01f",
   "metadata": {},
   "outputs": [],
   "source": [
    "#importing necessary libraries\n",
    "\n",
    "import pandas as pd\n",
    "import numpy as np\n",
    "import matplotlib.pyplot as plt\n",
    "import seaborn as sns"
   ]
  },
  {
   "cell_type": "code",
   "execution_count": 2,
   "id": "25526b31",
   "metadata": {},
   "outputs": [],
   "source": [
    "#reading the dataset\n",
    "data = pd.read_csv(\"Cleaned_car_data.csv\")"
   ]
  },
  {
   "cell_type": "code",
   "execution_count": 3,
   "id": "dc1d6e61",
   "metadata": {},
   "outputs": [
    {
     "data": {
      "text/html": [
       "<div>\n",
       "<style scoped>\n",
       "    .dataframe tbody tr th:only-of-type {\n",
       "        vertical-align: middle;\n",
       "    }\n",
       "\n",
       "    .dataframe tbody tr th {\n",
       "        vertical-align: top;\n",
       "    }\n",
       "\n",
       "    .dataframe thead th {\n",
       "        text-align: right;\n",
       "    }\n",
       "</style>\n",
       "<table border=\"1\" class=\"dataframe\">\n",
       "  <thead>\n",
       "    <tr style=\"text-align: right;\">\n",
       "      <th></th>\n",
       "      <th>Model</th>\n",
       "      <th>Year</th>\n",
       "      <th>Brand</th>\n",
       "      <th>Kms_driven</th>\n",
       "      <th>Fuel_type</th>\n",
       "      <th>Price</th>\n",
       "    </tr>\n",
       "  </thead>\n",
       "  <tbody>\n",
       "    <tr>\n",
       "      <th>0</th>\n",
       "      <td>Tata Nexon XT</td>\n",
       "      <td>2020</td>\n",
       "      <td>Tata</td>\n",
       "      <td>33000</td>\n",
       "      <td>Diesel</td>\n",
       "      <td>970000</td>\n",
       "    </tr>\n",
       "    <tr>\n",
       "      <th>1</th>\n",
       "      <td>Maruti Suzuki Swift</td>\n",
       "      <td>2014</td>\n",
       "      <td>Maruti</td>\n",
       "      <td>70840</td>\n",
       "      <td>Diesel</td>\n",
       "      <td>95000</td>\n",
       "    </tr>\n",
       "    <tr>\n",
       "      <th>2</th>\n",
       "      <td>Mercedes Benz B</td>\n",
       "      <td>2016</td>\n",
       "      <td>Mercedes</td>\n",
       "      <td>44573</td>\n",
       "      <td>Diesel</td>\n",
       "      <td>1790000</td>\n",
       "    </tr>\n",
       "    <tr>\n",
       "      <th>3</th>\n",
       "      <td>Audi Q3 2.0</td>\n",
       "      <td>2014</td>\n",
       "      <td>Audi</td>\n",
       "      <td>88759</td>\n",
       "      <td>Diesel</td>\n",
       "      <td>1790000</td>\n",
       "    </tr>\n",
       "    <tr>\n",
       "      <th>4</th>\n",
       "      <td>Honda City ZX</td>\n",
       "      <td>2021</td>\n",
       "      <td>Honda</td>\n",
       "      <td>9900</td>\n",
       "      <td>Petrol</td>\n",
       "      <td>1490000</td>\n",
       "    </tr>\n",
       "  </tbody>\n",
       "</table>\n",
       "</div>"
      ],
      "text/plain": [
       "                 Model  Year     Brand  Kms_driven Fuel_type    Price\n",
       "0        Tata Nexon XT  2020      Tata       33000    Diesel   970000\n",
       "1  Maruti Suzuki Swift  2014    Maruti       70840    Diesel    95000\n",
       "2      Mercedes Benz B  2016  Mercedes       44573   Diesel   1790000\n",
       "3          Audi Q3 2.0  2014      Audi       88759   Diesel   1790000\n",
       "4        Honda City ZX  2021     Honda        9900   Petrol   1490000"
      ]
     },
     "execution_count": 3,
     "metadata": {},
     "output_type": "execute_result"
    }
   ],
   "source": [
    "data.head()"
   ]
  },
  {
   "cell_type": "markdown",
   "id": "7dffe995",
   "metadata": {},
   "source": [
    "## Exploratory Data Analysis\n",
    "\n",
    "Getting insights about the dataset"
   ]
  },
  {
   "cell_type": "code",
   "execution_count": 4,
   "id": "33e791ce",
   "metadata": {},
   "outputs": [
    {
     "data": {
      "text/plain": [
       "(1547, 6)"
      ]
     },
     "execution_count": 4,
     "metadata": {},
     "output_type": "execute_result"
    }
   ],
   "source": [
    "data.shape"
   ]
  },
  {
   "cell_type": "markdown",
   "id": "5cc29f5f",
   "metadata": {},
   "source": [
    " **This dataset has 1547 rows and 6 columns**"
   ]
  },
  {
   "cell_type": "code",
   "execution_count": 5,
   "id": "921c1686",
   "metadata": {},
   "outputs": [
    {
     "name": "stdout",
     "output_type": "stream",
     "text": [
      "<class 'pandas.core.frame.DataFrame'>\n",
      "RangeIndex: 1547 entries, 0 to 1546\n",
      "Data columns (total 6 columns):\n",
      " #   Column      Non-Null Count  Dtype \n",
      "---  ------      --------------  ----- \n",
      " 0   Model       1547 non-null   object\n",
      " 1   Year        1547 non-null   int64 \n",
      " 2   Brand       1547 non-null   object\n",
      " 3   Kms_driven  1547 non-null   int64 \n",
      " 4   Fuel_type   1547 non-null   object\n",
      " 5   Price       1547 non-null   int64 \n",
      "dtypes: int64(3), object(3)\n",
      "memory usage: 72.6+ KB\n"
     ]
    }
   ],
   "source": [
    "#the columns and their data types\n",
    "data.info()"
   ]
  },
  {
   "cell_type": "code",
   "execution_count": 6,
   "id": "366b85a4",
   "metadata": {},
   "outputs": [
    {
     "data": {
      "text/html": [
       "<div>\n",
       "<style scoped>\n",
       "    .dataframe tbody tr th:only-of-type {\n",
       "        vertical-align: middle;\n",
       "    }\n",
       "\n",
       "    .dataframe tbody tr th {\n",
       "        vertical-align: top;\n",
       "    }\n",
       "\n",
       "    .dataframe thead th {\n",
       "        text-align: right;\n",
       "    }\n",
       "</style>\n",
       "<table border=\"1\" class=\"dataframe\">\n",
       "  <thead>\n",
       "    <tr style=\"text-align: right;\">\n",
       "      <th></th>\n",
       "      <th>Year</th>\n",
       "      <th>Kms_driven</th>\n",
       "      <th>Price</th>\n",
       "    </tr>\n",
       "  </thead>\n",
       "  <tbody>\n",
       "    <tr>\n",
       "      <th>count</th>\n",
       "      <td>1547.000000</td>\n",
       "      <td>1.547000e+03</td>\n",
       "      <td>1.547000e+03</td>\n",
       "    </tr>\n",
       "    <tr>\n",
       "      <th>mean</th>\n",
       "      <td>2016.665158</td>\n",
       "      <td>1.543028e+05</td>\n",
       "      <td>6.613786e+06</td>\n",
       "    </tr>\n",
       "    <tr>\n",
       "      <th>std</th>\n",
       "      <td>4.132864</td>\n",
       "      <td>2.977240e+06</td>\n",
       "      <td>2.313954e+08</td>\n",
       "    </tr>\n",
       "    <tr>\n",
       "      <th>min</th>\n",
       "      <td>1996.000000</td>\n",
       "      <td>0.000000e+00</td>\n",
       "      <td>2.000000e+03</td>\n",
       "    </tr>\n",
       "    <tr>\n",
       "      <th>25%</th>\n",
       "      <td>2015.000000</td>\n",
       "      <td>1.638500e+04</td>\n",
       "      <td>3.967995e+05</td>\n",
       "    </tr>\n",
       "    <tr>\n",
       "      <th>50%</th>\n",
       "      <td>2017.000000</td>\n",
       "      <td>3.800000e+04</td>\n",
       "      <td>5.250000e+05</td>\n",
       "    </tr>\n",
       "    <tr>\n",
       "      <th>75%</th>\n",
       "      <td>2020.000000</td>\n",
       "      <td>6.500000e+04</td>\n",
       "      <td>7.500000e+05</td>\n",
       "    </tr>\n",
       "    <tr>\n",
       "      <th>max</th>\n",
       "      <td>2022.000000</td>\n",
       "      <td>9.395149e+07</td>\n",
       "      <td>9.101659e+09</td>\n",
       "    </tr>\n",
       "  </tbody>\n",
       "</table>\n",
       "</div>"
      ],
      "text/plain": [
       "              Year    Kms_driven         Price\n",
       "count  1547.000000  1.547000e+03  1.547000e+03\n",
       "mean   2016.665158  1.543028e+05  6.613786e+06\n",
       "std       4.132864  2.977240e+06  2.313954e+08\n",
       "min    1996.000000  0.000000e+00  2.000000e+03\n",
       "25%    2015.000000  1.638500e+04  3.967995e+05\n",
       "50%    2017.000000  3.800000e+04  5.250000e+05\n",
       "75%    2020.000000  6.500000e+04  7.500000e+05\n",
       "max    2022.000000  9.395149e+07  9.101659e+09"
      ]
     },
     "execution_count": 6,
     "metadata": {},
     "output_type": "execute_result"
    }
   ],
   "source": [
    "#quick summary of the dataset\n",
    "data.describe()"
   ]
  },
  {
   "cell_type": "code",
   "execution_count": 7,
   "id": "8088f853",
   "metadata": {},
   "outputs": [],
   "source": [
    "pd.set_option('display.float_format', lambda x: '%.3f' % x)"
   ]
  },
  {
   "cell_type": "code",
   "execution_count": 8,
   "id": "6d290ed6",
   "metadata": {},
   "outputs": [
    {
     "data": {
      "text/plain": [
       "Model         0\n",
       "Year          0\n",
       "Brand         0\n",
       "Kms_driven    0\n",
       "Fuel_type     0\n",
       "Price         0\n",
       "dtype: int64"
      ]
     },
     "execution_count": 8,
     "metadata": {},
     "output_type": "execute_result"
    }
   ],
   "source": [
    "#checking for null values\n",
    "data.isnull().sum()"
   ]
  },
  {
   "cell_type": "markdown",
   "id": "87898b9f",
   "metadata": {},
   "source": [
    "**There are no missing value**"
   ]
  },
  {
   "cell_type": "code",
   "execution_count": 9,
   "id": "d2eb7287",
   "metadata": {},
   "outputs": [
    {
     "data": {
      "text/plain": [
       "array(['Tata', 'Maruti', 'Mercedes', 'Audi', 'Honda', 'Hyundai',\n",
       "       'Volkswagen', 'Mahindra', 'Land Rover', 'Toyota', 'BMW', 'Ford',\n",
       "       'Volvo', 'Renault', 'Kia', 'Chevrolet', 'Datsun', 'Skoda', 'Jeep',\n",
       "       'MG', 'Jaguar', 'Nissan', 'Porsche', 'Force', 'Fiat',\n",
       "       'Mini Cooper', 'Mitsubishi'], dtype=object)"
      ]
     },
     "execution_count": 9,
     "metadata": {},
     "output_type": "execute_result"
    }
   ],
   "source": [
    "#Having an idea of the brands of the car\n",
    "data.Brand.unique()"
   ]
  },
  {
   "cell_type": "code",
   "execution_count": 10,
   "id": "80e1b9af",
   "metadata": {},
   "outputs": [
    {
     "data": {
      "text/plain": [
       "27"
      ]
     },
     "execution_count": 10,
     "metadata": {},
     "output_type": "execute_result"
    }
   ],
   "source": [
    "data.Brand.nunique()"
   ]
  },
  {
   "cell_type": "markdown",
   "id": "df9bebeb",
   "metadata": {},
   "source": [
    "**There are total 27 unique brands of car in the dataset**"
   ]
  },
  {
   "cell_type": "code",
   "execution_count": 11,
   "id": "646900d5",
   "metadata": {},
   "outputs": [
    {
     "data": {
      "text/plain": [
       "303"
      ]
     },
     "execution_count": 11,
     "metadata": {},
     "output_type": "execute_result"
    }
   ],
   "source": [
    "data.Model.nunique()"
   ]
  },
  {
   "cell_type": "markdown",
   "id": "47f6ec1f",
   "metadata": {},
   "source": [
    "**Total 303 models are persent in the dataset. 'Model' is a categorical variable. We will check how 'Model' affects our target variable i.e., 'Price' and accordingly we will perform some encoding technique to convert them into numeric form.**"
   ]
  },
  {
   "cell_type": "code",
   "execution_count": 12,
   "id": "5f6d317b",
   "metadata": {},
   "outputs": [
    {
     "data": {
      "text/plain": [
       "93951488"
      ]
     },
     "execution_count": 12,
     "metadata": {},
     "output_type": "execute_result"
    }
   ],
   "source": [
    "#Checking for maximum distance driven\n",
    "data.Kms_driven.max()"
   ]
  },
  {
   "cell_type": "markdown",
   "id": "db984fe8",
   "metadata": {},
   "source": [
    "This is quite a huge number"
   ]
  },
  {
   "cell_type": "code",
   "execution_count": 13,
   "id": "4820352e",
   "metadata": {},
   "outputs": [
    {
     "data": {
      "text/html": [
       "<div>\n",
       "<style scoped>\n",
       "    .dataframe tbody tr th:only-of-type {\n",
       "        vertical-align: middle;\n",
       "    }\n",
       "\n",
       "    .dataframe tbody tr th {\n",
       "        vertical-align: top;\n",
       "    }\n",
       "\n",
       "    .dataframe thead th {\n",
       "        text-align: right;\n",
       "    }\n",
       "</style>\n",
       "<table border=\"1\" class=\"dataframe\">\n",
       "  <thead>\n",
       "    <tr style=\"text-align: right;\">\n",
       "      <th></th>\n",
       "      <th>Model</th>\n",
       "      <th>Year</th>\n",
       "      <th>Brand</th>\n",
       "      <th>Kms_driven</th>\n",
       "      <th>Fuel_type</th>\n",
       "      <th>Price</th>\n",
       "    </tr>\n",
       "  </thead>\n",
       "  <tbody>\n",
       "    <tr>\n",
       "      <th>925</th>\n",
       "      <td>Maruti Suzuki A</td>\n",
       "      <td>2000</td>\n",
       "      <td>Maruti</td>\n",
       "      <td>93951488</td>\n",
       "      <td>CNG</td>\n",
       "      <td>9101658655</td>\n",
       "    </tr>\n",
       "  </tbody>\n",
       "</table>\n",
       "</div>"
      ],
      "text/plain": [
       "               Model  Year   Brand  Kms_driven Fuel_type       Price\n",
       "925  Maruti Suzuki A  2000  Maruti    93951488       CNG  9101658655"
      ]
     },
     "execution_count": 13,
     "metadata": {},
     "output_type": "execute_result"
    }
   ],
   "source": [
    "data.loc[data['Kms_driven'] == 93951488]"
   ]
  },
  {
   "cell_type": "markdown",
   "id": "6c680e75",
   "metadata": {},
   "source": [
    "The kms driven is not making any sense also the price mentioned appears to be a phone number. This input will act like an outlier, so we will drop this particular row."
   ]
  },
  {
   "cell_type": "code",
   "execution_count": 14,
   "id": "1c3db3db",
   "metadata": {},
   "outputs": [],
   "source": [
    "data.drop(925,axis=0,inplace=True)"
   ]
  },
  {
   "cell_type": "code",
   "execution_count": 15,
   "id": "bebc765d",
   "metadata": {
    "scrolled": true
   },
   "outputs": [
    {
     "data": {
      "text/html": [
       "<div>\n",
       "<style scoped>\n",
       "    .dataframe tbody tr th:only-of-type {\n",
       "        vertical-align: middle;\n",
       "    }\n",
       "\n",
       "    .dataframe tbody tr th {\n",
       "        vertical-align: top;\n",
       "    }\n",
       "\n",
       "    .dataframe thead th {\n",
       "        text-align: right;\n",
       "    }\n",
       "</style>\n",
       "<table border=\"1\" class=\"dataframe\">\n",
       "  <thead>\n",
       "    <tr style=\"text-align: right;\">\n",
       "      <th></th>\n",
       "      <th>Year</th>\n",
       "      <th>Kms_driven</th>\n",
       "      <th>Price</th>\n",
       "    </tr>\n",
       "  </thead>\n",
       "  <tbody>\n",
       "    <tr>\n",
       "      <th>count</th>\n",
       "      <td>1546.000</td>\n",
       "      <td>1546.000</td>\n",
       "      <td>1546.000</td>\n",
       "    </tr>\n",
       "    <tr>\n",
       "      <th>mean</th>\n",
       "      <td>2016.676</td>\n",
       "      <td>93631.893</td>\n",
       "      <td>730833.678</td>\n",
       "    </tr>\n",
       "    <tr>\n",
       "      <th>std</th>\n",
       "      <td>4.112</td>\n",
       "      <td>1780890.975</td>\n",
       "      <td>1866362.640</td>\n",
       "    </tr>\n",
       "    <tr>\n",
       "      <th>min</th>\n",
       "      <td>1996.000</td>\n",
       "      <td>0.000</td>\n",
       "      <td>2000.000</td>\n",
       "    </tr>\n",
       "    <tr>\n",
       "      <th>25%</th>\n",
       "      <td>2015.000</td>\n",
       "      <td>16382.000</td>\n",
       "      <td>396699.250</td>\n",
       "    </tr>\n",
       "    <tr>\n",
       "      <th>50%</th>\n",
       "      <td>2017.000</td>\n",
       "      <td>38000.000</td>\n",
       "      <td>525000.000</td>\n",
       "    </tr>\n",
       "    <tr>\n",
       "      <th>75%</th>\n",
       "      <td>2020.000</td>\n",
       "      <td>65000.000</td>\n",
       "      <td>750000.000</td>\n",
       "    </tr>\n",
       "    <tr>\n",
       "      <th>max</th>\n",
       "      <td>2022.000</td>\n",
       "      <td>70022082.000</td>\n",
       "      <td>50000000.000</td>\n",
       "    </tr>\n",
       "  </tbody>\n",
       "</table>\n",
       "</div>"
      ],
      "text/plain": [
       "          Year   Kms_driven        Price\n",
       "count 1546.000     1546.000     1546.000\n",
       "mean  2016.676    93631.893   730833.678\n",
       "std      4.112  1780890.975  1866362.640\n",
       "min   1996.000        0.000     2000.000\n",
       "25%   2015.000    16382.000   396699.250\n",
       "50%   2017.000    38000.000   525000.000\n",
       "75%   2020.000    65000.000   750000.000\n",
       "max   2022.000 70022082.000 50000000.000"
      ]
     },
     "execution_count": 15,
     "metadata": {},
     "output_type": "execute_result"
    }
   ],
   "source": [
    "data.describe()"
   ]
  },
  {
   "cell_type": "markdown",
   "id": "d8c2fcef",
   "metadata": {},
   "source": [
    "We observe that the max value of Price is 50000000, let us check which car is it. "
   ]
  },
  {
   "cell_type": "code",
   "execution_count": 16,
   "id": "f704ccb3",
   "metadata": {},
   "outputs": [
    {
     "data": {
      "text/html": [
       "<div>\n",
       "<style scoped>\n",
       "    .dataframe tbody tr th:only-of-type {\n",
       "        vertical-align: middle;\n",
       "    }\n",
       "\n",
       "    .dataframe tbody tr th {\n",
       "        vertical-align: top;\n",
       "    }\n",
       "\n",
       "    .dataframe thead th {\n",
       "        text-align: right;\n",
       "    }\n",
       "</style>\n",
       "<table border=\"1\" class=\"dataframe\">\n",
       "  <thead>\n",
       "    <tr style=\"text-align: right;\">\n",
       "      <th></th>\n",
       "      <th>Model</th>\n",
       "      <th>Year</th>\n",
       "      <th>Brand</th>\n",
       "      <th>Kms_driven</th>\n",
       "      <th>Fuel_type</th>\n",
       "      <th>Price</th>\n",
       "    </tr>\n",
       "  </thead>\n",
       "  <tbody>\n",
       "    <tr>\n",
       "      <th>6</th>\n",
       "      <td>Mercedes Benz E</td>\n",
       "      <td>2017</td>\n",
       "      <td>Mercedes</td>\n",
       "      <td>20000</td>\n",
       "      <td>Diesel</td>\n",
       "      <td>6200000</td>\n",
       "    </tr>\n",
       "    <tr>\n",
       "      <th>907</th>\n",
       "      <td>Maruti Suzuki A</td>\n",
       "      <td>2022</td>\n",
       "      <td>Maruti</td>\n",
       "      <td>40</td>\n",
       "      <td>Petrol</td>\n",
       "      <td>50000000</td>\n",
       "    </tr>\n",
       "    <tr>\n",
       "      <th>924</th>\n",
       "      <td>Maruti Suzuki A</td>\n",
       "      <td>2022</td>\n",
       "      <td>Maruti</td>\n",
       "      <td>40</td>\n",
       "      <td>Petrol</td>\n",
       "      <td>50000000</td>\n",
       "    </tr>\n",
       "    <tr>\n",
       "      <th>1300</th>\n",
       "      <td>Land Rover Range</td>\n",
       "      <td>2021</td>\n",
       "      <td>Land Rover</td>\n",
       "      <td>35000</td>\n",
       "      <td>Diesel</td>\n",
       "      <td>6666666</td>\n",
       "    </tr>\n",
       "    <tr>\n",
       "      <th>1440</th>\n",
       "      <td>BMW X5 xDrive30d</td>\n",
       "      <td>2019</td>\n",
       "      <td>BMW</td>\n",
       "      <td>56000</td>\n",
       "      <td>Diesel</td>\n",
       "      <td>7690000</td>\n",
       "    </tr>\n",
       "  </tbody>\n",
       "</table>\n",
       "</div>"
      ],
      "text/plain": [
       "                 Model  Year       Brand  Kms_driven Fuel_type     Price\n",
       "6      Mercedes Benz E  2017    Mercedes       20000    Diesel   6200000\n",
       "907    Maruti Suzuki A  2022      Maruti          40    Petrol  50000000\n",
       "924    Maruti Suzuki A  2022      Maruti          40    Petrol  50000000\n",
       "1300  Land Rover Range  2021  Land Rover       35000    Diesel   6666666\n",
       "1440  BMW X5 xDrive30d  2019         BMW       56000    Diesel   7690000"
      ]
     },
     "execution_count": 16,
     "metadata": {},
     "output_type": "execute_result"
    }
   ],
   "source": [
    "data.loc[data['Price']>6000000]"
   ]
  },
  {
   "cell_type": "markdown",
   "id": "1c9b9db7",
   "metadata": {},
   "source": [
    "The most expensive Maruti Suzuki car in India one is the XL6 with a price of 14.55 Lakh. So, it doesn't make any sense.Hence, we will drop these two rows."
   ]
  },
  {
   "cell_type": "code",
   "execution_count": 17,
   "id": "0793ea72",
   "metadata": {},
   "outputs": [],
   "source": [
    "data.drop([907,924],axis=0,inplace=True)"
   ]
  },
  {
   "cell_type": "code",
   "execution_count": 18,
   "id": "0168359a",
   "metadata": {},
   "outputs": [
    {
     "data": {
      "text/html": [
       "<div>\n",
       "<style scoped>\n",
       "    .dataframe tbody tr th:only-of-type {\n",
       "        vertical-align: middle;\n",
       "    }\n",
       "\n",
       "    .dataframe tbody tr th {\n",
       "        vertical-align: top;\n",
       "    }\n",
       "\n",
       "    .dataframe thead th {\n",
       "        text-align: right;\n",
       "    }\n",
       "</style>\n",
       "<table border=\"1\" class=\"dataframe\">\n",
       "  <thead>\n",
       "    <tr style=\"text-align: right;\">\n",
       "      <th></th>\n",
       "      <th>Year</th>\n",
       "      <th>Kms_driven</th>\n",
       "      <th>Price</th>\n",
       "    </tr>\n",
       "  </thead>\n",
       "  <tbody>\n",
       "    <tr>\n",
       "      <th>count</th>\n",
       "      <td>1544.000</td>\n",
       "      <td>1544.000</td>\n",
       "      <td>1544.000</td>\n",
       "    </tr>\n",
       "    <tr>\n",
       "      <th>mean</th>\n",
       "      <td>2016.669</td>\n",
       "      <td>93753.126</td>\n",
       "      <td>667013.514</td>\n",
       "    </tr>\n",
       "    <tr>\n",
       "      <th>std</th>\n",
       "      <td>4.111</td>\n",
       "      <td>1782041.585</td>\n",
       "      <td>580813.870</td>\n",
       "    </tr>\n",
       "    <tr>\n",
       "      <th>min</th>\n",
       "      <td>1996.000</td>\n",
       "      <td>0.000</td>\n",
       "      <td>2000.000</td>\n",
       "    </tr>\n",
       "    <tr>\n",
       "      <th>25%</th>\n",
       "      <td>2015.000</td>\n",
       "      <td>16396.250</td>\n",
       "      <td>396599.000</td>\n",
       "    </tr>\n",
       "    <tr>\n",
       "      <th>50%</th>\n",
       "      <td>2017.000</td>\n",
       "      <td>38000.000</td>\n",
       "      <td>524999.500</td>\n",
       "    </tr>\n",
       "    <tr>\n",
       "      <th>75%</th>\n",
       "      <td>2020.000</td>\n",
       "      <td>65000.000</td>\n",
       "      <td>747899.250</td>\n",
       "    </tr>\n",
       "    <tr>\n",
       "      <th>max</th>\n",
       "      <td>2022.000</td>\n",
       "      <td>70022082.000</td>\n",
       "      <td>7690000.000</td>\n",
       "    </tr>\n",
       "  </tbody>\n",
       "</table>\n",
       "</div>"
      ],
      "text/plain": [
       "          Year   Kms_driven       Price\n",
       "count 1544.000     1544.000    1544.000\n",
       "mean  2016.669    93753.126  667013.514\n",
       "std      4.111  1782041.585  580813.870\n",
       "min   1996.000        0.000    2000.000\n",
       "25%   2015.000    16396.250  396599.000\n",
       "50%   2017.000    38000.000  524999.500\n",
       "75%   2020.000    65000.000  747899.250\n",
       "max   2022.000 70022082.000 7690000.000"
      ]
     },
     "execution_count": 18,
     "metadata": {},
     "output_type": "execute_result"
    }
   ],
   "source": [
    "data.describe()"
   ]
  },
  {
   "cell_type": "code",
   "execution_count": 19,
   "id": "1167ce69",
   "metadata": {},
   "outputs": [
    {
     "data": {
      "text/html": [
       "<div>\n",
       "<style scoped>\n",
       "    .dataframe tbody tr th:only-of-type {\n",
       "        vertical-align: middle;\n",
       "    }\n",
       "\n",
       "    .dataframe tbody tr th {\n",
       "        vertical-align: top;\n",
       "    }\n",
       "\n",
       "    .dataframe thead th {\n",
       "        text-align: right;\n",
       "    }\n",
       "</style>\n",
       "<table border=\"1\" class=\"dataframe\">\n",
       "  <thead>\n",
       "    <tr style=\"text-align: right;\">\n",
       "      <th></th>\n",
       "      <th>Model</th>\n",
       "      <th>Year</th>\n",
       "      <th>Brand</th>\n",
       "      <th>Kms_driven</th>\n",
       "      <th>Fuel_type</th>\n",
       "      <th>Price</th>\n",
       "    </tr>\n",
       "  </thead>\n",
       "  <tbody>\n",
       "    <tr>\n",
       "      <th>904</th>\n",
       "      <td>Maruti Suzuki Alto</td>\n",
       "      <td>2022</td>\n",
       "      <td>Maruti</td>\n",
       "      <td>70022082</td>\n",
       "      <td>CNG</td>\n",
       "      <td>50000</td>\n",
       "    </tr>\n",
       "  </tbody>\n",
       "</table>\n",
       "</div>"
      ],
      "text/plain": [
       "                  Model  Year   Brand  Kms_driven Fuel_type  Price\n",
       "904  Maruti Suzuki Alto  2022  Maruti    70022082       CNG  50000"
      ]
     },
     "execution_count": 19,
     "metadata": {},
     "output_type": "execute_result"
    }
   ],
   "source": [
    "data.loc[data['Kms_driven']==70022082]"
   ]
  },
  {
   "cell_type": "code",
   "execution_count": 20,
   "id": "2519b511",
   "metadata": {},
   "outputs": [],
   "source": [
    "data.drop(904,axis=0,inplace=True)"
   ]
  },
  {
   "cell_type": "code",
   "execution_count": 21,
   "id": "ea2b2e33",
   "metadata": {},
   "outputs": [
    {
     "data": {
      "text/html": [
       "<div>\n",
       "<style scoped>\n",
       "    .dataframe tbody tr th:only-of-type {\n",
       "        vertical-align: middle;\n",
       "    }\n",
       "\n",
       "    .dataframe tbody tr th {\n",
       "        vertical-align: top;\n",
       "    }\n",
       "\n",
       "    .dataframe thead th {\n",
       "        text-align: right;\n",
       "    }\n",
       "</style>\n",
       "<table border=\"1\" class=\"dataframe\">\n",
       "  <thead>\n",
       "    <tr style=\"text-align: right;\">\n",
       "      <th></th>\n",
       "      <th>Year</th>\n",
       "      <th>Kms_driven</th>\n",
       "      <th>Price</th>\n",
       "    </tr>\n",
       "  </thead>\n",
       "  <tbody>\n",
       "    <tr>\n",
       "      <th>count</th>\n",
       "      <td>1543.000</td>\n",
       "      <td>1543.000</td>\n",
       "      <td>1543.000</td>\n",
       "    </tr>\n",
       "    <tr>\n",
       "      <th>mean</th>\n",
       "      <td>2016.666</td>\n",
       "      <td>48433.405</td>\n",
       "      <td>667413.393</td>\n",
       "    </tr>\n",
       "    <tr>\n",
       "      <th>std</th>\n",
       "      <td>4.110</td>\n",
       "      <td>66999.389</td>\n",
       "      <td>580789.524</td>\n",
       "    </tr>\n",
       "    <tr>\n",
       "      <th>min</th>\n",
       "      <td>1996.000</td>\n",
       "      <td>0.000</td>\n",
       "      <td>2000.000</td>\n",
       "    </tr>\n",
       "    <tr>\n",
       "      <th>25%</th>\n",
       "      <td>2015.000</td>\n",
       "      <td>16394.500</td>\n",
       "      <td>396799.500</td>\n",
       "    </tr>\n",
       "    <tr>\n",
       "      <th>50%</th>\n",
       "      <td>2017.000</td>\n",
       "      <td>38000.000</td>\n",
       "      <td>525000.000</td>\n",
       "    </tr>\n",
       "    <tr>\n",
       "      <th>75%</th>\n",
       "      <td>2020.000</td>\n",
       "      <td>65000.000</td>\n",
       "      <td>748599.500</td>\n",
       "    </tr>\n",
       "    <tr>\n",
       "      <th>max</th>\n",
       "      <td>2022.000</td>\n",
       "      <td>980000.000</td>\n",
       "      <td>7690000.000</td>\n",
       "    </tr>\n",
       "  </tbody>\n",
       "</table>\n",
       "</div>"
      ],
      "text/plain": [
       "          Year  Kms_driven       Price\n",
       "count 1543.000    1543.000    1543.000\n",
       "mean  2016.666   48433.405  667413.393\n",
       "std      4.110   66999.389  580789.524\n",
       "min   1996.000       0.000    2000.000\n",
       "25%   2015.000   16394.500  396799.500\n",
       "50%   2017.000   38000.000  525000.000\n",
       "75%   2020.000   65000.000  748599.500\n",
       "max   2022.000  980000.000 7690000.000"
      ]
     },
     "execution_count": 21,
     "metadata": {},
     "output_type": "execute_result"
    }
   ],
   "source": [
    "data.describe()"
   ]
  },
  {
   "cell_type": "markdown",
   "id": "65a8ed9f",
   "metadata": {},
   "source": [
    "**Let us plot histogram to get an idea of the distribution of the continuous variables**"
   ]
  },
  {
   "cell_type": "code",
   "execution_count": 22,
   "id": "82e40721",
   "metadata": {},
   "outputs": [
    {
     "data": {
      "text/plain": [
       "<AxesSubplot: xlabel='Price', ylabel='Count'>"
      ]
     },
     "execution_count": 22,
     "metadata": {},
     "output_type": "execute_result"
    },
    {
     "data": {
      "image/png": "[encoded data removed]",
      "text/plain": [
       "<Figure size 640x480 with 1 Axes>"
      ]
     },
     "metadata": {},
     "output_type": "display_data"
    }
   ],
   "source": [
    "sns.histplot(data['Price'],bins=50)"
   ]
  },
  {
   "cell_type": "code",
   "execution_count": 23,
   "id": "2014c068",
   "metadata": {},
   "outputs": [
    {
     "data": {
      "text/plain": [
       "<AxesSubplot: xlabel='Kms_driven', ylabel='Count'>"
      ]
     },
     "execution_count": 23,
     "metadata": {},
     "output_type": "execute_result"
    },
    {
     "data": {
      "image/png": "[encoded data removed]",
      "text/plain": [
       "<Figure size 640x480 with 1 Axes>"
      ]
     },
     "metadata": {},
     "output_type": "display_data"
    }
   ],
   "source": [
    "sns.histplot(data['Kms_driven'],bins=50)"
   ]
  },
  {
   "cell_type": "markdown",
   "id": "df6f837e",
   "metadata": {},
   "source": [
    "We can observe that the data is not normally distributed and is quite skewed to the right. We will apply some transformation to make the data normally distributed."
   ]
  },
  {
   "cell_type": "code",
   "execution_count": 24,
   "id": "5bf00f06",
   "metadata": {},
   "outputs": [
    {
     "data": {
      "image/png": "[encoded data removed]",
      "text/plain": [
       "<Figure size 1500x700 with 1 Axes>"
      ]
     },
     "metadata": {},
     "output_type": "display_data"
    }
   ],
   "source": [
    "#Checking relationship of Brand with Price\n",
    "plt.subplots(figsize=(15,7))\n",
    "ax=sns.boxplot(x='Brand',y='Price',data=data)\n",
    "ax.set_xticklabels(ax.get_xticklabels(),rotation=40,ha='right')\n",
    "plt.show()\n"
   ]
  },
  {
   "cell_type": "markdown",
   "id": "e7f2fb3e",
   "metadata": {},
   "source": [
    "From the boxplot, we can observe that few brand like Mercedes, BMW, Land Rover have high prices, which makes sense.  "
   ]
  },
  {
   "cell_type": "code",
   "execution_count": 25,
   "id": "3f344154",
   "metadata": {},
   "outputs": [
    {
     "data": {
      "image/png": "[encoded data removed]",
      "text/plain": [
       "<Figure size 1000x500 with 1 Axes>"
      ]
     },
     "metadata": {},
     "output_type": "display_data"
    }
   ],
   "source": [
    "#Checking relationship of Year with Price\n",
    "plt.subplots(figsize=(10,5))\n",
    "ax=sns.barplot(x='Year',y='Price',data=data)\n",
    "ax.set_xticklabels(ax.get_xticklabels(),rotation=40,ha='right')\n",
    "plt.show()"
   ]
  },
  {
   "cell_type": "markdown",
   "id": "362871e8",
   "metadata": {},
   "source": [
    "The Price increases as the car is purchased more recently. The less it is used, the better is the condition, the more is the price."
   ]
  },
  {
   "cell_type": "code",
   "execution_count": 26,
   "id": "cb73d00f",
   "metadata": {},
   "outputs": [
    {
     "data": {
      "text/plain": [
       "<seaborn.axisgrid.FacetGrid at 0x1d3cbaca8c0>"
      ]
     },
     "execution_count": 26,
     "metadata": {},
     "output_type": "execute_result"
    },
    {
     "data": {
      "image/png": "[encoded data removed]",
      "text/plain": [
       "<Figure size 750x500 with 1 Axes>"
      ]
     },
     "metadata": {},
     "output_type": "display_data"
    }
   ],
   "source": [
    "#Checking relationship of kms_driven with Price\n",
    "sns.relplot(x='Kms_driven',y='Price',data=data,height=5,aspect=1.5)"
   ]
  },
  {
   "cell_type": "markdown",
   "id": "71f36784",
   "metadata": {},
   "source": [
    "When we buy second hand cars, we definetly check for how much distance the car is driven. The lesser the distance, the more the price. From the graph as well, we can see the price is higher for less driven cars."
   ]
  },
  {
   "cell_type": "code",
   "execution_count": 27,
   "id": "36361cda",
   "metadata": {},
   "outputs": [
    {
     "data": {
      "text/plain": [
       "array([' Diesel', ' Diesel ', ' Petrol ', ' CNG', ' Petrol', ' CNG ',\n",
       "       ' Petrol + CNG ', ' LPG', ' Electric ', ' Electric', ' Hybrid',\n",
       "       ' Hybrid '], dtype=object)"
      ]
     },
     "execution_count": 27,
     "metadata": {},
     "output_type": "execute_result"
    }
   ],
   "source": [
    "#unique feul types\n",
    "data.Fuel_type.unique()"
   ]
  },
  {
   "cell_type": "code",
   "execution_count": 28,
   "id": "517685b8",
   "metadata": {},
   "outputs": [],
   "source": [
    "#removing whitespace from the characters of fuel column \n",
    "data['Fuel_type']= data['Fuel_type'].str.strip()"
   ]
  },
  {
   "cell_type": "code",
   "execution_count": 29,
   "id": "956c2820",
   "metadata": {},
   "outputs": [
    {
     "data": {
      "text/plain": [
       "array(['Diesel', 'Petrol', 'CNG', 'Petrol + CNG', 'LPG', 'Electric',\n",
       "       'Hybrid'], dtype=object)"
      ]
     },
     "execution_count": 29,
     "metadata": {},
     "output_type": "execute_result"
    }
   ],
   "source": [
    "data.Fuel_type.unique()"
   ]
  },
  {
   "cell_type": "code",
   "execution_count": 30,
   "id": "ff18c9ba",
   "metadata": {},
   "outputs": [
    {
     "data": {
      "text/plain": [
       "<AxesSubplot: xlabel='Fuel_type', ylabel='Price'>"
      ]
     },
     "execution_count": 30,
     "metadata": {},
     "output_type": "execute_result"
    },
    {
     "data": {
      "image/png": "[encoded data removed]",
      "text/plain": [
       "<Figure size 1000x500 with 1 Axes>"
      ]
     },
     "metadata": {},
     "output_type": "display_data"
    }
   ],
   "source": [
    "#Checking relationship of Fuel Type with Price\n",
    "plt.subplots(figsize=(10,5))\n",
    "sns.barplot(x='Fuel_type',y='Price',data=data)"
   ]
  },
  {
   "cell_type": "markdown",
   "id": "7c193a4d",
   "metadata": {},
   "source": [
    "We observe that electric cars are more costly than other fuel"
   ]
  },
  {
   "cell_type": "markdown",
   "id": "d5b28b78",
   "metadata": {},
   "source": [
    "**Boxplot to check the presence of outliers**"
   ]
  },
  {
   "cell_type": "code",
   "execution_count": 31,
   "id": "cbd850b6",
   "metadata": {},
   "outputs": [
    {
     "data": {
      "text/plain": [
       "<AxesSubplot: >"
      ]
     },
     "execution_count": 31,
     "metadata": {},
     "output_type": "execute_result"
    },
    {
     "data": {
      "image/png": "[encoded data removed]",
      "text/plain": [
       "<Figure size 640x480 with 1 Axes>"
      ]
     },
     "metadata": {},
     "output_type": "display_data"
    }
   ],
   "source": [
    "sns.boxplot(data[\"Price\"])"
   ]
  },
  {
   "cell_type": "code",
   "execution_count": 32,
   "id": "fb572b02",
   "metadata": {},
   "outputs": [
    {
     "data": {
      "text/plain": [
       "<AxesSubplot: >"
      ]
     },
     "execution_count": 32,
     "metadata": {},
     "output_type": "execute_result"
    },
    {
     "data": {
      "image/png": "[encoded data removed]",
      "text/plain": [
       "<Figure size 640x480 with 1 Axes>"
      ]
     },
     "metadata": {},
     "output_type": "display_data"
    }
   ],
   "source": [
    "sns.boxplot(data[\"Kms_driven\"])"
   ]
  },
  {
   "cell_type": "markdown",
   "id": "ac401deb",
   "metadata": {},
   "source": [
    "As we can see there are outliers in the Price and Kms_driven column, so to fix it we will apply Winsorisation technique."
   ]
  },
  {
   "cell_type": "code",
   "execution_count": 33,
   "id": "a6e165dc",
   "metadata": {},
   "outputs": [],
   "source": [
    "IQR_price = data['Price'].quantile(0.75) - data['Price'].quantile(0.25)\n",
    "lower_limit_price = data['Price'].quantile(0.25) - (IQR_price * 1.5)\n",
    "upper_limit_price = data['Price'].quantile(0.75) + (IQR_price * 1.5)"
   ]
  },
  {
   "cell_type": "code",
   "execution_count": 34,
   "id": "0bd255bd",
   "metadata": {},
   "outputs": [
    {
     "name": "stdout",
     "output_type": "stream",
     "text": [
      "-130900.5\n",
      "1276299.5\n"
     ]
    }
   ],
   "source": [
    "print(lower_limit_price)\n",
    "print(upper_limit_price)"
   ]
  },
  {
   "cell_type": "code",
   "execution_count": 35,
   "id": "bde233c5",
   "metadata": {},
   "outputs": [],
   "source": [
    "IQR_kms = data['Kms_driven'].quantile(0.75) - data['Price'].quantile(0.25)\n",
    "lower_limit_kms = data['Kms_driven'].quantile(0.25) - (IQR_kms * 1.5)\n",
    "upper_limit_kms = data['Kms_driven'].quantile(0.75) + (IQR_kms * 1.5)"
   ]
  },
  {
   "cell_type": "code",
   "execution_count": 36,
   "id": "d0c90e39",
   "metadata": {},
   "outputs": [
    {
     "name": "stdout",
     "output_type": "stream",
     "text": [
      "514093.75\n",
      "-432699.25\n"
     ]
    }
   ],
   "source": [
    "print(lower_limit_kms)\n",
    "print(upper_limit_kms)"
   ]
  },
  {
   "cell_type": "code",
   "execution_count": 37,
   "id": "1ce1c3b6",
   "metadata": {},
   "outputs": [
    {
     "data": {
      "text/plain": [
       "((array([-3.3206008 , -3.06450561, -2.92215629, ...,  2.92215629,\n",
       "          3.06450561,  3.3206008 ]),\n",
       "  array([   2000,   45000,   45000, ..., 6200000, 6666666, 7690000],\n",
       "        dtype=int64)),\n",
       " (462235.17583768506, 667413.3933895011, 0.7946209945186501))"
      ]
     },
     "execution_count": 37,
     "metadata": {},
     "output_type": "execute_result"
    },
    {
     "data": {
      "image/png": "[encoded data removed]",
      "text/plain": [
       "<Figure size 640x480 with 1 Axes>"
      ]
     },
     "metadata": {},
     "output_type": "display_data"
    }
   ],
   "source": [
    "from scipy import stats\n",
    "import pylab\n",
    "stats.probplot(data['Price'], dist = \"norm\", plot = pylab)"
   ]
  },
  {
   "cell_type": "code",
   "execution_count": 38,
   "id": "105a1837",
   "metadata": {},
   "outputs": [
    {
     "data": {
      "text/plain": [
       "2022"
      ]
     },
     "execution_count": 38,
     "metadata": {},
     "output_type": "execute_result"
    }
   ],
   "source": [
    "from datetime import date\n",
    "todays_date = date.today()\n",
    "todays_date.year"
   ]
  },
  {
   "cell_type": "code",
   "execution_count": 39,
   "id": "d00b4204",
   "metadata": {},
   "outputs": [],
   "source": [
    "data['Years_used']=todays_date.year - data['Year']"
   ]
  },
  {
   "cell_type": "code",
   "execution_count": 40,
   "id": "6ea8919b",
   "metadata": {},
   "outputs": [],
   "source": [
    "data.drop(['Year'],axis=1,inplace=True)"
   ]
  },
  {
   "cell_type": "code",
   "execution_count": 41,
   "id": "9c2cb87b",
   "metadata": {},
   "outputs": [
    {
     "data": {
      "text/html": [
       "<div>\n",
       "<style scoped>\n",
       "    .dataframe tbody tr th:only-of-type {\n",
       "        vertical-align: middle;\n",
       "    }\n",
       "\n",
       "    .dataframe tbody tr th {\n",
       "        vertical-align: top;\n",
       "    }\n",
       "\n",
       "    .dataframe thead th {\n",
       "        text-align: right;\n",
       "    }\n",
       "</style>\n",
       "<table border=\"1\" class=\"dataframe\">\n",
       "  <thead>\n",
       "    <tr style=\"text-align: right;\">\n",
       "      <th></th>\n",
       "      <th>Model</th>\n",
       "      <th>Brand</th>\n",
       "      <th>Kms_driven</th>\n",
       "      <th>Fuel_type</th>\n",
       "      <th>Price</th>\n",
       "      <th>Years_used</th>\n",
       "    </tr>\n",
       "  </thead>\n",
       "  <tbody>\n",
       "    <tr>\n",
       "      <th>0</th>\n",
       "      <td>Tata Nexon XT</td>\n",
       "      <td>Tata</td>\n",
       "      <td>33000</td>\n",
       "      <td>Diesel</td>\n",
       "      <td>970000</td>\n",
       "      <td>2</td>\n",
       "    </tr>\n",
       "    <tr>\n",
       "      <th>1</th>\n",
       "      <td>Maruti Suzuki Swift</td>\n",
       "      <td>Maruti</td>\n",
       "      <td>70840</td>\n",
       "      <td>Diesel</td>\n",
       "      <td>95000</td>\n",
       "      <td>8</td>\n",
       "    </tr>\n",
       "    <tr>\n",
       "      <th>2</th>\n",
       "      <td>Mercedes Benz B</td>\n",
       "      <td>Mercedes</td>\n",
       "      <td>44573</td>\n",
       "      <td>Diesel</td>\n",
       "      <td>1790000</td>\n",
       "      <td>6</td>\n",
       "    </tr>\n",
       "    <tr>\n",
       "      <th>3</th>\n",
       "      <td>Audi Q3 2.0</td>\n",
       "      <td>Audi</td>\n",
       "      <td>88759</td>\n",
       "      <td>Diesel</td>\n",
       "      <td>1790000</td>\n",
       "      <td>8</td>\n",
       "    </tr>\n",
       "    <tr>\n",
       "      <th>4</th>\n",
       "      <td>Honda City ZX</td>\n",
       "      <td>Honda</td>\n",
       "      <td>9900</td>\n",
       "      <td>Petrol</td>\n",
       "      <td>1490000</td>\n",
       "      <td>1</td>\n",
       "    </tr>\n",
       "  </tbody>\n",
       "</table>\n",
       "</div>"
      ],
      "text/plain": [
       "                 Model     Brand  Kms_driven Fuel_type    Price  Years_used\n",
       "0        Tata Nexon XT      Tata       33000    Diesel   970000           2\n",
       "1  Maruti Suzuki Swift    Maruti       70840    Diesel    95000           8\n",
       "2      Mercedes Benz B  Mercedes       44573    Diesel  1790000           6\n",
       "3          Audi Q3 2.0      Audi       88759    Diesel  1790000           8\n",
       "4        Honda City ZX     Honda        9900    Petrol  1490000           1"
      ]
     },
     "execution_count": 41,
     "metadata": {},
     "output_type": "execute_result"
    }
   ],
   "source": [
    "data.head()"
   ]
  },
  {
   "cell_type": "code",
   "execution_count": 42,
   "id": "a394c8bf",
   "metadata": {},
   "outputs": [
    {
     "name": "stderr",
     "output_type": "stream",
     "text": [
      "C:\\Users\\excep\\AppData\\Local\\Temp\\ipykernel_4008\\3385634631.py:2: FutureWarning: The default value of numeric_only in DataFrame.corr is deprecated. In a future version, it will default to False. Select only valid columns or specify the value of numeric_only to silence this warning.\n",
      "  sns.heatmap(data.corr(),annot=True,cmap=\"RdYlGn\")\n"
     ]
    },
    {
     "data": {
      "text/plain": [
       "<AxesSubplot: >"
      ]
     },
     "execution_count": 42,
     "metadata": {},
     "output_type": "execute_result"
    },
    {
     "data": {
      "image/png": "[encoded data removed]",
      "text/plain": [
       "<Figure size 640x480 with 2 Axes>"
      ]
     },
     "metadata": {},
     "output_type": "display_data"
    }
   ],
   "source": [
    "#checking the correlation between features\n",
    "sns.heatmap(data.corr(),annot=True,cmap=\"RdYlGn\")"
   ]
  },
  {
   "cell_type": "markdown",
   "id": "a0848485",
   "metadata": {},
   "source": [
    "## Feature Engineering"
   ]
  },
  {
   "cell_type": "markdown",
   "id": "b03b364c",
   "metadata": {},
   "source": [
    "**Dropping Duplicate values**"
   ]
  },
  {
   "cell_type": "code",
   "execution_count": 43,
   "id": "4800a198",
   "metadata": {},
   "outputs": [
    {
     "data": {
      "text/plain": [
       "204"
      ]
     },
     "execution_count": 43,
     "metadata": {},
     "output_type": "execute_result"
    }
   ],
   "source": [
    "#checking for duplicate rows\n",
    "data.duplicated(subset=['Model', 'Years_used', 'Brand', 'Kms_driven', 'Fuel_type']).sum()"
   ]
  },
  {
   "cell_type": "code",
   "execution_count": 44,
   "id": "d03036cd",
   "metadata": {},
   "outputs": [],
   "source": [
    "#droping duplicates\n",
    "data.drop_duplicates(subset=['Model', 'Years_used', 'Brand', 'Kms_driven', 'Fuel_type'],keep='first', inplace=True, ignore_index=True)"
   ]
  },
  {
   "cell_type": "code",
   "execution_count": 45,
   "id": "06ab47bd",
   "metadata": {},
   "outputs": [
    {
     "data": {
      "text/html": [
       "<div>\n",
       "<style scoped>\n",
       "    .dataframe tbody tr th:only-of-type {\n",
       "        vertical-align: middle;\n",
       "    }\n",
       "\n",
       "    .dataframe tbody tr th {\n",
       "        vertical-align: top;\n",
       "    }\n",
       "\n",
       "    .dataframe thead th {\n",
       "        text-align: right;\n",
       "    }\n",
       "</style>\n",
       "<table border=\"1\" class=\"dataframe\">\n",
       "  <thead>\n",
       "    <tr style=\"text-align: right;\">\n",
       "      <th></th>\n",
       "      <th>Model</th>\n",
       "      <th>Brand</th>\n",
       "      <th>Kms_driven</th>\n",
       "      <th>Fuel_type</th>\n",
       "      <th>Price</th>\n",
       "      <th>Years_used</th>\n",
       "    </tr>\n",
       "  </thead>\n",
       "  <tbody>\n",
       "    <tr>\n",
       "      <th>729</th>\n",
       "      <td>Hyundai AURA S</td>\n",
       "      <td>Hyundai</td>\n",
       "      <td>0</td>\n",
       "      <td>Diesel</td>\n",
       "      <td>1000000</td>\n",
       "      <td>2</td>\n",
       "    </tr>\n",
       "  </tbody>\n",
       "</table>\n",
       "</div>"
      ],
      "text/plain": [
       "              Model    Brand  Kms_driven Fuel_type    Price  Years_used\n",
       "729  Hyundai AURA S  Hyundai           0    Diesel  1000000           2"
      ]
     },
     "execution_count": 45,
     "metadata": {},
     "output_type": "execute_result"
    }
   ],
   "source": [
    "data.loc[data['Kms_driven']==0]"
   ]
  },
  {
   "cell_type": "code",
   "execution_count": 46,
   "id": "0d567f2a",
   "metadata": {},
   "outputs": [],
   "source": [
    "data.at[729,'Kms_driven']= data.Kms_driven.median()"
   ]
  },
  {
   "cell_type": "code",
   "execution_count": 47,
   "id": "83057c35",
   "metadata": {},
   "outputs": [
    {
     "data": {
      "text/html": [
       "<div>\n",
       "<style scoped>\n",
       "    .dataframe tbody tr th:only-of-type {\n",
       "        vertical-align: middle;\n",
       "    }\n",
       "\n",
       "    .dataframe tbody tr th {\n",
       "        vertical-align: top;\n",
       "    }\n",
       "\n",
       "    .dataframe thead th {\n",
       "        text-align: right;\n",
       "    }\n",
       "</style>\n",
       "<table border=\"1\" class=\"dataframe\">\n",
       "  <thead>\n",
       "    <tr style=\"text-align: right;\">\n",
       "      <th></th>\n",
       "      <th>Model</th>\n",
       "      <th>Brand</th>\n",
       "      <th>Kms_driven</th>\n",
       "      <th>Fuel_type</th>\n",
       "      <th>Price</th>\n",
       "      <th>Years_used</th>\n",
       "    </tr>\n",
       "  </thead>\n",
       "  <tbody>\n",
       "    <tr>\n",
       "      <th>0</th>\n",
       "      <td>Tata Nexon XT</td>\n",
       "      <td>Tata</td>\n",
       "      <td>33000</td>\n",
       "      <td>Diesel</td>\n",
       "      <td>970000</td>\n",
       "      <td>2</td>\n",
       "    </tr>\n",
       "    <tr>\n",
       "      <th>1</th>\n",
       "      <td>Maruti Suzuki Swift</td>\n",
       "      <td>Maruti</td>\n",
       "      <td>70840</td>\n",
       "      <td>Diesel</td>\n",
       "      <td>95000</td>\n",
       "      <td>8</td>\n",
       "    </tr>\n",
       "    <tr>\n",
       "      <th>2</th>\n",
       "      <td>Mercedes Benz B</td>\n",
       "      <td>Mercedes</td>\n",
       "      <td>44573</td>\n",
       "      <td>Diesel</td>\n",
       "      <td>1790000</td>\n",
       "      <td>6</td>\n",
       "    </tr>\n",
       "    <tr>\n",
       "      <th>3</th>\n",
       "      <td>Audi Q3 2.0</td>\n",
       "      <td>Audi</td>\n",
       "      <td>88759</td>\n",
       "      <td>Diesel</td>\n",
       "      <td>1790000</td>\n",
       "      <td>8</td>\n",
       "    </tr>\n",
       "    <tr>\n",
       "      <th>4</th>\n",
       "      <td>Honda City ZX</td>\n",
       "      <td>Honda</td>\n",
       "      <td>9900</td>\n",
       "      <td>Petrol</td>\n",
       "      <td>1490000</td>\n",
       "      <td>1</td>\n",
       "    </tr>\n",
       "  </tbody>\n",
       "</table>\n",
       "</div>"
      ],
      "text/plain": [
       "                 Model     Brand  Kms_driven Fuel_type    Price  Years_used\n",
       "0        Tata Nexon XT      Tata       33000    Diesel   970000           2\n",
       "1  Maruti Suzuki Swift    Maruti       70840    Diesel    95000           8\n",
       "2      Mercedes Benz B  Mercedes       44573    Diesel  1790000           6\n",
       "3          Audi Q3 2.0      Audi       88759    Diesel  1790000           8\n",
       "4        Honda City ZX     Honda        9900    Petrol  1490000           1"
      ]
     },
     "execution_count": 47,
     "metadata": {},
     "output_type": "execute_result"
    }
   ],
   "source": [
    "data.head()"
   ]
  },
  {
   "cell_type": "code",
   "execution_count": 48,
   "id": "ceef618e",
   "metadata": {},
   "outputs": [],
   "source": [
    "X=data[['Model','Brand','Kms_driven','Fuel_type','Years_used']]\n",
    "y=data[['Price']]\n"
   ]
  },
  {
   "cell_type": "code",
   "execution_count": 49,
   "id": "52c94e91",
   "metadata": {
    "scrolled": true
   },
   "outputs": [
    {
     "data": {
      "text/plain": [
       "(1339, 5)"
      ]
     },
     "execution_count": 49,
     "metadata": {},
     "output_type": "execute_result"
    }
   ],
   "source": [
    "X.shape"
   ]
  },
  {
   "cell_type": "code",
   "execution_count": 50,
   "id": "47bb9a90",
   "metadata": {},
   "outputs": [
    {
     "data": {
      "text/plain": [
       "(1339, 1)"
      ]
     },
     "execution_count": 50,
     "metadata": {},
     "output_type": "execute_result"
    }
   ],
   "source": [
    "y.shape"
   ]
  },
  {
   "cell_type": "markdown",
   "id": "3f0e909e",
   "metadata": {},
   "source": [
    "### Applying Transformation to make the data normally distributed"
   ]
  },
  {
   "cell_type": "code",
   "execution_count": 51,
   "id": "5be7c515",
   "metadata": {},
   "outputs": [],
   "source": [
    "X[\"Log_Kms_driven\"] = np.log(X[\"Kms_driven\"])"
   ]
  },
  {
   "cell_type": "code",
   "execution_count": 52,
   "id": "a82f08f0",
   "metadata": {},
   "outputs": [
    {
     "data": {
      "text/plain": [
       "((array([-3.28082137, -3.02184584, -2.87771807, ...,  2.87771807,\n",
       "          3.02184584,  3.28082137]),\n",
       "  array([ 2.48490665,  2.48490665,  2.48490665, ..., 13.72512294,\n",
       "         13.76421726, 13.79530785])),\n",
       " (1.117140924238399, 10.40406628634705, 0.8626293384193154))"
      ]
     },
     "execution_count": 52,
     "metadata": {},
     "output_type": "execute_result"
    },
    {
     "data": {
      "image/png": "[encoded data removed]",
      "text/plain": [
       "<Figure size 640x480 with 1 Axes>"
      ]
     },
     "metadata": {},
     "output_type": "display_data"
    }
   ],
   "source": [
    "# Checking whether data is normally distributed\n",
    "import scipy.stats as stats\n",
    "import pylab\n",
    "stats.probplot(X['Log_Kms_driven'], dist = \"norm\", plot = pylab)"
   ]
  },
  {
   "cell_type": "code",
   "execution_count": 53,
   "id": "f41fa1a5",
   "metadata": {},
   "outputs": [],
   "source": [
    "X[\"sqrt_Kms_driven\"] = np.sqrt(X[\"Kms_driven\"])"
   ]
  },
  {
   "cell_type": "code",
   "execution_count": 54,
   "id": "2ede24f8",
   "metadata": {},
   "outputs": [
    {
     "data": {
      "text/plain": [
       "((array([-3.28082137, -3.02184584, -2.87771807, ...,  2.87771807,\n",
       "          3.02184584,  3.28082137]),\n",
       "  array([  3.46410162,   3.46410162,   3.46410162, ..., 955.81222005,\n",
       "         974.67943448, 989.94949366])),\n",
       " (90.48403451076325, 208.3337779307709, 0.9302093398973816))"
      ]
     },
     "execution_count": 54,
     "metadata": {},
     "output_type": "execute_result"
    },
    {
     "data": {
      "image/png": "[encoded data removed]",
      "text/plain": [
       "<Figure size 640x480 with 1 Axes>"
      ]
     },
     "metadata": {},
     "output_type": "display_data"
    }
   ],
   "source": [
    "stats.probplot(X['sqrt_Kms_driven'], dist = \"norm\", plot = pylab)"
   ]
  },
  {
   "cell_type": "code",
   "execution_count": 55,
   "id": "ad5e9276",
   "metadata": {},
   "outputs": [
    {
     "data": {
      "text/plain": [
       "<seaborn.axisgrid.FacetGrid at 0x1d3cff19c90>"
      ]
     },
     "execution_count": 55,
     "metadata": {},
     "output_type": "execute_result"
    },
    {
     "data": {
      "image/png": "[encoded data removed]",
      "text/plain": [
       "<Figure size 500x500 with 1 Axes>"
      ]
     },
     "metadata": {},
     "output_type": "display_data"
    }
   ],
   "source": [
    "sns.displot(X['sqrt_Kms_driven'],kde=True, bins=50)"
   ]
  },
  {
   "cell_type": "code",
   "execution_count": 56,
   "id": "eabb1c02",
   "metadata": {},
   "outputs": [
    {
     "name": "stderr",
     "output_type": "stream",
     "text": [
      "C:\\Users\\excep\\AppData\\Local\\Temp\\ipykernel_4008\\249330477.py:1: SettingWithCopyWarning: \n",
      "A value is trying to be set on a copy of a slice from a DataFrame.\n",
      "Try using .loc[row_indexer,col_indexer] = value instead\n",
      "\n",
      "See the caveats in the documentation: https://pandas.pydata.org/pandas-docs/stable/user_guide/indexing.html#returning-a-view-versus-a-copy\n",
      "  y[\"Log_Price\"] = np.log(y[\"Price\"])\n"
     ]
    }
   ],
   "source": [
    "y[\"Log_Price\"] = np.log(y[\"Price\"])"
   ]
  },
  {
   "cell_type": "code",
   "execution_count": 57,
   "id": "01032a57",
   "metadata": {},
   "outputs": [
    {
     "data": {
      "text/plain": [
       "((array([-3.28082137, -3.02184584, -2.87771807, ...,  2.87771807,\n",
       "          3.02184584,  3.28082137]),\n",
       "  array([ 7.60090246, 10.71441777, 10.71441777, ..., 15.64005985,\n",
       "         15.71263044, 15.85543134])),\n",
       " (0.6713205122530919, 13.191063765378336, 0.982736020192785))"
      ]
     },
     "execution_count": 57,
     "metadata": {},
     "output_type": "execute_result"
    },
    {
     "data": {
      "image/png": "[encoded data removed]",
      "text/plain": [
       "<Figure size 640x480 with 1 Axes>"
      ]
     },
     "metadata": {},
     "output_type": "display_data"
    }
   ],
   "source": [
    "stats.probplot(y['Log_Price'], dist = \"norm\", plot = pylab)"
   ]
  },
  {
   "cell_type": "code",
   "execution_count": 58,
   "id": "692dce38",
   "metadata": {},
   "outputs": [
    {
     "data": {
      "text/plain": [
       "<seaborn.axisgrid.FacetGrid at 0x1d3ce097430>"
      ]
     },
     "execution_count": 58,
     "metadata": {},
     "output_type": "execute_result"
    },
    {
     "data": {
      "image/png": "[encoded data removed]",
      "text/plain": [
       "<Figure size 500x500 with 1 Axes>"
      ]
     },
     "metadata": {},
     "output_type": "display_data"
    }
   ],
   "source": [
    "sns.displot(y['Log_Price'],kde=True, bins=50)"
   ]
  },
  {
   "cell_type": "code",
   "execution_count": 59,
   "id": "c4e27d60",
   "metadata": {},
   "outputs": [
    {
     "name": "stderr",
     "output_type": "stream",
     "text": [
      "C:\\Users\\excep\\AppData\\Local\\Temp\\ipykernel_4008\\1976966639.py:1: SettingWithCopyWarning: \n",
      "A value is trying to be set on a copy of a slice from a DataFrame\n",
      "\n",
      "See the caveats in the documentation: https://pandas.pydata.org/pandas-docs/stable/user_guide/indexing.html#returning-a-view-versus-a-copy\n",
      "  y.drop(\"Price\",axis=1,inplace= True)\n"
     ]
    }
   ],
   "source": [
    "y.drop(\"Price\",axis=1,inplace= True)"
   ]
  },
  {
   "cell_type": "code",
   "execution_count": 60,
   "id": "84750284",
   "metadata": {},
   "outputs": [],
   "source": [
    "from feature_engine.outliers import Winsorizer"
   ]
  },
  {
   "cell_type": "code",
   "execution_count": 61,
   "id": "81fecb34",
   "metadata": {},
   "outputs": [],
   "source": [
    "#Define the model with IQR method\n",
    "winsor_iqr = Winsorizer(capping_method = 'iqr', \n",
    "                        # choose  IQR rule boundaries or gaussian for mean and std\n",
    "                          tail = 'right', # cap left, right or both tails \n",
    "                          fold = 1.5,\n",
    "                          variables = ['sqrt_Kms_driven'])"
   ]
  },
  {
   "cell_type": "code",
   "execution_count": 62,
   "id": "a496cced",
   "metadata": {},
   "outputs": [],
   "source": [
    "X[\"Kms_driven_treated\"]=winsor_iqr.fit_transform(X[['sqrt_Kms_driven']])"
   ]
  },
  {
   "cell_type": "code",
   "execution_count": 63,
   "id": "0c514a0d",
   "metadata": {},
   "outputs": [
    {
     "data": {
      "text/plain": [
       "<AxesSubplot: >"
      ]
     },
     "execution_count": 63,
     "metadata": {},
     "output_type": "execute_result"
    },
    {
     "data": {
      "image/png": "[encoded data removed]",
      "text/plain": [
       "<Figure size 640x480 with 1 Axes>"
      ]
     },
     "metadata": {},
     "output_type": "display_data"
    }
   ],
   "source": [
    "sns.boxplot(X.Kms_driven_treated)"
   ]
  },
  {
   "cell_type": "code",
   "execution_count": 64,
   "id": "03bdcb5f",
   "metadata": {},
   "outputs": [
    {
     "data": {
      "text/html": [
       "<div>\n",
       "<style scoped>\n",
       "    .dataframe tbody tr th:only-of-type {\n",
       "        vertical-align: middle;\n",
       "    }\n",
       "\n",
       "    .dataframe tbody tr th {\n",
       "        vertical-align: top;\n",
       "    }\n",
       "\n",
       "    .dataframe thead th {\n",
       "        text-align: right;\n",
       "    }\n",
       "</style>\n",
       "<table border=\"1\" class=\"dataframe\">\n",
       "  <thead>\n",
       "    <tr style=\"text-align: right;\">\n",
       "      <th></th>\n",
       "      <th>Model</th>\n",
       "      <th>Brand</th>\n",
       "      <th>Kms_driven</th>\n",
       "      <th>Fuel_type</th>\n",
       "      <th>Years_used</th>\n",
       "      <th>Log_Kms_driven</th>\n",
       "      <th>sqrt_Kms_driven</th>\n",
       "      <th>Kms_driven_treated</th>\n",
       "    </tr>\n",
       "  </thead>\n",
       "  <tbody>\n",
       "    <tr>\n",
       "      <th>0</th>\n",
       "      <td>Tata Nexon XT</td>\n",
       "      <td>Tata</td>\n",
       "      <td>33000</td>\n",
       "      <td>Diesel</td>\n",
       "      <td>2</td>\n",
       "      <td>10.404</td>\n",
       "      <td>181.659</td>\n",
       "      <td>181.659</td>\n",
       "    </tr>\n",
       "    <tr>\n",
       "      <th>1</th>\n",
       "      <td>Maruti Suzuki Swift</td>\n",
       "      <td>Maruti</td>\n",
       "      <td>70840</td>\n",
       "      <td>Diesel</td>\n",
       "      <td>8</td>\n",
       "      <td>11.168</td>\n",
       "      <td>266.158</td>\n",
       "      <td>266.158</td>\n",
       "    </tr>\n",
       "    <tr>\n",
       "      <th>2</th>\n",
       "      <td>Mercedes Benz B</td>\n",
       "      <td>Mercedes</td>\n",
       "      <td>44573</td>\n",
       "      <td>Diesel</td>\n",
       "      <td>6</td>\n",
       "      <td>10.705</td>\n",
       "      <td>211.123</td>\n",
       "      <td>211.123</td>\n",
       "    </tr>\n",
       "    <tr>\n",
       "      <th>3</th>\n",
       "      <td>Audi Q3 2.0</td>\n",
       "      <td>Audi</td>\n",
       "      <td>88759</td>\n",
       "      <td>Diesel</td>\n",
       "      <td>8</td>\n",
       "      <td>11.394</td>\n",
       "      <td>297.924</td>\n",
       "      <td>297.924</td>\n",
       "    </tr>\n",
       "    <tr>\n",
       "      <th>4</th>\n",
       "      <td>Honda City ZX</td>\n",
       "      <td>Honda</td>\n",
       "      <td>9900</td>\n",
       "      <td>Petrol</td>\n",
       "      <td>1</td>\n",
       "      <td>9.200</td>\n",
       "      <td>99.499</td>\n",
       "      <td>99.499</td>\n",
       "    </tr>\n",
       "  </tbody>\n",
       "</table>\n",
       "</div>"
      ],
      "text/plain": [
       "                 Model     Brand  Kms_driven Fuel_type  Years_used  \\\n",
       "0        Tata Nexon XT      Tata       33000    Diesel           2   \n",
       "1  Maruti Suzuki Swift    Maruti       70840    Diesel           8   \n",
       "2      Mercedes Benz B  Mercedes       44573    Diesel           6   \n",
       "3          Audi Q3 2.0      Audi       88759    Diesel           8   \n",
       "4        Honda City ZX     Honda        9900    Petrol           1   \n",
       "\n",
       "   Log_Kms_driven  sqrt_Kms_driven  Kms_driven_treated  \n",
       "0          10.404          181.659             181.659  \n",
       "1          11.168          266.158             266.158  \n",
       "2          10.705          211.123             211.123  \n",
       "3          11.394          297.924             297.924  \n",
       "4           9.200           99.499              99.499  "
      ]
     },
     "execution_count": 64,
     "metadata": {},
     "output_type": "execute_result"
    }
   ],
   "source": [
    "X.head()"
   ]
  },
  {
   "cell_type": "code",
   "execution_count": 65,
   "id": "beeb241a",
   "metadata": {},
   "outputs": [],
   "source": [
    "X.drop([\"Log_Kms_driven\",\"sqrt_Kms_driven\",\"Kms_driven\"],axis=1, inplace=True)"
   ]
  },
  {
   "cell_type": "code",
   "execution_count": 66,
   "id": "d640f3b3",
   "metadata": {},
   "outputs": [
    {
     "data": {
      "text/html": [
       "<div>\n",
       "<style scoped>\n",
       "    .dataframe tbody tr th:only-of-type {\n",
       "        vertical-align: middle;\n",
       "    }\n",
       "\n",
       "    .dataframe tbody tr th {\n",
       "        vertical-align: top;\n",
       "    }\n",
       "\n",
       "    .dataframe thead th {\n",
       "        text-align: right;\n",
       "    }\n",
       "</style>\n",
       "<table border=\"1\" class=\"dataframe\">\n",
       "  <thead>\n",
       "    <tr style=\"text-align: right;\">\n",
       "      <th></th>\n",
       "      <th>Model</th>\n",
       "      <th>Brand</th>\n",
       "      <th>Fuel_type</th>\n",
       "      <th>Years_used</th>\n",
       "      <th>Kms_driven_treated</th>\n",
       "    </tr>\n",
       "  </thead>\n",
       "  <tbody>\n",
       "    <tr>\n",
       "      <th>0</th>\n",
       "      <td>Tata Nexon XT</td>\n",
       "      <td>Tata</td>\n",
       "      <td>Diesel</td>\n",
       "      <td>2</td>\n",
       "      <td>181.659</td>\n",
       "    </tr>\n",
       "    <tr>\n",
       "      <th>1</th>\n",
       "      <td>Maruti Suzuki Swift</td>\n",
       "      <td>Maruti</td>\n",
       "      <td>Diesel</td>\n",
       "      <td>8</td>\n",
       "      <td>266.158</td>\n",
       "    </tr>\n",
       "    <tr>\n",
       "      <th>2</th>\n",
       "      <td>Mercedes Benz B</td>\n",
       "      <td>Mercedes</td>\n",
       "      <td>Diesel</td>\n",
       "      <td>6</td>\n",
       "      <td>211.123</td>\n",
       "    </tr>\n",
       "    <tr>\n",
       "      <th>3</th>\n",
       "      <td>Audi Q3 2.0</td>\n",
       "      <td>Audi</td>\n",
       "      <td>Diesel</td>\n",
       "      <td>8</td>\n",
       "      <td>297.924</td>\n",
       "    </tr>\n",
       "    <tr>\n",
       "      <th>4</th>\n",
       "      <td>Honda City ZX</td>\n",
       "      <td>Honda</td>\n",
       "      <td>Petrol</td>\n",
       "      <td>1</td>\n",
       "      <td>99.499</td>\n",
       "    </tr>\n",
       "  </tbody>\n",
       "</table>\n",
       "</div>"
      ],
      "text/plain": [
       "                 Model     Brand Fuel_type  Years_used  Kms_driven_treated\n",
       "0        Tata Nexon XT      Tata    Diesel           2             181.659\n",
       "1  Maruti Suzuki Swift    Maruti    Diesel           8             266.158\n",
       "2      Mercedes Benz B  Mercedes    Diesel           6             211.123\n",
       "3          Audi Q3 2.0      Audi    Diesel           8             297.924\n",
       "4        Honda City ZX     Honda    Petrol           1              99.499"
      ]
     },
     "execution_count": 66,
     "metadata": {},
     "output_type": "execute_result"
    }
   ],
   "source": [
    "X.head()"
   ]
  },
  {
   "cell_type": "code",
   "execution_count": 67,
   "id": "f1386e28",
   "metadata": {},
   "outputs": [
    {
     "data": {
      "text/html": [
       "<div>\n",
       "<style scoped>\n",
       "    .dataframe tbody tr th:only-of-type {\n",
       "        vertical-align: middle;\n",
       "    }\n",
       "\n",
       "    .dataframe tbody tr th {\n",
       "        vertical-align: top;\n",
       "    }\n",
       "\n",
       "    .dataframe thead th {\n",
       "        text-align: right;\n",
       "    }\n",
       "</style>\n",
       "<table border=\"1\" class=\"dataframe\">\n",
       "  <thead>\n",
       "    <tr style=\"text-align: right;\">\n",
       "      <th></th>\n",
       "      <th>Log_Price</th>\n",
       "    </tr>\n",
       "  </thead>\n",
       "  <tbody>\n",
       "    <tr>\n",
       "      <th>0</th>\n",
       "      <td>13.785</td>\n",
       "    </tr>\n",
       "    <tr>\n",
       "      <th>1</th>\n",
       "      <td>11.462</td>\n",
       "    </tr>\n",
       "    <tr>\n",
       "      <th>2</th>\n",
       "      <td>14.398</td>\n",
       "    </tr>\n",
       "    <tr>\n",
       "      <th>3</th>\n",
       "      <td>14.398</td>\n",
       "    </tr>\n",
       "    <tr>\n",
       "      <th>4</th>\n",
       "      <td>14.214</td>\n",
       "    </tr>\n",
       "  </tbody>\n",
       "</table>\n",
       "</div>"
      ],
      "text/plain": [
       "   Log_Price\n",
       "0     13.785\n",
       "1     11.462\n",
       "2     14.398\n",
       "3     14.398\n",
       "4     14.214"
      ]
     },
     "execution_count": 67,
     "metadata": {},
     "output_type": "execute_result"
    }
   ],
   "source": [
    "y.head()"
   ]
  },
  {
   "cell_type": "markdown",
   "id": "5cb31306",
   "metadata": {},
   "source": [
    "## Model Building"
   ]
  },
  {
   "cell_type": "code",
   "execution_count": 68,
   "id": "9fd41632",
   "metadata": {},
   "outputs": [],
   "source": [
    "from sklearn.model_selection import train_test_split\n",
    "X_train,X_test,y_train,y_test=train_test_split(X,y,test_size=0.2)"
   ]
  },
  {
   "cell_type": "code",
   "execution_count": 69,
   "id": "37076cdc",
   "metadata": {},
   "outputs": [
    {
     "data": {
      "text/plain": [
       "OneHotEncoder()"
      ]
     },
     "execution_count": 69,
     "metadata": {},
     "output_type": "execute_result"
    }
   ],
   "source": [
    "from sklearn.preprocessing import OneHotEncoder\n",
    "ohe=OneHotEncoder()\n",
    "ohe.fit(X[['Model','Brand','Fuel_type']])\n"
   ]
  },
  {
   "cell_type": "code",
   "execution_count": 70,
   "id": "3e167bb3",
   "metadata": {},
   "outputs": [],
   "source": [
    "from sklearn.compose import make_column_transformer\n",
    "column_trans=make_column_transformer((OneHotEncoder(categories=ohe.categories_),['Model','Brand','Fuel_type']),\n",
    "                                    remainder='passthrough')"
   ]
  },
  {
   "cell_type": "code",
   "execution_count": 71,
   "id": "749bec92",
   "metadata": {},
   "outputs": [],
   "source": [
    "from sklearn.pipeline import make_pipeline"
   ]
  },
  {
   "cell_type": "code",
   "execution_count": 72,
   "id": "cd239991",
   "metadata": {},
   "outputs": [],
   "source": [
    "from sklearn.linear_model import LinearRegression\n",
    "from sklearn.metrics import r2_score\n",
    "lr=LinearRegression()"
   ]
  },
  {
   "cell_type": "code",
   "execution_count": 73,
   "id": "685de635",
   "metadata": {},
   "outputs": [],
   "source": [
    "scores=[]\n",
    "for i in range(1000):\n",
    "    X_train,X_test,y_train,y_test=train_test_split(X,y,test_size=0.1,random_state=i)\n",
    "    lr=LinearRegression()\n",
    "    pipe=make_pipeline(column_trans,lr)\n",
    "    pipe.fit(X_train,y_train)\n",
    "    y_pred=pipe.predict(X_test)\n",
    "    scores.append(r2_score(y_test,y_pred))"
   ]
  },
  {
   "cell_type": "code",
   "execution_count": 74,
   "id": "754a79c1",
   "metadata": {},
   "outputs": [
    {
     "data": {
      "text/plain": [
       "499"
      ]
     },
     "execution_count": 74,
     "metadata": {},
     "output_type": "execute_result"
    }
   ],
   "source": [
    "np.argmax(scores)"
   ]
  },
  {
   "cell_type": "code",
   "execution_count": 75,
   "id": "de98f7d4",
   "metadata": {},
   "outputs": [
    {
     "data": {
      "text/plain": [
       "0.9153656254638508"
      ]
     },
     "execution_count": 75,
     "metadata": {},
     "output_type": "execute_result"
    }
   ],
   "source": [
    "scores[np.argmax(scores)]"
   ]
  },
  {
   "cell_type": "code",
   "execution_count": 83,
   "id": "db6cad3a",
   "metadata": {},
   "outputs": [
    {
     "data": {
      "text/plain": [
       "array([[542776.65320603]])"
      ]
     },
     "execution_count": 83,
     "metadata": {},
     "output_type": "execute_result"
    }
   ],
   "source": [
    "np.exp(pipe.predict(pd.DataFrame(columns=X_test.columns,data=np.array(['Maruti Suzuki Swift','Maruti','Petrol',5,100]).reshape(1,5))))\n"
   ]
  },
  {
   "cell_type": "code",
   "execution_count": 77,
   "id": "37dad4c6",
   "metadata": {},
   "outputs": [
    {
     "data": {
      "text/plain": [
       "Pipeline(steps=[('columntransformer',\n",
       "                 ColumnTransformer(remainder='passthrough',\n",
       "                                   transformers=[('onehotencoder',\n",
       "                                                  OneHotEncoder(categories=[array(['Audi A3', 'Audi A3 35', 'Audi A4 2.0', 'Audi A4 35', 'Audi A6 35',\n",
       "       'Audi Q3', 'Audi Q3 2.0', 'BMW 3 Series', 'BMW 5 Series',\n",
       "       'BMW X1 sDrive20d', 'BMW X5 xDrive', 'BMW X5 xDrive30d',\n",
       "       'Chevrolet Beat LS', 'Chevrolet Beat LT', 'Chevrolet Captiva 2.0',...\n",
       "       'Honda', 'Hyundai', 'Jaguar', 'Jeep', 'Kia', 'Land Rover', 'MG',\n",
       "       'Mahindra', 'Maruti', 'Mercedes', 'Mini Cooper', 'Mitsubishi',\n",
       "       'Nissan', 'Porsche', 'Renault', 'Skoda', 'Tata', 'Toyota',\n",
       "       'Volkswagen', 'Volvo'], dtype=object),\n",
       "                                                                            array(['CNG', 'Diesel', 'Electric', 'Hybrid', 'LPG', 'Petrol',\n",
       "       'Petrol + CNG'], dtype=object)]),\n",
       "                                                  ['Model', 'Brand',\n",
       "                                                   'Fuel_type'])])),\n",
       "                ('linearregression', LinearRegression())])"
      ]
     },
     "execution_count": 77,
     "metadata": {},
     "output_type": "execute_result"
    }
   ],
   "source": [
    "X_train,X_test,y_train,y_test=train_test_split(X,y,test_size=0.1,random_state=np.argmax(scores))\n",
    "lr=LinearRegression()\n",
    "pipe=make_pipeline(column_trans,lr)\n",
    "pipe.fit(X_train,y_train)"
   ]
  },
  {
   "cell_type": "code",
   "execution_count": 78,
   "id": "4cab83fe",
   "metadata": {},
   "outputs": [
    {
     "data": {
      "text/plain": [
       "0.9153656254638508"
      ]
     },
     "execution_count": 78,
     "metadata": {},
     "output_type": "execute_result"
    }
   ],
   "source": [
    "y_pred=pipe.predict(X_test)\n",
    "r2_score(y_test,y_pred)"
   ]
  },
  {
   "cell_type": "code",
   "execution_count": 79,
   "id": "22f994f2",
   "metadata": {},
   "outputs": [
    {
     "data": {
      "text/plain": [
       "0.9314920296777818"
      ]
     },
     "execution_count": 79,
     "metadata": {},
     "output_type": "execute_result"
    }
   ],
   "source": [
    "y_pred_train=pipe.predict(X_train)\n",
    "r2_score(y_train,y_pred_train)"
   ]
  },
  {
   "cell_type": "code",
   "execution_count": 84,
   "id": "a70e4e23",
   "metadata": {},
   "outputs": [
    {
     "data": {
      "text/plain": [
       "array([[2371867.87657122]])"
      ]
     },
     "execution_count": 84,
     "metadata": {},
     "output_type": "execute_result"
    }
   ],
   "source": [
    "np.exp(pipe.predict(pd.DataFrame(columns=X_test.columns,data=np.array(['Audi Q3 2.0','Audi','Diesel',5,266]).reshape(1,5))))"
   ]
  },
  {
   "cell_type": "code",
   "execution_count": 85,
   "id": "155b45b4",
   "metadata": {},
   "outputs": [],
   "source": [
    "#import pickle"
   ]
  },
  {
   "cell_type": "code",
   "execution_count": 86,
   "id": "3a4554c8",
   "metadata": {},
   "outputs": [],
   "source": [
    "#pickle.dump(pipe,open('RegressionModel_car.pkl','wb'))"
   ]
  },
  {
   "cell_type": "code",
   "execution_count": null,
   "id": "c5b86a7b",
   "metadata": {},
   "outputs": [],
   "source": []
  }
 ],
 "metadata": {
  "kernelspec": {
   "display_name": "Python 3 (ipykernel)",
   "language": "python",
   "name": "python3"
  },
  "language_info": {
   "codemirror_mode": {
    "name": "ipython",
    "version": 3
   },
   "file_extension": ".py",
   "mimetype": "text/x-python",
   "name": "python",
   "nbconvert_exporter": "python",
   "pygments_lexer": "ipython3",
   "version": "3.10.7"
  }
 },
 "nbformat": 4,
 "nbformat_minor": 5
}
